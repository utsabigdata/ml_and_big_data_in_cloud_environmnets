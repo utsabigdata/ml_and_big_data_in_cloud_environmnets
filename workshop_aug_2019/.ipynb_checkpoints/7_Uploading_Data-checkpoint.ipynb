{
 "cells": [
  {
   "cell_type": "markdown",
   "metadata": {},
   "source": [
    "# Loading Data into Elasticsearch\n",
    "\n",
    "### Elasticsearch can obtain data from multible sources. The information can be delivered by Logstash (A pipeline and Preprocessing Engine) or directly using Elasticsearch API.\n",
    "\n",
    "### In this notebook we will present a simple example for uploading CSV files.\n",
    "<img src=\"img/es_data_collection.png\">"
   ]
  },
  {
   "cell_type": "code",
   "execution_count": null,
   "metadata": {},
   "outputs": [],
   "source": [
    "!pip install --user elasticsearch-loader\n",
    "!pip install --user elasticsearch\n",
    "!pip install --user elasticsearch_dsl"
   ]
  },
  {
   "cell_type": "code",
   "execution_count": 6,
   "metadata": {},
   "outputs": [],
   "source": [
    "import elasticsearch\n",
    "import csv\n",
    "import pandas as pd\n",
    "from elasticsearch_dsl import Search\n",
    "from elasticsearch_dsl import Q"
   ]
  },
  {
   "cell_type": "markdown",
   "metadata": {},
   "source": [
    "### We use \"elasticsearch_loader\" to communicate with our elasticsearch cluster and upload the file \"students.csv\". Before you run, make sure you replace \"gtp860219\" placed after \"csv-itesm-\" with your initials and any \"YYMMDD\""
   ]
  },
  {
   "cell_type": "code",
   "execution_count": 7,
   "metadata": {},
   "outputs": [
    {
     "name": "stdout",
     "output_type": "stream",
     "text": [
      "{'es_host': '149.165.170.209:9200', 'index': 'csv-itesm-gtp860219', 'type': 'student-records', 'bulk_size': 500, 'verify_certs': False, 'use_ssl': False, 'ca_certs': None, 'http_auth': None, 'delete': False, 'update': False, 'progress': False, 'id_field': None, 'as_child': False, 'with_retry': False, 'index_settings_file': None, 'timeout': 10.0, 'encoding': 'utf-8', 'es_conn': <Elasticsearch([{'host': '149.165.170.209', 'port': 9200}])>}\n",
      "\u001b[?25l  [####################################]\u001b[?25h\n"
     ]
    }
   ],
   "source": [
    "!elasticsearch_loader --es-host 149.165.170.209:9200 --index csv-itesm-gtp860219 --type student-records csv files/students.csv"
   ]
  },
  {
   "cell_type": "markdown",
   "metadata": {},
   "source": [
    "### Let us collect the data that we have uploaded to elastic search by communicating with it's API. "
   ]
  },
  {
   "cell_type": "code",
   "execution_count": 8,
   "metadata": {},
   "outputs": [
    {
     "name": "stdout",
     "output_type": "stream",
     "text": [
      "<Response: [<Hit(csv-itesm-gtp860219/9t5xf2sBz3JRcf9d6vmp): {'\\ufeffname': 'Mike', 'major': 'Engineering'}>, <Hit(csv-itesm-gtp860219/feQHgGsBz3JRcf9d5ulA): {'\\ufeffname': 'Mike', 'major': 'Engineering'}>, <Hit(csv-itesm-gtp860219/Et-Ef2sBz3JRcf9dXbQ3): {'\\ufeffname': 'Mike', 'major': 'Engineering'}>]>\n",
      "Total number of logs: 3 \n",
      "\n",
      "<Response: [<Hit(csv-itesm-gtp860219/9t5xf2sBz3JRcf9d6vmp): {'\\ufeffname': 'Mike', 'major': 'Engineering'}>, <Hit(csv-itesm-gtp860219/995xf2sBz3JRcf9d6vmp): {'\\ufeffname': 'Erin', 'major': 'Computer Science'}>, <Hit(csv-itesm-gtp860219/feQHgGsBz3JRcf9d5ulA): {'\\ufeffname': 'Mike', 'major': 'Engineering'}>, <Hit(csv-itesm-gtp860219/E9-Ef2sBz3JRcf9dXbQ3): {'\\ufeffname': 'Erin', 'major': 'Computer Science'}>, <Hit(csv-itesm-gtp860219/fuQHgGsBz3JRcf9d5ulA): {'\\ufeffname': 'Erin', 'major': 'Computer Science'}>, <Hit(csv-itesm-gtp860219/Et-Ef2sBz3JRcf9dXbQ3): {'\\ufeffname': 'Mike', 'major': 'Engineering'}>]>\n",
      "Total number of logs: 6 \n",
      "\n"
     ]
    }
   ],
   "source": [
    "es = elasticsearch.Elasticsearch([\"149.165.170.209:9200\"])\n",
    "#res = Search(using=es, index=\"csv-itesm*\").query(\"match\", username=\"Erin\")\n",
    "#res = Search(using=es, index=\"csv-itesm*\")\\\n",
    "#        .query('bool', filter=Q('exists', field='name') & Q('exists', field='major'))\n",
    "\n",
    "# Print all records matching the index csv-itesm where the name is Erin\n",
    "res = Search(using=es, index=\"csv-itesm*\").query(\"match\", major=\"Engineering\")\n",
    "response = res.execute()\n",
    "print(response)\n",
    "\n",
    "# Let us print the number of records obtained\n",
    "print(\"Total number of logs: %i \\n\" %response.hits.total)\n",
    "\n",
    "# Print All resords matching the index csv-itesm\n",
    "res = Search(using=es, index=\"csv-itesm*\")\n",
    "response = res.execute()\n",
    "print(response)\n",
    "\n",
    "# Let us print the number of records obtained\n",
    "print(\"Total number of logs: %i \\n\" %response.hits.total)"
   ]
  },
  {
   "cell_type": "markdown",
   "metadata": {},
   "source": [
    "### We will now create a Dataframe to place the collected data."
   ]
  },
  {
   "cell_type": "code",
   "execution_count": 9,
   "metadata": {},
   "outputs": [],
   "source": [
    "student_df = pd.DataFrame(((hit[\"\\ufeffname\"],hit['major']) for hit in res.scan()),\\\n",
    "                    columns=['name','major'])"
   ]
  },
  {
   "cell_type": "markdown",
   "metadata": {},
   "source": [
    "### Print the first values in the dataframe"
   ]
  },
  {
   "cell_type": "code",
   "execution_count": 12,
   "metadata": {},
   "outputs": [
    {
     "data": {
      "text/html": [
       "<div>\n",
       "<style scoped>\n",
       "    .dataframe tbody tr th:only-of-type {\n",
       "        vertical-align: middle;\n",
       "    }\n",
       "\n",
       "    .dataframe tbody tr th {\n",
       "        vertical-align: top;\n",
       "    }\n",
       "\n",
       "    .dataframe thead th {\n",
       "        text-align: right;\n",
       "    }\n",
       "</style>\n",
       "<table border=\"1\" class=\"dataframe\">\n",
       "  <thead>\n",
       "    <tr style=\"text-align: right;\">\n",
       "      <th></th>\n",
       "      <th>name</th>\n",
       "      <th>major</th>\n",
       "    </tr>\n",
       "  </thead>\n",
       "  <tbody>\n",
       "    <tr>\n",
       "      <th>0</th>\n",
       "      <td>Mike</td>\n",
       "      <td>Engineering</td>\n",
       "    </tr>\n",
       "    <tr>\n",
       "      <th>1</th>\n",
       "      <td>Erin</td>\n",
       "      <td>Computer Science</td>\n",
       "    </tr>\n",
       "    <tr>\n",
       "      <th>2</th>\n",
       "      <td>Mike</td>\n",
       "      <td>Engineering</td>\n",
       "    </tr>\n",
       "    <tr>\n",
       "      <th>3</th>\n",
       "      <td>Erin</td>\n",
       "      <td>Computer Science</td>\n",
       "    </tr>\n",
       "    <tr>\n",
       "      <th>4</th>\n",
       "      <td>Erin</td>\n",
       "      <td>Computer Science</td>\n",
       "    </tr>\n",
       "  </tbody>\n",
       "</table>\n",
       "</div>"
      ],
      "text/plain": [
       "   name             major\n",
       "0  Mike       Engineering\n",
       "1  Erin  Computer Science\n",
       "2  Mike       Engineering\n",
       "3  Erin  Computer Science\n",
       "4  Erin  Computer Science"
      ]
     },
     "execution_count": 12,
     "metadata": {},
     "output_type": "execute_result"
    }
   ],
   "source": [
    "student_df.head()"
   ]
  }
 ],
 "metadata": {
  "kernelspec": {
   "display_name": "Python 3",
   "language": "python",
   "name": "python3"
  },
  "language_info": {
   "codemirror_mode": {
    "name": "ipython",
    "version": 3
   },
   "file_extension": ".py",
   "mimetype": "text/x-python",
   "name": "python",
   "nbconvert_exporter": "python",
   "pygments_lexer": "ipython3",
   "version": "3.6.8"
  }
 },
 "nbformat": 4,
 "nbformat_minor": 4
}

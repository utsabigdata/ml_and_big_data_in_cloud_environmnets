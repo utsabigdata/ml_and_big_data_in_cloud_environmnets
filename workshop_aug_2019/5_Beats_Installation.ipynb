{
 "cells": [
  {
   "cell_type": "markdown",
   "metadata": {},
   "source": [
    "## Data Shippers\n",
    "\n",
    "#### Beats is the platform for single-purpose data shippers. They send data from hundreds or thousands of machines and systems to Logstash or Elasticsearch.\n",
    "\n",
    "#### In this module we will guide the user through the installation of the beats listed below which allos the  collection of various types of host data:\n",
    "\n",
    "* Filebeat\n",
    "* Packetbeat\n",
    "* Metricbeat\n",
    "* Auditbeat\n",
    "* Heartbeat"
   ]
  },
  {
   "cell_type": "markdown",
   "metadata": {},
   "source": [
    "### Filebeat installation"
   ]
  },
  {
   "cell_type": "code",
   "execution_count": null,
   "metadata": {},
   "outputs": [],
   "source": [
    "%%bash\n",
    "sudo apt install -y filebeat"
   ]
  },
  {
   "cell_type": "markdown",
   "metadata": {},
   "source": [
    "### Disable default configuration"
   ]
  },
  {
   "cell_type": "code",
   "execution_count": null,
   "metadata": {},
   "outputs": [],
   "source": [
    "%%bash\n",
    "sudo sed -i '28 s/^/#/' /etc/filebeat/filebeat.yml\n",
    "sudo sed -i '117 s/^/#/' /etc/filebeat/filebeat.yml\n",
    "sudo sed -i '148 s/^/#/' /etc/filebeat/filebeat.yml\n",
    "sudo sed -i '150 s/^/#/' /etc/filebeat/filebeat.yml\n",
    "sudo sed -i '176,178 s/^/#/' /etc/filebeat/filebeat.yml"
   ]
  },
  {
   "cell_type": "markdown",
   "metadata": {},
   "source": [
    "### Enable Configuration to Communicate Filebeat with Logstash\n",
    "\n",
    "##### As we want to establish a connection between filebeat and logstash, we must recall that we have secured all communication with logstash using ssl. Therefore, any beat that seeks to communicate with logstash must provide the certificate we have generated in the logstash node.\n",
    "\n",
    "##### In this node, the certificate is located in \"/etc/pki/tls/certs/logstash-forwarder.crt\". Before setting up the necessary configuration for filebeat to connect with logstash, we will first validate if we can stablish a connection to logstash using the following command:\n",
    "\n",
    "~~~\n",
    "telnet <LOGSTASH-IP-ADDRESS> 5044\n",
    "~~~\n",
    "\n",
    "##### You will get a message stating \"Connected to .....\"  To exit press CTRL+] and then quit or CTRL+D\n",
    "\n",
    "##### Now let us validate teh certificate by using the following command:\n",
    "\n",
    "~~~\n",
    "curl -v --cacert /etc/pki/tls/certs/logstash-forwarder.crt <LOGSTASH-IP-ADDRESS>:5044\n",
    "~~~\n",
    "\n",
    "##### Let us now proceed to set the log files we would like filebeat to track and ship to logstash, set the ip address and port in which logstash will receive our data, and define the location of our certificate that will be used to secure communication between filebeat and logstash."
   ]
  },
  {
   "cell_type": "code",
   "execution_count": null,
   "metadata": {},
   "outputs": [],
   "source": [
    "%%bash\n",
    "\n",
    "sudo sed -i \"28i \\ \\ \\ \\ - /var/log/auth.log\" /etc/filebeat/filebeat.yml\n",
    "sudo sed -i \"29i \\ \\ \\ \\ - /var/log/syslog\" /etc/filebeat/filebeat.yml\n",
    "\n",
    "sudo sed -i '160 s/^#//g' /etc/filebeat/filebeat.yml \n",
    "\n",
    "export ls_ip=\"10.1.1.14\"\n",
    "\n",
    "sudo sed -i \"162i \\ \\ hosts: [\\\"$ls_ip:5044\\\"]\" /etc/filebeat/filebeat.yml\n",
    "\n",
    "sudo sed -i '167i \\ \\ ssl.certificate_authorities: [\"/etc/pki/tls/certs/logstash-forwarder.crt\"]' /etc/filebeat/filebeat.yml"
   ]
  },
  {
   "cell_type": "markdown",
   "metadata": {},
   "source": [
    "### Enabling the Filebeat's system module.\n",
    "\n",
    "##### Filebeat supports different modules that allows us to collect and parse logs created by Ubuntu's system loggin service. To enable the system module, run the command below:"
   ]
  },
  {
   "cell_type": "code",
   "execution_count": null,
   "metadata": {},
   "outputs": [],
   "source": [
    "%%bash\n",
    "sudo filebeat modules enable system"
   ]
  },
  {
   "cell_type": "markdown",
   "metadata": {},
   "source": [
    "##### You can verify if the system module has been enables by using the following command:\n",
    "\n",
    "~~~\n",
    "sudo filebeat modules list\n",
    "~~~"
   ]
  },
  {
   "cell_type": "markdown",
   "metadata": {},
   "source": [
    "### Loading Index templates\n",
    "\n",
    "##### An index is a collection of documents that share similar characteristics. We will load an index template for documents stored in filebeat indexes that will be applied automatically when a new index is created. Let us list the current templates in elasticsearch by using the following command:\n",
    "\n",
    "~~~\n",
    "curl -u elastic:elasticsiem -XGET '<ELASTICSEARCH-IP-ADDRESS>:9200/_template?filter_path=*.version&pretty'\n",
    "~~~"
   ]
  },
  {
   "cell_type": "code",
   "execution_count": null,
   "metadata": {},
   "outputs": [],
   "source": [
    "%%bash\n",
    "curl -u elastic:elasticsiem -XGET '<ELASTICSEARCH-IP-ADDRESS>:9200/_template?filter_path=*.version&pretty'"
   ]
  },
  {
   "cell_type": "markdown",
   "metadata": {},
   "source": [
    "##### As we can observe, there are no templates defined for filebeat indexes. Let us load the filebeat template into elasticsearch by using the following command:"
   ]
  },
  {
   "cell_type": "code",
   "execution_count": null,
   "metadata": {},
   "outputs": [],
   "source": [
    "%%bash\n",
    "cd ~\n",
    "sudo /usr/share/filebeat/bin/filebeat export template > filebeat.template.json -c /etc/filebeat/filebeat.yml\n",
    "curl -u elastic:elasticsiem -H 'Content-Type: application/json' -XPUT '<ELASTICSEARCH-IP-ADDRESS>:9200/_template/filebeat-7.3.0' -d@/home/ubuntu/filebeat.template.json\n",
    "curl -u elastic:elasticsiem -XGET '<ELASTICSEARCH-IP-ADDRESS>:9200/_template/' | jq 'keys'\n",
    "    "
   ]
  },
  {
   "cell_type": "markdown",
   "metadata": {},
   "source": [
    "### Installing Kibana dashboards for Filebeat"
   ]
  },
  {
   "cell_type": "code",
   "execution_count": null,
   "metadata": {},
   "outputs": [],
   "source": [
    "%%bash\n",
    "sudo filebeat setup -e \\\n",
    "  -E output.logstash.enabled=false \\\n",
    "  -E output.elasticsearch.hosts=['<ELASTICSEARCH-IP-ADDRESS>:9200'] \\\n",
    "  -E setup.kibana.host=<KIBANA-IP-ADDRESS>:5601 \\\n",
    "  -E output.elasticsearch.username=elastic \\\n",
    "  -E output.elasticsearch.password=elasticsiem"
   ]
  },
  {
   "cell_type": "markdown",
   "metadata": {},
   "source": [
    "### Start Filebeat"
   ]
  },
  {
   "cell_type": "code",
   "execution_count": null,
   "metadata": {},
   "outputs": [],
   "source": [
    "%%bash\n",
    "sudo systemctl start filebeat\n",
    "sudo systemctl enable filebeat"
   ]
  },
  {
   "cell_type": "markdown",
   "metadata": {},
   "source": [
    "### Alternatively, you can run Filebeat in debug mode by using the following command:\n",
    "\n",
    "~~~\n",
    "sudo /usr/share/filebeat/bin/filebeat -e -d \"publish\" -c /etc/filebeat/filebeat.yml\n",
    "~~~"
   ]
  },
  {
   "cell_type": "markdown",
   "metadata": {},
   "source": [
    "### Backloging in filebeat\n",
    "\n",
    "\n",
    "##### In teh case that you change some of the filters that you set on logstash and would like to pre-process your data again, you will need to delete all indexes where your data was stored, stop filebeat, delete filebeat's registry file, and start filebeat again.\n",
    "\n",
    "##### To delete filebeat registry, you can use the following command:\n",
    "\n",
    "~~~\n",
    "sudo rm -R /var/lib/filebeat/registry\n",
    "~~~\n",
    "\n",
    "##### Note: Whenever you process again your data, your receiving logs will have a timestamp stating the time the log was received by elasticsearch and not the time at which the log was generated. The timestamp can be replaced by adding a rule on logstash that takes the timestamp stated at the beggining of each log and replace teh default timestamp (receiving time) set by elasticsearch.\n"
   ]
  },
  {
   "cell_type": "markdown",
   "metadata": {},
   "source": [
    "### Packetbeat Installation"
   ]
  },
  {
   "cell_type": "code",
   "execution_count": null,
   "metadata": {},
   "outputs": [],
   "source": [
    "%%bash\n",
    "sudo apt install -y packetbeat"
   ]
  },
  {
   "cell_type": "markdown",
   "metadata": {},
   "source": [
    "### Disable default configuration\n",
    "\n",
    "##### The default packetbeat configuration enables monitoring certain transaction porotocols such as icmp, ampq, cassandra, among others. We will disable unwanted protocols by commenting the protocol and list of ports and monitor only the following: icmp, dhcpv4, dns, http, and tls."
   ]
  },
  {
   "cell_type": "code",
   "execution_count": null,
   "metadata": {},
   "outputs": [],
   "source": [
    "%%bash\n",
    "sudo sed -i 's/^\\- type\\: amqp/#&/' /etc/packetbeat/packetbeat.yml\n",
    "sudo sed -i 's/^\\ \\ ports\\: \\[5672\\]/#&/' /etc/packetbeat/packetbeat.yml\n",
    "sudo sed -i 's/^\\- type\\: cassandra/#&/' /etc/packetbeat/packetbeat.yml\n",
    "sudo sed -i 's/^\\ \\ ports\\: \\[9042\\]/#&/' /etc/packetbeat/packetbeat.yml\n",
    "sudo sed -i 's/^\\- type\\: memcache/#&/' /etc/packetbeat/packetbeat.yml\n",
    "sudo sed -i 's/^\\ \\ ports\\: \\[11211\\]/#&/' /etc/packetbeat/packetbeat.yml\n",
    "sudo sed -i 's/^\\- type\\: mysql/#&/' /etc/packetbeat/packetbeat.yml\n",
    "sudo sed -i 's/^\\ \\ ports\\: \\[3306,3307\\]/#&/' /etc/packetbeat/packetbeat.yml\n",
    "sudo sed -i 's/^\\- type\\: pgsql/#&/' /etc/packetbeat/packetbeat.yml\n",
    "sudo sed -i 's/^\\ \\ ports\\: \\[5432\\]/#&/' /etc/packetbeat/packetbeat.yml\n",
    "sudo sed -i 's/^\\- type\\: redis/#&/' /etc/packetbeat/packetbeat.yml\n",
    "sudo sed -i 's/^\\ \\ ports\\: \\[6379\\]/#&/' /etc/packetbeat/packetbeat.yml\n",
    "sudo sed -i 's/^\\- type\\: thrift/#&/' /etc/packetbeat/packetbeat.yml\n",
    "sudo sed -i 's/^\\ \\ ports\\: \\[9090\\]/#&/' /etc/packetbeat/packetbeat.yml\n",
    "sudo sed -i 's/^\\- type\\: mongodb/#&/' /etc/packetbeat/packetbeat.yml\n",
    "sudo sed -i 's/^\\ \\ ports\\: \\[27017\\]/#&/' /etc/packetbeat/packetbeat.yml\n",
    "sudo sed -i 's/^\\- type\\: nfs/#&/' /etc/packetbeat/packetbeat.yml\n",
    "sudo sed -i 's/^\\ \\ ports\\: \\[2049\\]/#&/' /etc/packetbeat/packetbeat.yml\n",
    "sudo sed -i 's/^output.elasticsearch\\:/#&/' /etc/packetbeat/packetbeat.yml\n",
    "sudo sed -i 's/^\\ \\ hosts\\: \\[\\\"localhost\\:9200\\\"\\]/#&/' /etc/packetbeat/packetbeat.yml"
   ]
  },
  {
   "cell_type": "markdown",
   "metadata": {},
   "source": [
    "### Enable communication with logstash"
   ]
  },
  {
   "cell_type": "code",
   "execution_count": null,
   "metadata": {},
   "outputs": [],
   "source": [
    "%%bash\n",
    "export ls_ip=\"10.1.1.14\"\n",
    "\n",
    "#Enable Logstash output\n",
    "sudo sed -i '/output.logstash\\:/s/^#//g' /etc/packetbeat/packetbeat.yml\n",
    "\n",
    "#Uncomment and Change Logstash IP ADDRESS\n",
    "sudo sed -i \"s/#hosts\\: \\[\\\"localhost\\:5044\\\"\\]/hosts\\: \\[\\\"$ls_ip\\:5044\\\"\\]/g\" /etc/packetbeat/packetbeat.yml\n",
    "sudo sed -i 's/#ssl\\.certificate_authorities\\: \\[\"\\/etc\\/pki\\/root\\/ca\\.pem\"\\]/\\ ssl\\.certificate\\_authorities\\: \\[\"\\/etc\\/pki\\/tls\\/certs\\/logstash\\-forwarder\\.crt\"\\]/g' /etc/packetbeat/packetbeat.yml\n"
   ]
  },
  {
   "cell_type": "markdown",
   "metadata": {},
   "source": [
    "### Test Configuration and Connectivity to Logstash"
   ]
  },
  {
   "cell_type": "code",
   "execution_count": null,
   "metadata": {},
   "outputs": [],
   "source": [
    "%%bash\n",
    "sudo /usr/share/packetbeat/bin/packetbeat test config -c /etc/packetbeat/packetbeat.yml\n",
    "sudo /usr/share/packetbeat/bin/packetbeat test output -c /etc/packetbeat/packetbeat.yml"
   ]
  },
  {
   "cell_type": "markdown",
   "metadata": {},
   "source": [
    "### Add Kibana Dashboards for Packetbeat"
   ]
  },
  {
   "cell_type": "code",
   "execution_count": null,
   "metadata": {},
   "outputs": [],
   "source": [
    "%%bash\n",
    "sudo packetbeat setup -e \\\n",
    "  -E output.logstash.enabled=false \\\n",
    "  -E output.elasticsearch.hosts=['<ELASTICSEARCH-IP-ADDRESS>:9200'] \\\n",
    "  -E setup.kibana.host=<KIBANA-IP-ADDRESS>:5601 \\\n",
    "  -E output.elasticsearch.username=elastic \\\n",
    "  -E output.elasticsearch.password=elasticsiem"
   ]
  },
  {
   "cell_type": "markdown",
   "metadata": {},
   "source": [
    "### Add template from packetbeat to elasticsearch"
   ]
  },
  {
   "cell_type": "code",
   "execution_count": null,
   "metadata": {},
   "outputs": [],
   "source": [
    "%%bash\n",
    "\n",
    "sudo packetbeat setup --index-management \\\n",
    "  -E output.logstash.enabled=false \\\n",
    "  -E 'output.elasticsearch.hosts=[\"<ELASTICSEARCH-IP-ADDRESS>:9200\"]' \\\n",
    "  -E output.elasticsearch.username=elastic \\\n",
    "  -E output.elasticsearch.password=elasticsiem\n"
   ]
  },
  {
   "cell_type": "markdown",
   "metadata": {},
   "source": [
    "### List Loaded Templates"
   ]
  },
  {
   "cell_type": "code",
   "execution_count": null,
   "metadata": {},
   "outputs": [],
   "source": [
    "%%bash\n",
    "curl -u elastic:elasticsiem -XGET '<ELASTICSEARCH-IP-ADDRESS>:9200/_template/' | jq 'keys'"
   ]
  },
  {
   "cell_type": "markdown",
   "metadata": {},
   "source": [
    "### Start Packetbeat"
   ]
  },
  {
   "cell_type": "code",
   "execution_count": null,
   "metadata": {},
   "outputs": [],
   "source": [
    "%%bash\n",
    "sudo systemctl start packetbeat\n",
    "sudo systemctl enable packetbeat"
   ]
  },
  {
   "cell_type": "markdown",
   "metadata": {},
   "source": [
    "### Alternatively, you can run Filebeat in debug mode by using the following command:\n",
    "\n",
    "~~~\n",
    "sudo /usr/share/packetbeat/bin/packetbeat -e -d \"publish\" -c /etc/packetbeat/packetbeat.yml\n",
    "~~~"
   ]
  }
 ],
 "metadata": {
  "kernelspec": {
   "display_name": "Python 3",
   "language": "python",
   "name": "python3"
  },
  "language_info": {
   "codemirror_mode": {
    "name": "ipython",
    "version": 3
   },
   "file_extension": ".py",
   "mimetype": "text/x-python",
   "name": "python",
   "nbconvert_exporter": "python",
   "pygments_lexer": "ipython3",
   "version": "3.6.8"
  }
 },
 "nbformat": 4,
 "nbformat_minor": 4
}

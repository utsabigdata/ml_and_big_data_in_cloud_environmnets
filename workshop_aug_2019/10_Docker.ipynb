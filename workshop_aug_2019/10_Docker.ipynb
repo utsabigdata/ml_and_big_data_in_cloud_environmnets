{
 "cells": [
  {
   "cell_type": "markdown",
   "metadata": {},
   "source": [
    "### DOCKER\n",
    "\n",
    "##### Docker is an application that allows you to create containers and manage applications in them. In contrast with virtual machines, containers are more resource-friendly but are more dependent on the host operating system.\n",
    "\n",
    "##### In this module the students will learn the following:\n",
    "\n",
    "* Install Docker on Ubuntu 18.04\n",
    "* Work with containers\n",
    "* Download Docker Images\n",
    "\n",
    "### Docker Installation\n",
    "\n",
    "##### Let us start by updating our system and install pre-requisite packages to allow apt use packages over HTTPS"
   ]
  },
  {
   "cell_type": "code",
   "execution_count": null,
   "metadata": {},
   "outputs": [],
   "source": [
    "%%bash\n",
    "sudo apt update\n",
    "sudo apt install -y apt-transport-https ca-certificates curl software-properties-common"
   ]
  },
  {
   "cell_type": "markdown",
   "metadata": {},
   "source": [
    "### GPG key for the official Docker repository"
   ]
  },
  {
   "cell_type": "code",
   "execution_count": null,
   "metadata": {},
   "outputs": [],
   "source": [
    "%%bash\n",
    "curl -fsSL https://download.docker.com/linux/ubuntu/gpg | sudo apt-key add -"
   ]
  },
  {
   "cell_type": "markdown",
   "metadata": {},
   "source": [
    "### ADD APT sources for the Docker Repository"
   ]
  },
  {
   "cell_type": "code",
   "execution_count": null,
   "metadata": {},
   "outputs": [],
   "source": [
    "%%bash\n",
    "sudo add-apt-repository \"deb [arch=amd64] https://download.docker.com/linux/ubuntu bionic stable\""
   ]
  },
  {
   "cell_type": "markdown",
   "metadata": {},
   "source": [
    "### Update your System"
   ]
  },
  {
   "cell_type": "code",
   "execution_count": null,
   "metadata": {},
   "outputs": [],
   "source": [
    "%%bash\n",
    "sudo apt update"
   ]
  },
  {
   "cell_type": "markdown",
   "metadata": {},
   "source": [
    "### Validate that you are about to install from teh Docker repo and not from Ubuntu's repo."
   ]
  },
  {
   "cell_type": "code",
   "execution_count": null,
   "metadata": {},
   "outputs": [],
   "source": [
    "%%bash\n",
    "apt-cache policy docker-ce"
   ]
  },
  {
   "cell_type": "markdown",
   "metadata": {},
   "source": [
    "### Let us now install Dockert"
   ]
  },
  {
   "cell_type": "code",
   "execution_count": null,
   "metadata": {},
   "outputs": [],
   "source": [
    "%%bash\n",
    "sudo apt install -y docker-ce"
   ]
  },
  {
   "cell_type": "markdown",
   "metadata": {},
   "source": [
    "### Validate if Docker is running"
   ]
  },
  {
   "cell_type": "code",
   "execution_count": null,
   "metadata": {},
   "outputs": [],
   "source": [
    "%%bash\n",
    "sudo systemctl status docker"
   ]
  },
  {
   "cell_type": "markdown",
   "metadata": {},
   "source": [
    "### Explore the list of available Docker subcommands\n",
    "\n",
    "##### You can explore the details of available options for each subcommand using the following syntax:\n",
    "\n",
    "~~~\n",
    "docker docker-subcommand --help\n",
    "~~~"
   ]
  },
  {
   "cell_type": "code",
   "execution_count": null,
   "metadata": {},
   "outputs": [],
   "source": [
    "%%bash\n",
    "sudo docker "
   ]
  },
  {
   "cell_type": "markdown",
   "metadata": {},
   "source": [
    "### Obtain system-wide information"
   ]
  },
  {
   "cell_type": "code",
   "execution_count": null,
   "metadata": {},
   "outputs": [],
   "source": [
    "%%bash\n",
    "sudo docker info"
   ]
  },
  {
   "cell_type": "markdown",
   "metadata": {},
   "source": [
    "### Searching and Downloading Docker images\n",
    "\n",
    "##### Docker containers are built from Docker images which by default are downloaded from the Docker Hub. Any user can host their images in Docker Hub. Most Linux distributions generate their images and upload them into the Hub as well.\n",
    "\n",
    "### Searching for Docker images\n",
    "\n",
    "##### In the OFFICIAL column, OK indicates an image built and supported by the company behind the project."
   ]
  },
  {
   "cell_type": "code",
   "execution_count": null,
   "metadata": {},
   "outputs": [],
   "source": [
    "%%bash\n",
    "sudo docker search ubuntu"
   ]
  },
  {
   "cell_type": "markdown",
   "metadata": {},
   "source": [
    "### Download tyhe official ubuntu image"
   ]
  },
  {
   "cell_type": "code",
   "execution_count": null,
   "metadata": {},
   "outputs": [],
   "source": [
    "%%bash\n",
    "sudo docker pull ubuntu"
   ]
  },
  {
   "cell_type": "markdown",
   "metadata": {},
   "source": [
    "### List the Docker Images we have downloaded to our system by using the following command:"
   ]
  },
  {
   "cell_type": "code",
   "execution_count": null,
   "metadata": {},
   "outputs": [],
   "source": [
    "%%bash\n",
    "sudo docker images"
   ]
  },
  {
   "cell_type": "markdown",
   "metadata": {},
   "source": [
    "### Create a Docker Image from a Container you can use the following:\n"
   ]
  },
  {
   "cell_type": "code",
   "execution_count": 2,
   "metadata": {},
   "outputs": [
    {
     "name": "stdout",
     "output_type": "stream",
     "text": [
      "069d9f02205018b703a298a1ebad08f1c248a6778a393db6c5de2cb4b73dd5ec\n"
     ]
    }
   ],
   "source": [
    "%%bash\n",
    "sudo docker create ubuntu:my_tag"
   ]
  },
  {
   "cell_type": "markdown",
   "metadata": {},
   "source": [
    "### Let us now run a container usiong the ubuntu image\n",
    "\n",
    "##### In your terminal, type command below for launching an interactive shell access into the container:\n",
    "\n",
    "~~~\n",
    "sudo docker run -it ubuntu\n",
    "~~~\n",
    "\n",
    "##### You will get the following command prompt meaning that you are inside your container and anything you execute inside it will only take place inside the container\n",
    "\n",
    "~~~\n",
    "root@fde5831f2016:/# \n",
    "~~~\n",
    "\n",
    "##### Now let us get the release we are using:\n",
    "\n",
    "~~~\n",
    "uname -a\n",
    "~~~\n",
    "\n",
    "##### Install nodejs\n",
    "\n",
    "~~~\n",
    "apt update\n",
    "apt install -y nodejs\n",
    "node -v\n",
    "~~~\n",
    "\n",
    "##### Type exit to exit the container. After exit type \"node -v\" in your terminal. What did you get?\n",
    "\n",
    "\n"
   ]
  },
  {
   "cell_type": "markdown",
   "metadata": {},
   "source": [
    "### Let us list the containers we have created with the following command:"
   ]
  },
  {
   "cell_type": "code",
   "execution_count": 4,
   "metadata": {},
   "outputs": [
    {
     "name": "stdout",
     "output_type": "stream",
     "text": [
      "CONTAINER ID        IMAGE               COMMAND             CREATED             STATUS                      PORTS               NAMES\n",
      "5a14d7a96209        ubuntu              \"/bin/bash\"         11 minutes ago      Exited (0) 3 minutes ago                        charming_villani\n",
      "069d9f022050        ubuntu:19.04        \"/bin/bash\"         15 minutes ago      Created                                         clever_moore\n",
      "1f54b70e17a4        ubuntu:19.04        \"/bin/bash\"         17 minutes ago      Created                                         romantic_galois\n",
      "fde5831f2016        ubuntu              \"/bin/bash\"         21 minutes ago      Exited (0) 18 minutes ago                       bold_thompson\n"
     ]
    }
   ],
   "source": [
    "%%bash\n",
    "sudo docker ps --all"
   ]
  },
  {
   "cell_type": "markdown",
   "metadata": {},
   "source": [
    "### You can list the latest container with the followig command:"
   ]
  },
  {
   "cell_type": "code",
   "execution_count": 5,
   "metadata": {},
   "outputs": [
    {
     "name": "stdout",
     "output_type": "stream",
     "text": [
      "CONTAINER ID        IMAGE               COMMAND             CREATED             STATUS                     PORTS               NAMES\n",
      "5a14d7a96209        ubuntu              \"/bin/bash\"         16 minutes ago      Exited (0) 8 minutes ago                       charming_villani\n"
     ]
    }
   ],
   "source": [
    "%%bash\n",
    "sudo docker ps -l"
   ]
  },
  {
   "cell_type": "markdown",
   "metadata": {},
   "source": [
    "### Starting and Stopping containers\n",
    "\n",
    "##### As shown by the two previous commands, you can check the status of the current containers. You can also start, stop, amd remove them by using the ID or NAME assigned to each container with the following:"
   ]
  },
  {
   "cell_type": "code",
   "execution_count": null,
   "metadata": {},
   "outputs": [],
   "source": [
    "%%bash\n",
    "sudo docker start <CONTAINER-ID>\n",
    "sudo docker stop <CONTAINER-ID>\n",
    "sudo docker rm <CONTAINER-ID>"
   ]
  },
  {
   "cell_type": "markdown",
   "metadata": {},
   "source": [
    "### Stoping Docker service\n",
    "\n",
    "##### When you are done with docker, you can stop the Docker service by using the following command:"
   ]
  },
  {
   "cell_type": "code",
   "execution_count": null,
   "metadata": {},
   "outputs": [],
   "source": [
    "%%bash\n",
    "sudo service docker stop"
   ]
  }
 ],
 "metadata": {
  "kernelspec": {
   "display_name": "Python 3",
   "language": "python",
   "name": "python3"
  },
  "language_info": {
   "codemirror_mode": {
    "name": "ipython",
    "version": 3
   },
   "file_extension": ".py",
   "mimetype": "text/x-python",
   "name": "python",
   "nbconvert_exporter": "python",
   "pygments_lexer": "ipython3",
   "version": "3.6.8"
  }
 },
 "nbformat": 4,
 "nbformat_minor": 4
}

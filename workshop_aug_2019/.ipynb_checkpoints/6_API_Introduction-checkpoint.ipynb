{
 "cells": [
  {
   "cell_type": "markdown",
   "metadata": {},
   "source": [
    "# Big Data in Elasticsearch\n",
    "\n",
    "### \"ElasticSearch is an open source, RESTful search engine built on top of Apache Lucene and released under an Apache license. It is Java-based and can search and index document files in diverse formats.\"\n",
    "\n",
    "### A distributed data repository with fast-search, visualization, and data processing capabilities."
   ]
  },
  {
   "cell_type": "markdown",
   "metadata": {},
   "source": [
    "# System Architecture"
   ]
  },
  {
   "cell_type": "markdown",
   "metadata": {},
   "source": [
    "![title](img/es_architecture.jpeg)"
   ]
  },
  {
   "cell_type": "markdown",
   "metadata": {},
   "source": [
    "# Communicating with Elasticsearch's API using CURL\n",
    "### In computer programming, an Application Programming Interface (API) is a set of subroutine definitions, communication protocols, and tools for building software.\n",
    "![title](img/api_collaboration.png)"
   ]
  },
  {
   "cell_type": "markdown",
   "metadata": {},
   "source": [
    "### CURL is a computer software project providing a library and command-line tool for transferring data using various protocols"
   ]
  },
  {
   "cell_type": "code",
   "execution_count": 17,
   "metadata": {},
   "outputs": [
    {
     "data": {
      "text/plain": [
       "['  % Total    % Received % Xferd  Average Speed   Time    Time     Time  Current',\n",
       " '                                 Dload  Upload   Total   Spent    Left  Speed',\n",
       " '',\n",
       " '  0     0    0     0    0     0      0      0 --:--:-- --:--:-- --:--:--     0',\n",
       " '  0     0    0     0    0     0      0      0 --:--:-- --:--:-- --:--:--     0',\n",
       " '  0     0    0     0    0     0      0      0 --:--:-- --:--:-- --:--:--     0',\n",
       " 'HTTP/1.1 200 OK',\n",
       " 'Date: Fri, 21 Jun 2019 14:10:59 GMT',\n",
       " 'Expires: -1',\n",
       " 'Cache-Control: private, max-age=0',\n",
       " 'Content-Type: text/html; charset=ISO-8859-1',\n",
       " 'P3P: CP=\"This is not a P3P policy! See g.co/p3phelp for more info.\"',\n",
       " 'Server: gws',\n",
       " 'X-XSS-Protection: 0',\n",
       " 'X-Frame-Options: SAMEORIGIN',\n",
       " 'Set-Cookie: 1P_JAR=2019-06-21-14; expires=Sun, 21-Jul-2019 14:10:59 GMT; path=/; domain=.google.com',\n",
       " 'Set-Cookie: NID=186=Q4Irx-gZQftkxt4AiW4P-O_BF_7Ki8vLf-U3ul-OY4Izaf2RCFKnk-XGJtnMryUVZ6xMX7Lqi1dPfRtJel_t8Ix8TSYnqPJGhquHcaLbYl5J_9YwiF6SzFJHgWZRz3b_nePErOc6Gbad9oFD36_5hp2rHw9qCjryE6H8ERRaIXM; expires=Sat, 21-Dec-2019 14:10:59 GMT; path=/; domain=.google.com; HttpOnly',\n",
       " 'Transfer-Encoding: chunked',\n",
       " 'Accept-Ranges: none',\n",
       " 'Vary: Accept-Encoding',\n",
       " '']"
      ]
     },
     "execution_count": 17,
     "metadata": {},
     "output_type": "execute_result"
    }
   ],
   "source": [
    "%%system\n",
    "curl -I http://www.google.com"
   ]
  },
  {
   "cell_type": "markdown",
   "metadata": {},
   "source": [
    "# Types of CURL requests\n",
    "### GET : The GET method is used to retrieve information from the given server using a given URI.\n",
    "\n",
    "### HEAD: Same as GET, but it transfers the status line and the header section only.\n",
    "\n",
    "### POST: A POST request is used to send data to the server using HTML forms.\n",
    "\n",
    "### PUT: Replaces all the current representations of the target resource with the uploaded content.\n",
    "\n",
    "### DELETE: Removes all the current representations of the target resource given by URI."
   ]
  },
  {
   "cell_type": "code",
   "execution_count": 19,
   "metadata": {},
   "outputs": [],
   "source": [
    "# First contact with Elasticsearch"
   ]
  },
  {
   "cell_type": "code",
   "execution_count": 20,
   "metadata": {},
   "outputs": [
    {
     "data": {
      "text/plain": [
       "['  % Total    % Received % Xferd  Average Speed   Time    Time     Time  Current',\n",
       " '                                 Dload  Upload   Total   Spent    Left  Speed',\n",
       " '',\n",
       " '  0     0    0     0    0     0      0      0 --:--:-- --:--:-- --:--:--     0',\n",
       " '100   499  100   499    0     0  49114      0 --:--:-- --:--:-- --:--:-- 49900',\n",
       " '{',\n",
       " '  \"name\" : \"elk-master-node\",',\n",
       " '  \"cluster_name\" : \"elk-cluster\",',\n",
       " '  \"cluster_uuid\" : \"nXeHPmuiS7qDC9XzGij4fw\",',\n",
       " '  \"version\" : {',\n",
       " '    \"number\" : \"6.4.2\",',\n",
       " '    \"build_flavor\" : \"default\",',\n",
       " '    \"build_type\" : \"deb\",',\n",
       " '    \"build_hash\" : \"04711c2\",',\n",
       " '    \"build_date\" : \"2018-09-26T13:34:09.098244Z\",',\n",
       " '    \"build_snapshot\" : false,',\n",
       " '    \"lucene_version\" : \"7.4.0\",',\n",
       " '    \"minimum_wire_compatibility_version\" : \"5.6.0\",',\n",
       " '    \"minimum_index_compatibility_version\" : \"5.0.0\"',\n",
       " '  },',\n",
       " '  \"tagline\" : \"You Know, for Search\"',\n",
       " '}']"
      ]
     },
     "execution_count": 20,
     "metadata": {},
     "output_type": "execute_result"
    }
   ],
   "source": [
    "%%system\n",
    "curl -u admin:iot-security -XGET 149.165.170.209:9200"
   ]
  }
 ],
 "metadata": {
  "kernelspec": {
   "display_name": "Python 3",
   "language": "python",
   "name": "python3"
  },
  "language_info": {
   "codemirror_mode": {
    "name": "ipython",
    "version": 3
   },
   "file_extension": ".py",
   "mimetype": "text/x-python",
   "name": "python",
   "nbconvert_exporter": "python",
   "pygments_lexer": "ipython3",
   "version": "3.6.8"
  }
 },
 "nbformat": 4,
 "nbformat_minor": 4
}

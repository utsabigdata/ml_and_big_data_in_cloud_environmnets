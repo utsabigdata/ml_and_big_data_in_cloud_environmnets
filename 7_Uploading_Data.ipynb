{
 "cells": [
  {
   "cell_type": "markdown",
   "metadata": {},
   "source": [
    "# Loading Data into Elasticsearch\n",
    "\n",
    "### Elasticsearch can obtain data from multible sources. The information can be delivered by Logstash (A pipeline and Preprocessing Engine) or directly using Elasticsearch API.\n",
    "\n",
    "### In this notebook we will present a simple example for uploading CSV files.\n",
    "<img src=\"img/es_data_collection.png\">"
   ]
  },
  {
   "cell_type": "code",
   "execution_count": null,
   "metadata": {},
   "outputs": [],
   "source": [
    "%%bash\n",
    "sudo apt install python3-pip"
   ]
  },
  {
   "cell_type": "code",
   "execution_count": null,
   "metadata": {},
   "outputs": [],
   "source": [
    "%%bash\n",
    "pip3 install --user elasticsearch-loader\n",
    "pip3 install --user elasticsearch\n",
    "pip3 install --user elasticsearch_dsl"
   ]
  },
  {
   "cell_type": "code",
   "execution_count": 2,
   "metadata": {},
   "outputs": [
    {
     "name": "stdout",
     "output_type": "stream",
     "text": [
      "Collecting pandas\n",
      "  Using cached https://files.pythonhosted.org/packages/1d/9a/7eb9952f4b4d73fbd75ad1d5d6112f407e695957444cb695cbb3cdab918a/pandas-0.25.0-cp36-cp36m-manylinux1_x86_64.whl\n",
      "Collecting numpy>=1.13.3 (from pandas)\n",
      "  Using cached https://files.pythonhosted.org/packages/19/b9/bda9781f0a74b90ebd2e046fde1196182900bd4a8e1ea503d3ffebc50e7c/numpy-1.17.0-cp36-cp36m-manylinux1_x86_64.whl\n",
      "Collecting python-dateutil>=2.6.1 (from pandas)\n",
      "  Using cached https://files.pythonhosted.org/packages/41/17/c62faccbfbd163c7f57f3844689e3a78bae1f403648a6afb1d0866d87fbb/python_dateutil-2.8.0-py2.py3-none-any.whl\n",
      "Collecting pytz>=2017.2 (from pandas)\n",
      "  Using cached https://files.pythonhosted.org/packages/87/76/46d697698a143e05f77bec5a526bf4e56a0be61d63425b68f4ba553b51f2/pytz-2019.2-py2.py3-none-any.whl\n",
      "Collecting six>=1.5 (from python-dateutil>=2.6.1->pandas)\n",
      "  Using cached https://files.pythonhosted.org/packages/73/fb/00a976f728d0d1fecfe898238ce23f502a721c0ac0ecfedb80e0d88c64e9/six-1.12.0-py2.py3-none-any.whl\n",
      "Installing collected packages: numpy, six, python-dateutil, pytz, pandas\n",
      "Successfully installed numpy-1.17.0 pandas-0.25.0 python-dateutil-2.8.0 pytz-2019.2 six-1.12.0\n"
     ]
    }
   ],
   "source": [
    "%%bash\n",
    "pip3 install --user pandas"
   ]
  },
  {
   "cell_type": "code",
   "execution_count": 3,
   "metadata": {},
   "outputs": [
    {
     "name": "stderr",
     "output_type": "stream",
     "text": [
      "/usr/lib/python3/dist-packages/requests/__init__.py:80: RequestsDependencyWarning: urllib3 (1.25.3) or chardet (3.0.4) doesn't match a supported version!\n",
      "  RequestsDependencyWarning)\n"
     ]
    }
   ],
   "source": [
    "import elasticsearch\n",
    "import csv\n",
    "import pandas as pd\n",
    "from elasticsearch_dsl import Search\n",
    "from elasticsearch_dsl import Q"
   ]
  },
  {
   "cell_type": "markdown",
   "metadata": {},
   "source": [
    "##### We use \"elasticsearch_loader\" to communicate with our elasticsearch cluster and upload the file \"students.csv\". Before you run, make sure you replace \"gtp860219\" placed after \"csv-itesm-\" with your initials and any \"YYMMDD\""
   ]
  },
  {
   "cell_type": "code",
   "execution_count": 9,
   "metadata": {},
   "outputs": [
    {
     "name": "stdout",
     "output_type": "stream",
     "text": [
      "{'es_host': 'localhost:9200', 'http_auth': 'logstash_internal:elasticsiem', 'index': 'csv-itesm-gtp860219', 'type': 'student-records', 'bulk_size': 500, 'verify_certs': False, 'use_ssl': False, 'ca_certs': None, 'delete': False, 'update': False, 'progress': False, 'id_field': None, 'as_child': False, 'with_retry': False, 'index_settings_file': None, 'timeout': 10.0, 'encoding': 'utf-8', 'keys': [], 'es_conn': <Elasticsearch([{'host': 'localhost', 'port': 9200}])>}\n"
     ]
    },
    {
     "name": "stderr",
     "output_type": "stream",
     "text": [
      "/usr/lib/python3/dist-packages/requests/__init__.py:80: RequestsDependencyWarning: urllib3 (1.25.3) or chardet (3.0.4) doesn't match a supported version!\n",
      "  RequestsDependencyWarning)\n"
     ]
    }
   ],
   "source": [
    "%%bash\n",
    "cd /home/ubuntu/ml_and_big_data_in_cloud_environmnets\n",
    "elasticsearch_loader --es-host localhost:9200 \\\n",
    "    --http-auth logstash_internal:elasticsiem \\\n",
    "    --index csv-itesm-gtp860219 \\\n",
    "    --type student-records csv /home/ubuntu/ml_and_big_data_in_cloud_environmnets/files/students.csv    \n",
    "    "
   ]
  },
  {
   "cell_type": "markdown",
   "metadata": {},
   "source": [
    "### Let us collect the data that we have uploaded to elastic search by communicating with it's API. "
   ]
  },
  {
   "cell_type": "code",
   "execution_count": 14,
   "metadata": {},
   "outputs": [
    {
     "name": "stdout",
     "output_type": "stream",
     "text": [
      "<Response: [<Hit(csv-itesm-gtp860219/JRt8bWwB5flVJT0cuCUW): {'\\ufeffname': 'Mike', 'major': 'Engineering'}>]>\n",
      "<Response: [<Hit(csv-itesm-gtp860219/JRt8bWwB5flVJT0cuCUW): {'\\ufeffname': 'Mike', 'major': 'Engineering'}>, <Hit(csv-itesm-gtp860219/Jht8bWwB5flVJT0cuCUW): {'\\ufeffname': 'Erin', 'major': 'Computer Science'}>]>\n"
     ]
    }
   ],
   "source": [
    "#es = elasticsearch.Elasticsearch([\"localhost:9200\"],http_auth=('elastic', 'elasticsiem'),scheme=\"https\",port=443)\n",
    "es = elasticsearch.Elasticsearch([\"elastic:elasticsiem@localhost:9200\"])\n",
    "#res = Search(using=es, index=\"csv-itesm*\").query(\"match\", username=\"Erin\")\n",
    "#res = Search(using=es, index=\"csv-itesm*\")\\\n",
    "#        .query('bool', filter=Q('exists', field='name') & Q('exists', field='major'))\n",
    "\n",
    "# Print all records matching the index csv-itesm where the name is Erin\n",
    "res = Search(using=es, index=\"csv-itesm*\").query(\"match\", major=\"Engineering\")\n",
    "response = res.execute()\n",
    "print(response)\n",
    "\n",
    "# Let us print the number of records obtained\n",
    "#print(\"Total number of logs: %i \\n\" %(response.hits.total))\n",
    "\n",
    "# Print All resords matching the index csv-itesm\n",
    "res = Search(using=es, index=\"csv-itesm*\")\n",
    "response = res.execute()\n",
    "print(response)\n",
    "\n",
    "# Let us print the number of records obtained\n",
    "#print(\"Total number of logs: %i \\n\" %response.hits.total)"
   ]
  },
  {
   "cell_type": "markdown",
   "metadata": {},
   "source": [
    "### We will now create a Dataframe to place the collected data."
   ]
  },
  {
   "cell_type": "code",
   "execution_count": 15,
   "metadata": {},
   "outputs": [],
   "source": [
    "student_df = pd.DataFrame(((hit[\"\\ufeffname\"],hit['major']) for hit in res.scan()),\\\n",
    "                    columns=['name','major'])"
   ]
  },
  {
   "cell_type": "markdown",
   "metadata": {},
   "source": [
    "### Print the first values in the dataframe"
   ]
  },
  {
   "cell_type": "code",
   "execution_count": 16,
   "metadata": {},
   "outputs": [
    {
     "data": {
      "text/html": [
       "<div>\n",
       "<style scoped>\n",
       "    .dataframe tbody tr th:only-of-type {\n",
       "        vertical-align: middle;\n",
       "    }\n",
       "\n",
       "    .dataframe tbody tr th {\n",
       "        vertical-align: top;\n",
       "    }\n",
       "\n",
       "    .dataframe thead th {\n",
       "        text-align: right;\n",
       "    }\n",
       "</style>\n",
       "<table border=\"1\" class=\"dataframe\">\n",
       "  <thead>\n",
       "    <tr style=\"text-align: right;\">\n",
       "      <th></th>\n",
       "      <th>name</th>\n",
       "      <th>major</th>\n",
       "    </tr>\n",
       "  </thead>\n",
       "  <tbody>\n",
       "    <tr>\n",
       "      <th>0</th>\n",
       "      <td>Mike</td>\n",
       "      <td>Engineering</td>\n",
       "    </tr>\n",
       "    <tr>\n",
       "      <th>1</th>\n",
       "      <td>Erin</td>\n",
       "      <td>Computer Science</td>\n",
       "    </tr>\n",
       "  </tbody>\n",
       "</table>\n",
       "</div>"
      ],
      "text/plain": [
       "   name             major\n",
       "0  Mike       Engineering\n",
       "1  Erin  Computer Science"
      ]
     },
     "execution_count": 16,
     "metadata": {},
     "output_type": "execute_result"
    }
   ],
   "source": [
    "student_df.head()"
   ]
  }
 ],
 "metadata": {
  "kernelspec": {
   "display_name": "Python 3",
   "language": "python",
   "name": "python3"
  },
  "language_info": {
   "codemirror_mode": {
    "name": "ipython",
    "version": 3
   },
   "file_extension": ".py",
   "mimetype": "text/x-python",
   "name": "python",
   "nbconvert_exporter": "python",
   "pygments_lexer": "ipython3",
   "version": "3.6.8"
  }
 },
 "nbformat": 4,
 "nbformat_minor": 4
}

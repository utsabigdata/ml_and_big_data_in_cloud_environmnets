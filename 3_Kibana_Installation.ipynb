{
 "cells": [
  {
   "cell_type": "markdown",
   "metadata": {},
   "source": [
    "## Kibana Installation"
   ]
  },
  {
   "cell_type": "markdown",
   "metadata": {},
   "source": [
    "### Installing Kibana\n",
    "\n",
    "##### Kibana is an open source data visualization plugin for Elasticsearch. It provides visualization capabilities on top of the content indexed on an Elasticsearch cluster. Users can create bar, line and scatter plots, or pie charts and maps on top of large volumes of data. \n",
    "\n",
    "##### According to the official documentation, we must install Kibana only after installing Elasticsearch to ensure that the components depending on each product are in place."
   ]
  },
  {
   "cell_type": "code",
   "execution_count": null,
   "metadata": {},
   "outputs": [],
   "source": [
    "%%bash\n",
    "sudo apt install -y kibana"
   ]
  },
  {
   "cell_type": "markdown",
   "metadata": {},
   "source": [
    "##### Now we will change the permissions of a specific directory to prevent kibana from collisionin with x-pack."
   ]
  },
  {
   "cell_type": "code",
   "execution_count": null,
   "metadata": {},
   "outputs": [],
   "source": [
    "%%bash\n",
    "sudo chmod =rwx,g+s /usr/share/kibana/optimize/bundles"
   ]
  },
  {
   "cell_type": "markdown",
   "metadata": {},
   "source": [
    "### Edit Kibana's configuration file\n",
    "\n",
    "We would like to edit some of teh default configuration set in Kibana's configuration file to define our host's IP address which will be used for presenting the web interface on port 5601. The default IP is set to the one associated to localhost. Leaving this default seeting will not work. In addition, we need to provide kibana with the kibana's user credentials set previously."
   ]
  },
  {
   "cell_type": "code",
   "execution_count": null,
   "metadata": {},
   "outputs": [],
   "source": [
    "%%bash\n",
    "temp_ens3=$(ip addr show ens3 | grep -Po 'inet \\K[\\d.]+')\n",
    "sudo sed -i \"2i$temp_ens3 $HOSTNAME\" /etc/hosts \n",
    "sudo sed -i \"8iserver.host: $temp_ens3\" /etc/kibana/kibana.yml \n",
    "sudo sed -i '49ielasticsearch.username: \"kibana\"' /etc/kibana/kibana.yml \n",
    "sudo sed -i '50ielasticsearch.password: \"elasticsiem\"' /etc/kibana/kibana.yml "
   ]
  },
  {
   "cell_type": "markdown",
   "metadata": {},
   "source": [
    "### Start and enable Kibana"
   ]
  },
  {
   "cell_type": "code",
   "execution_count": null,
   "metadata": {},
   "outputs": [],
   "source": [
    "%%bash\n",
    "sudo systemctl enable kibana\n",
    "sudo systemctl start kibana"
   ]
  },
  {
   "cell_type": "markdown",
   "metadata": {},
   "source": [
    "##### Note: We encourage you to install additionall plugins such as Vega and Network using the commands below. Some of the ones stated in the following URL are still not available for our current Kibana version 7.2.0\n",
    "\n",
    "https://www.elastic.co/guide/en/kibana/current/known-plugins.html"
   ]
  },
  {
   "cell_type": "code",
   "execution_count": null,
   "metadata": {},
   "outputs": [],
   "source": [
    "#%%bash\n",
    "#sudo /usr/share/kibana/bin/kibana-plugin install https://github.com/nyurik/kibana-vega-vis/releases/download/v1.2.0/vega_vis-1.2.0--for-Kibana-6.2.4.zip --allow-root\n",
    "#sudo -u kibana /usr/share/kibana/bin/kibana-plugin install vega"
   ]
  },
  {
   "cell_type": "markdown",
   "metadata": {},
   "source": [
    "##### By default kibana presents it's web interface on port 5601. We will use a reverse proxy to forward traffic to port 80. To achieve this, we must first install NGINS and set it as our reverse proxy."
   ]
  },
  {
   "cell_type": "code",
   "execution_count": null,
   "metadata": {},
   "outputs": [],
   "source": [
    "%%bash\n",
    "sudo apt install -y -q nginx"
   ]
  },
  {
   "cell_type": "markdown",
   "metadata": {},
   "source": [
    "### Seting up an Administrative kibana user using SSL\n",
    "\n",
    "##### We will start by creating an \"admin\" account using ssl. The command presented below will require a password and store it in the \"/etc/nginx/htpasswd.users\" directory. Type the following command in the terminal and confirm your passowrd\n",
    "\n",
    "~~~~\n",
    "echo \"admin:`openssl passwd -apr1`\" | sudo tee -a /etc/nginx/htpasswd.users\n",
    "~~~~\n",
    "\n",
    "##### We can verify if the password has been saved by checking the contents of the destination file using the following command:"
   ]
  },
  {
   "cell_type": "code",
   "execution_count": null,
   "metadata": {},
   "outputs": [],
   "source": [
    "%%bash\n",
    "sudo cat /etc/nginx/htpasswd.users"
   ]
  },
  {
   "cell_type": "markdown",
   "metadata": {},
   "source": [
    "### Configure NGINX\n",
    "\n",
    "NGINX cofinguration can be a little bit tricky; due to this, we will copy a template from the files directory and set your hostname and your local IP in its configuration file. This file is created in the \"etc/nginx/sites-available/\" directory but nothing will happen even after setting the configuration. We need to generate a symbolic link from the \"/etc/nginx/sites-available/nginx_proxy\" file into the \"/etc/nginx/sites-enabled/\" directory. NGINX will read the files in the sites-enabled make the setup according to the files in it."
   ]
  },
  {
   "cell_type": "code",
   "execution_count": null,
   "metadata": {},
   "outputs": [],
   "source": [
    "%%bash\n",
    "HOSTNAME=hostname -f\n",
    "temp_ens3=$(ip addr show ens3 | grep -Po 'inet \\K[\\d.]+')\n",
    "\n",
    "sudo rm /etc/nginx/sites-available/default /etc/nginx/sites-enabled/default \n",
    "sudo cp files/default /etc/nginx/sites-available/ \n",
    "\n",
    "sudo sed -i \"s/<YOUR-HOSTNAME-HERE>/$HOSTNAME/g\" /etc/nginx/sites-available/default\n",
    "sudo sed -i \"s/<YOUR-IP-HERE>/$temp_ens3/g\" /etc/nginx/sites-available/default\n",
    "\n",
    "sudo ln -s /etc/nginx/sites-available/default /etc/nginx/sites-enabled/default\n",
    "\n",
    "sudo cat /etc/nginx/sites-available/default"
   ]
  },
  {
   "cell_type": "markdown",
   "metadata": {},
   "source": [
    "### Start and Enable NGINX"
   ]
  },
  {
   "cell_type": "code",
   "execution_count": null,
   "metadata": {},
   "outputs": [],
   "source": [
    "%%bash\n",
    "sudo nginx -t\n",
    "sudo systemctl start nginx\n",
    "sudo systemctl reload nginx\n",
    "sudo systemctl enable nginx"
   ]
  },
  {
   "cell_type": "markdown",
   "metadata": {},
   "source": [
    "##### What is going on? Now we have Kibana in the following two sites?\n",
    "\n",
    "~~~~\n",
    "<YOUR-PUBLIC-IP>:<5601>\n",
    "<YOUR-PUBLIC-IP>:<80>\n",
    "~~~~\n",
    "\n",
    "##### It happens that the native authentication is provided by X-Pack which is disabled by default. X-Pack security and machine learning are platinum features that expire after 30 days (trial license). Once this expires, your system will be completly exposed unless you provide authentication as we did. In addition, we need to secure assitional endpoint such as the REST API from the external network. To do so, we will install firewall in our system.\n",
    "\n",
    "##### As an example you can check the status of your elasticsearch from your local computer using your credentials because port 9200 is open:\n",
    "\n",
    "~~~~\n",
    "curl -u elastic:elasticsiem -XGET <ELASTICSEARCH-IP-ADDRESS>:9200\n",
    "~~~~"
   ]
  },
  {
   "cell_type": "markdown",
   "metadata": {},
   "source": [
    "### Let set a local firewall.\n",
    "\n",
    "##### Since there are some services wide open (and there will be more) to any actor who makes a request to them, we must setup a firewall that restricts unwanted traffic by setting some simple rules. For this purpose we will use the UFW firewall that is already installed in Ubuntu 18.04.\n",
    "\n",
    "##### The following table presents the ports we are interested on:\n",
    "\n",
    "### PORTS of Interest\n",
    "\n",
    "| Port | Protocol | Application |\n",
    "|------|----------|-------------|\n",
    "| 22 | TCP | SSH |\n",
    "| 53 | UDP | DNS |\n",
    "| 80 | TCP | HTTP |\n",
    "| 443 | TCP | HTTPS |\n",
    "| 3128 | TCP | Python PIP |\n",
    "| 5044 | TCP | Logstash Listening Port |\n",
    "| 5601 | TCP | Kibana |\n",
    "| 9200 | TCP | Elasticsearch REST API |\n",
    "| 9300 | TCP | Elasticsearch Transport Module |\n",
    "| 9600 | TCP | Logstash Monitoring API\n",
    "\n",
    "##### The following table presents the rules we expect to set in our firewall:\n",
    "\n",
    "### Expected Firewall Rules\n",
    "\n",
    "| Number | To | Action | From |\n",
    "|--------|----|--------|------|\n",
    "|[ 1] |22/tcp                     |ALLOW IN    |Anywhere|                  \n",
    "|[ 2] |Nginx Full                 |ALLOW IN    |Anywhere|                  \n",
    "|[ 3] |80/tcp                     |ALLOW IN    |Anywhere|                  \n",
    "|[ 4] |8888/tcp                   |ALLOW IN    |Anywhere|                  \n",
    "|[ 5] |443                        |ALLOW IN    |Anywhere|                  \n",
    "|[ 6] |5044                       |ALLOQ IN    |Anywhere|                  \n",
    "|[ 7] |5601                       |DENY IN     |Anywhere|                  \n",
    "|[ 8] |9200                       |DENY IN     |Anywhere|                  \n",
    "|[ 9] |9300                       |DENY IN     |Anywhere|                  \n",
    "|[10] |9600                       |DENY IN     |Anywhere|\n",
    "|[11] |53                         |ALLOW IN    |10.1.1.0/24|\n",
    "|[12] |3128                       |ALLOW IN    |Anywhere|\n",
    "\n",
    "##### Let us chech the current status of our internal firewall UFW."
   ]
  },
  {
   "cell_type": "code",
   "execution_count": null,
   "metadata": {},
   "outputs": [],
   "source": [
    "%%bash\n",
    "sudo ufw status"
   ]
  },
  {
   "cell_type": "markdown",
   "metadata": {},
   "source": [
    "##### We can observe that our firewall is currently inactive.\n",
    "##### By default, UFW is set to deny all incoming connections and allow all outgoing connections.\n",
    "\n",
    "### WARNING! You might get locked out of your system if you don't define some rules before enabling your firewall.\n",
    "\n",
    "##### Let us define some firewall rules of our interest in order to allow communication to go in and deny communication from going out through specific ports."
   ]
  },
  {
   "cell_type": "code",
   "execution_count": null,
   "metadata": {},
   "outputs": [],
   "source": [
    "%%bash\n",
    "sudo ufw allow ssh\n",
    "sudo ufw allow from 10.1.1.0/24 to any port 53\n",
    "sudo ufw allow 'Nginx Full'\n",
    "sudo ufw allow http/tcp\n",
    "sudo ufw allow 443\n",
    "sudo ufw allow 3128\n",
    "sudo ufw allow 5044\n",
    "sudo ufw deny 5601\n",
    "sudo ufw allow 8888/tcp\n",
    "sudo ufw deny 9200\n",
    "sudo ufw deny 9300\n",
    "sudo ufw deny 9600"
   ]
  },
  {
   "cell_type": "markdown",
   "metadata": {},
   "source": [
    "### Check the recently added rules"
   ]
  },
  {
   "cell_type": "code",
   "execution_count": null,
   "metadata": {},
   "outputs": [],
   "source": [
    "%%bash\n",
    "sudo ufw status\n",
    "sudo ufw show added"
   ]
  },
  {
   "cell_type": "markdown",
   "metadata": {},
   "source": [
    "### Enable your firewall\n",
    "\n",
    "##### Now that you have added new rules and validated that they have been set in our firewall, let us proceed to enable it with the following line:"
   ]
  },
  {
   "cell_type": "code",
   "execution_count": null,
   "metadata": {},
   "outputs": [],
   "source": [
    "%%bash\n",
    "sudo ufw enable"
   ]
  },
  {
   "cell_type": "markdown",
   "metadata": {},
   "source": [
    "### List the current active rules in your firewall using the following:"
   ]
  },
  {
   "cell_type": "code",
   "execution_count": null,
   "metadata": {},
   "outputs": [],
   "source": [
    "%%bash\n",
    "sudo ufw status numbered"
   ]
  },
  {
   "cell_type": "markdown",
   "metadata": {},
   "source": [
    "### We have now installed Elasticsearch, Kibana, and Secured our System using X-Pack Security and NGINX as a reverse proxy."
   ]
  }
 ],
 "metadata": {
  "kernelspec": {
   "display_name": "Python 3",
   "language": "python",
   "name": "python3"
  },
  "language_info": {
   "codemirror_mode": {
    "name": "ipython",
    "version": 3
   },
   "file_extension": ".py",
   "mimetype": "text/x-python",
   "name": "python",
   "nbconvert_exporter": "python",
   "pygments_lexer": "ipython3",
   "version": "3.6.8"
  }
 },
 "nbformat": 4,
 "nbformat_minor": 4
}

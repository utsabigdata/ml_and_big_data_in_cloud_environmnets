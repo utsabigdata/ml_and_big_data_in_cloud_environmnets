{
 "cells": [
  {
   "cell_type": "markdown",
   "metadata": {},
   "source": [
    "# Elasticsearch Installation\n",
    "\n",
    "## Contents\n",
    "\n",
    "* Download Elasticsearch public GPG Key and souces list\n",
    "* Installing Elasticsearch\n",
    "* Directory layout\n",
    "* Setting up initial configuration\n",
    "* Starting Elasticsearch\n",
    "* Setting security features\n",
    "* Checking status using teh REST API"
   ]
  },
  {
   "cell_type": "markdown",
   "metadata": {},
   "source": [
    "### Import Elasticsearch public GPG key into APT"
   ]
  },
  {
   "cell_type": "code",
   "execution_count": 1,
   "metadata": {},
   "outputs": [
    {
     "name": "stdout",
     "output_type": "stream",
     "text": [
      "OK\n"
     ]
    },
    {
     "name": "stderr",
     "output_type": "stream",
     "text": [
      "Warning: apt-key output should not be parsed (stdout is not a terminal)\n"
     ]
    }
   ],
   "source": [
    "%%bash\n",
    "wget -qO - https://artifacts.elastic.co/GPG-KEY-elasticsearch | sudo apt-key add -\n"
   ]
  },
  {
   "cell_type": "markdown",
   "metadata": {},
   "source": [
    "#### Validate previous step\n",
    "\n",
    "##### Validate that the gpg key has been added to your key ring with the following command:\n",
    "\n",
    "~~~~~\n",
    "sudo apt-key list\n",
    "~~~~~"
   ]
  },
  {
   "cell_type": "markdown",
   "metadata": {},
   "source": [
    "### Add Elastic source List\n",
    "##### Now, we will add Elastic source list to our system's sources.list.d directory. When making a system update, APT looks at this directory for new sources."
   ]
  },
  {
   "cell_type": "code",
   "execution_count": 2,
   "metadata": {},
   "outputs": [
    {
     "name": "stdout",
     "output_type": "stream",
     "text": [
      "deb https://artifacts.elastic.co/packages/7.x/apt stable main\n"
     ]
    }
   ],
   "source": [
    "%%bash\n",
    "echo \"deb https://artifacts.elastic.co/packages/7.x/apt stable main\" | sudo tee -a /etc/apt/sources.list.d/elastic-7.x.list"
   ]
  },
  {
   "cell_type": "markdown",
   "metadata": {},
   "source": [
    "#### Validate previous step\n",
    "\n",
    "##### We now need to confirm that we have successfully added the new source list into our sources.list.d:\n",
    "\n",
    "~~~~~\n",
    "sudo ls /etc/apt/sources.list.d\n",
    "\n",
    "sudo cat /etc/apt/sources.list.d/elastic-7.x.list \n",
    "~~~~~"
   ]
  },
  {
   "cell_type": "markdown",
   "metadata": {},
   "source": [
    "### Update your system and install elasticsearch"
   ]
  },
  {
   "cell_type": "code",
   "execution_count": 3,
   "metadata": {},
   "outputs": [
    {
     "name": "stdout",
     "output_type": "stream",
     "text": [
      "Get:1 http://security.ubuntu.com/ubuntu bionic-security InRelease [88.7 kB]\n",
      "Hit:2 http://zone-r2.clouds.archive.ubuntu.com/ubuntu bionic InRelease\n",
      "Get:3 http://security.ubuntu.com/ubuntu bionic-security/universe amd64 Packages [574 kB]\n",
      "Get:4 http://zone-r2.clouds.archive.ubuntu.com/ubuntu bionic-updates InRelease [88.7 kB]\n",
      "Get:5 http://zone-r2.clouds.archive.ubuntu.com/ubuntu bionic-backports InRelease [74.6 kB]\n",
      "Get:6 http://security.ubuntu.com/ubuntu bionic-security/universe Translation-en [187 kB]\n",
      "Get:7 http://zone-r2.clouds.archive.ubuntu.com/ubuntu bionic-updates/main amd64 Packages [694 kB]\n",
      "Get:8 http://zone-r2.clouds.archive.ubuntu.com/ubuntu bionic-updates/main Translation-en [254 kB]\n",
      "Get:9 http://zone-r2.clouds.archive.ubuntu.com/ubuntu bionic-updates/universe amd64 Packages [977 kB]\n",
      "Get:10 https://artifacts.elastic.co/packages/7.x/apt stable InRelease [5620 B]\n",
      "Get:11 http://zone-r2.clouds.archive.ubuntu.com/ubuntu bionic-updates/universe Translation-en [296 kB]\n",
      "Get:12 http://zone-r2.clouds.archive.ubuntu.com/ubuntu bionic-backports/universe amd64 Packages [3732 B]\n",
      "Get:13 https://artifacts.elastic.co/packages/7.x/apt stable/main amd64 Packages [10.0 kB]\n",
      "Fetched 3254 kB in 1s (2658 kB/s)\n",
      "Reading package lists...\n",
      "Building dependency tree...\n",
      "Reading state information...\n",
      "All packages are up to date.\n"
     ]
    },
    {
     "name": "stderr",
     "output_type": "stream",
     "text": [
      "\n",
      "WARNING: apt does not have a stable CLI interface. Use with caution in scripts.\n",
      "\n"
     ]
    }
   ],
   "source": [
    "%%bash\n",
    "sudo apt update"
   ]
  },
  {
   "cell_type": "code",
   "execution_count": 4,
   "metadata": {},
   "outputs": [
    {
     "name": "stdout",
     "output_type": "stream",
     "text": [
      "Reading package lists...\n",
      "Building dependency tree...\n",
      "Reading state information...\n",
      "The following package was automatically installed and is no longer required:\n",
      "  grub-pc-bin\n",
      "Use 'sudo apt autoremove' to remove it.\n",
      "The following NEW packages will be installed:\n",
      "  elasticsearch\n",
      "0 upgraded, 1 newly installed, 0 to remove and 0 not upgraded.\n",
      "Need to get 337 MB of archives.\n",
      "After this operation, 536 MB of additional disk space will be used.\n",
      "Get:1 https://artifacts.elastic.co/packages/7.x/apt stable/main amd64 elasticsearch amd64 7.2.0 [337 MB]\n",
      "Fetched 337 MB in 48s (7003 kB/s)\n",
      "Selecting previously unselected package elasticsearch.\n",
      "(Reading database ... 97247 files and directories currently installed.)\n",
      "Preparing to unpack .../elasticsearch_7.2.0_amd64.deb ...\n",
      "Creating elasticsearch group... OK\n",
      "Creating elasticsearch user... OK\n",
      "Unpacking elasticsearch (7.2.0) ...\n",
      "Processing triggers for ureadahead (0.100.0-21) ...\n",
      "Setting up elasticsearch (7.2.0) ...\n",
      "Created elasticsearch keystore in /etc/elasticsearch\n",
      "Processing triggers for systemd (237-3ubuntu10.24) ...\n",
      "Processing triggers for ureadahead (0.100.0-21) ...\n"
     ]
    },
    {
     "name": "stderr",
     "output_type": "stream",
     "text": [
      "\n",
      "WARNING: apt does not have a stable CLI interface. Use with caution in scripts.\n",
      "\n",
      "dpkg-preconfigure: unable to re-open stdin: No such file or directory\n"
     ]
    }
   ],
   "source": [
    "%%bash\n",
    "sudo apt install -y elasticsearch"
   ]
  },
  {
   "cell_type": "markdown",
   "metadata": {},
   "source": [
    "#### Reload the systemctl daemon\n",
    "##### After installing each application, it is necesary to reload systemd's darmon using the command below:\n",
    "\n",
    "~~~~\n",
    "sudo systemctl daemon-reload\n",
    "~~~~"
   ]
  },
  {
   "cell_type": "markdown",
   "metadata": {},
   "source": [
    "### Directory Layout\n",
    "\n",
    "| Type | Description | Location |\n",
    "|------|-------------|----------|\n",
    "| home |  Home of Elasticsearch installation | /usr/share/elasticsearch/ |\n",
    "| bin  | Binary scripts | /usr/share/elasticsearch/bin |\n",
    "| conf | Configuration files | /etc/elasticsearch |\n",
    "| conf | Environment variables (such as heap size) and file descriptors | /etc/default/elasticsearch |\n",
    "| data | Data files of each index/shard allocated on the node | /var/lib/elasticsearch |\n",
    "| logs | Log files | /var/log/elasticsearch |\n",
    "| plugins | Location of plugin files. Each plugin is contain in their own subdirectory | /usr/share/elasticsearch/plugins |\n",
    "\n",
    "##### You check the contents in some of these directories using:\n",
    "\n",
    "~~~~~\n",
    "sudo ls /PATH/TO/DIRECTORY\n",
    "~~~~~\n"
   ]
  },
  {
   "cell_type": "markdown",
   "metadata": {},
   "source": [
    "### Edit elasticsearch configuration\n",
    "\n",
    "##### Now that we have installed elasticsearch, we will edit Elasticsearch's main configuration file, \"elasticsearch.yml\". The configuration file is set in YAML format, meaning that indentations and spaces are very important. We will use nano to edit this file:\n",
    "\n",
    "~~~~~\n",
    "sudo nano /etc/elasticsearch/elasticsearch.yml\n",
    "~~~~~\n",
    "\n",
    "##### Once you access this file lets us take a look at some of the default configuration and change it to our convenience.\n",
    "\n",
    "##### Let is start by editing the binding address set in the network settings. We will uncomment and change the \"network.hosts\"\n",
    "\n",
    "##### From:\n",
    "\n",
    "~~~~~\n",
    "#network.host: 192.168.0.1\n",
    "~~~~~\n",
    "\n",
    "##### To:\n",
    "\n",
    "~~~~~\n",
    "network.host: localhost\n",
    "~~~~~\n",
    "\n",
    "##### We can also observe that the REST API from Elasticsearch listens on port 9200. Any user capable of sending a REST call to this port is able to obtain information from our Elasticsearch cluster (In our case a single node). Due to this, it is better to restrict external traffic to this port using a firewall.\n",
    "\n",
    "##### We can validate to which IP localhost is associated to by checking the configuration set on our system's hosts file:\n",
    "\n",
    "~~~~~\n",
    "sudo cat /etc/hosts\n",
    "~~~~~"
   ]
  },
  {
   "cell_type": "markdown",
   "metadata": {},
   "source": [
    "### Start Elasticsearch\n",
    "\n",
    "##### Now that we have edited our configuration file we can proceed to start elasticsearch"
   ]
  },
  {
   "cell_type": "code",
   "execution_count": 5,
   "metadata": {},
   "outputs": [],
   "source": [
    "%%bash\n",
    "sudo systemctl start elasticsearch"
   ]
  },
  {
   "cell_type": "markdown",
   "metadata": {},
   "source": [
    "### Enabling Elasticsearch service\n",
    "\n",
    "##### Next, let us proceed to enable elasticsearch in order to start up everytime your system boots up. The bootup configutarion file that sets what elasticsearch requires before launching, the home directory, configuration directory, the user under which the process will be launched is set in the file below. This is a file generated by elasticsearch in systemd which controls the boot pro\n",
    "\n",
    "~~~~~\n",
    "sudo cat /etc/systemd/system/multi-user.target.wants/elasticsearch.service\n",
    "~~~~~"
   ]
  },
  {
   "cell_type": "markdown",
   "metadata": {},
   "source": [
    "### Communicating with Elasticsearch\n",
    "\n",
    "##### As of now, we are able to communicate with elasticsearch using the REST API. As an example we can verify if it is running by typing the following command:\n",
    "\n",
    "~~~~~\n",
    "curl -X GET localhost:9200\n",
    "~~~~~\n"
   ]
  },
  {
   "cell_type": "code",
   "execution_count": 6,
   "metadata": {},
   "outputs": [
    {
     "name": "stderr",
     "output_type": "stream",
     "text": [
      "Synchronizing state of elasticsearch.service with SysV service script with /lib/systemd/systemd-sysv-install.\n",
      "Executing: /lib/systemd/systemd-sysv-install enable elasticsearch\n",
      "Created symlink /etc/systemd/system/multi-user.target.wants/elasticsearch.service → /usr/lib/systemd/system/elasticsearch.service.\n"
     ]
    }
   ],
   "source": [
    "%%bash\n",
    "sudo systemctl enable elasticsearch"
   ]
  },
  {
   "cell_type": "markdown",
   "metadata": {},
   "source": [
    "### Enable Elasticsearch Security Features\n",
    "\n",
    "##### As we could observe, we can easily send requests using the REST API to elasticsearch on port 9200. This is possible to do from any part of the world is the system is not secured properly. By default, elasticsearch basic and trial licenses have security features disabled by default. \n",
    "\n",
    "##### First of all, we will add the following lines to the elasticsearch configuration file to enable the security features:"
   ]
  },
  {
   "cell_type": "code",
   "execution_count": 7,
   "metadata": {},
   "outputs": [
    {
     "name": "stdout",
     "output_type": "stream",
     "text": [
      "#\n",
      "# --- Security Festures ---\n",
      "xpack.security.enabled: true\n"
     ]
    }
   ],
   "source": [
    "%%bash\n",
    "\n",
    "#sudo sed -i \"i88 # --- Security Festures ---\" /etc/elasticsearch/elasticsearch.yml\n",
    "#sudo sed -i \"i89 xpack.security.enabled: true\" /etc/elasticsearch/elasticsearch.yml\n",
    "\n",
    "echo \"#\" | sudo tee --append /etc/elasticsearch/elasticsearch.yml\n",
    "echo \"# --- Security Festures ---\" | sudo tee --append /etc/elasticsearch/elasticsearch.yml\n",
    "echo \"xpack.security.enabled: true\" | sudo tee --append /etc/elasticsearch/elasticsearch.yml"
   ]
  },
  {
   "cell_type": "markdown",
   "metadata": {},
   "source": [
    "##### In addition we want to enable single-node discovery as  we are deploying elasticsearch in a single node. In multi-node clusters, we must enable security features ine very single node and it is recommended to configure TLS for internode-communication to prevent other unknown nodes from being added to your cluster."
   ]
  },
  {
   "cell_type": "code",
   "execution_count": 8,
   "metadata": {},
   "outputs": [],
   "source": [
    "%%bash\n",
    "sudo sed -i \"68idiscovery.type: single-node\" /etc/elasticsearch/elasticsearch.yml\n",
    "sudo sed -i \"69i#\" /etc/elasticsearch/elasticsearch.yml"
   ]
  },
  {
   "cell_type": "markdown",
   "metadata": {},
   "source": [
    "### Generate passwords for built-in users\n",
    "##### By default, basic authentication features are enabled after enabling the security features. Before setting up any authentication, we must first make elasticsearch to load the new configuration by restarting it."
   ]
  },
  {
   "cell_type": "code",
   "execution_count": 9,
   "metadata": {},
   "outputs": [],
   "source": [
    "%%bash\n",
    "sudo systemctl restart elasticsearch"
   ]
  },
  {
   "cell_type": "markdown",
   "metadata": {},
   "source": [
    "##### Now let we will proceed to generate passwords for built-in users by typing the following command in our terminal:\n",
    "\n",
    "~~~~~\n",
    "/usr/share/elasticsearch/bin/elasticsearch-setup-passwords interactive\n",
    "~~~~~\n",
    "\n",
    "##### Through this process you will set a password for the following built-in users: elastic, apm_system, kibana, logstash_system, beats_system, and remote_monitoring_user.\n",
    "\n",
    "| User | Description |\n",
    "|------|-------------|\n",
    "| elastic |A built-in superuser. See Built-in roles. |\n",
    "| kibana | The user Kibana uses to connect and communicate with Elasticsearch. |\n",
    "| logstash_system | The user Logstash uses when storing monitoring information in Elasticsearch. |\n",
    "| beats_system | The user the Beats use when storing monitoring information in Elasticsearch. |\n",
    "| apm_system | The user the APM server uses when storing monitoring information in Elasticsearch. |\n",
    "| remote_monitoring_user |The user Metricbeat uses when collecting and storing monitoring information in Elasticsearch. It has the remote_monitoring_agent and remote_monitoring_collector built-in roles. |\n",
    "\n",
    "##### Alternativery, you can type the command below to generate a random passowrd for each user using the command below:\n",
    "\n",
    "~~~~\n",
    "/usr/share/elasticsearch/bin/elasticsearch-setup-passwords auto\n",
    "~~~~\n"
   ]
  },
  {
   "cell_type": "markdown",
   "metadata": {},
   "source": [
    "##### Now that we have set our authentication in elasticsearch, let us try again to connect to elasticsearch using the REST API.\n",
    "\n",
    "##### Type in your terminal the following:\n",
    "\n",
    "~~~~~\n",
    "curl -X GET localhost:9200\n",
    "~~~~~\n",
    "\n",
    "##### What results did you got?\n",
    "\n",
    "##### Now let us try using our new credentials using the elastic SUPERUSER\n",
    "\n",
    "~~~~\n",
    "curl -u elastic:elasticsiem -XGET localhost:9200\n",
    "~~~~\n",
    "\n",
    "##### By default elsaticsearch uses the internal native real to manage user's authentication.\n",
    "\n",
    "##### For more information about the built-in roles, authentication realms, and to set passwords for a specific users please see the following links.\n",
    "\n",
    "### References\n",
    "\n",
    "https://www.elastic.co/guide/en/elastic-stack-overview/current/built-in-roles.html\n",
    "\n",
    "https://www.elastic.co/guide/en/elastic-stack-overview/current/realms.html\n",
    "\n",
    "https://www.elastic.co/guide/en/elastic-stack-overview/current/built-in-users.html\n",
    "\n",
    "https://www.elastic.co/guide/en/beats/filebeat/current/directory-layout.html"
   ]
  },
  {
   "cell_type": "code",
   "execution_count": null,
   "metadata": {},
   "outputs": [],
   "source": []
  }
 ],
 "metadata": {
  "kernelspec": {
   "display_name": "Python 3",
   "language": "python",
   "name": "python3"
  },
  "language_info": {
   "codemirror_mode": {
    "name": "ipython",
    "version": 3
   },
   "file_extension": ".py",
   "mimetype": "text/x-python",
   "name": "python",
   "nbconvert_exporter": "python",
   "pygments_lexer": "ipython3",
   "version": "3.6.8"
  }
 },
 "nbformat": 4,
 "nbformat_minor": 4
}

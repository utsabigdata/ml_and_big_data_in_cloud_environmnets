{
 "cells": [
  {
   "cell_type": "markdown",
   "metadata": {},
   "source": [
    "## Data Shippers\n",
    "\n",
    "#### Beats is the platform for single-purpose data shippers. They send data from hundreds or thousands of machines and systems to Logstash or Elasticsearch.\n",
    "\n",
    "#### In this module we will guide the user through the installation of the beats listed below which allos the  collection of various types of host data:\n",
    "\n",
    "* Filebeat\n",
    "* Packetbeat\n",
    "* Metricbeat\n",
    "* Auditbeat\n",
    "* Heartbeat"
   ]
  },
  {
   "cell_type": "markdown",
   "metadata": {},
   "source": [
    "### Filebeat installation"
   ]
  },
  {
   "cell_type": "code",
   "execution_count": null,
   "metadata": {},
   "outputs": [],
   "source": [
    "%%bash\n",
    "sudo apt install -y filebeat"
   ]
  },
  {
   "cell_type": "markdown",
   "metadata": {},
   "source": [
    "### Disable default configuration"
   ]
  },
  {
   "cell_type": "code",
   "execution_count": null,
   "metadata": {},
   "outputs": [],
   "source": [
    "%%bash\n",
    "sudo sed -i '28 s/^/#/' /etc/filebeat/filebeat.yml\n",
    "sudo sed -i '117 s/^/#/' /etc/filebeat/filebeat.yml\n",
    "sudo sed -i '148 s/^/#/' /etc/filebeat/filebeat.yml\n",
    "sudo sed -i '150 s/^/#/' /etc/filebeat/filebeat.yml\n",
    "sudo sed -i '176,178 s/^/#/' /etc/filebeat/filebeat.yml"
   ]
  },
  {
   "cell_type": "markdown",
   "metadata": {},
   "source": [
    "### Enable Configuration to Communicate Filebeat with Logstash\n",
    "\n",
    "##### As we want to establish a connection between filebeat and logstash, we must recall that we have secured all communication with logstash using ssl. Therefore, any beat that seeks to communicate with logstash must provide the certificate we have generated in the logstash node.\n",
    "\n",
    "##### In this node, the certificate is located in \"/etc/pki/tls/certs/logstash-forwarder.crt\". Before setting up the necessary configuration for filebeat to connect with logstash, we will first validate if we can stablish a connection to logstash using the following command:\n",
    "\n",
    "~~~\n",
    "telnet <LOGSTASH-IP-ADDRESS> 5044\n",
    "~~~\n",
    "\n",
    "##### You will get a message stating \"Connected to .....\"  To exit press CTRL+] and then quit or CTRL+D\n",
    "\n",
    "##### Now let us validate teh certificate by using the following command:\n",
    "\n",
    "~~~\n",
    "curl -v --cacert /etc/pki/tls/certs/logstash-forwarder.crt <LOGSTASH-IP-ADDRESS>:5044\n",
    "~~~\n",
    "\n",
    "##### Let us now proceed to set the log files we would like filebeat to track and ship to logstash, set the ip address and port in which logstash will receive our data, and define the location of our certificate that will be used to secure communication between filebeat and logstash."
   ]
  },
  {
   "cell_type": "code",
   "execution_count": 5,
   "metadata": {},
   "outputs": [],
   "source": [
    "%%bash\n",
    "\n",
    "sudo sed -i \"28i \\ \\ \\ \\ - /var/log/auth.log\" /etc/filebeat/filebeat.yml\n",
    "sudo sed -i \"29i \\ \\ \\ \\ - /var/log/syslog\" /etc/filebeat/filebeat.yml\n",
    "\n",
    "sudo sed -i '160 s/^#//g' /etc/filebeat/filebeat.yml \n",
    "\n",
    "export es_ip=\"<LOGSTASH-IP-ADDRESS>\"\n",
    "\n",
    "sudo sed -i \"162i \\ \\ hosts: [\\\"$es_ip:5044\\\"]\" /etc/filebeat/filebeat.yml\n",
    "\n",
    "sudo sed -i '167i \\ \\ ssl.certificate_authorities: [\"/etc/pki/tls/certs/logstash-forwarder.crt\"]' /etc/filebeat/filebeat.yml"
   ]
  },
  {
   "cell_type": "markdown",
   "metadata": {},
   "source": [
    "### Enabling the Filebeat's system module.\n",
    "\n",
    "##### Filebeat supports different modules that allows us to collect and parse logs created by Ubuntu's system loggin service. To enable the system module, run the command below:"
   ]
  },
  {
   "cell_type": "code",
   "execution_count": 1,
   "metadata": {},
   "outputs": [
    {
     "name": "stdout",
     "output_type": "stream",
     "text": [
      "Module system is already enabled\n"
     ]
    }
   ],
   "source": [
    "%%bash\n",
    "sudo filebeat modules enable system"
   ]
  },
  {
   "cell_type": "markdown",
   "metadata": {},
   "source": [
    "##### You can verify if the system module has been enables by using the following command:\n",
    "\n",
    "~~~\n",
    "sudo filebeat modules list\n",
    "~~~"
   ]
  },
  {
   "cell_type": "markdown",
   "metadata": {},
   "source": [
    "### Loading Index templates\n",
    "\n",
    "##### An index is a collection of documents that share similar characteristics. We will load an index template for documents stored in filebeat indexes that will be applied automatically when a new index is created. Let us list the current templates in elasticsearch by using the following command:\n",
    "\n",
    "~~~\n",
    "curl -u elastic:elasticsiem -XGET 'localhost:9200/_template?filter_path=*.version&pretty'\n",
    "~~~"
   ]
  },
  {
   "cell_type": "code",
   "execution_count": 2,
   "metadata": {},
   "outputs": [
    {
     "name": "stdout",
     "output_type": "stream",
     "text": [
      "{\n",
      "  \".monitoring-kibana\" : {\n",
      "    \"version\" : 7000199\n",
      "  },\n",
      "  \".management-beats\" : {\n",
      "    \"version\" : 70000\n",
      "  },\n",
      "  \".monitoring-beats\" : {\n",
      "    \"version\" : 7000199\n",
      "  },\n",
      "  \".ml-anomalies-\" : {\n",
      "    \"version\" : 7020099\n",
      "  },\n",
      "  \".kibana_task_manager\" : {\n",
      "    \"version\" : 7020099\n",
      "  },\n",
      "  \".monitoring-alerts-7\" : {\n",
      "    \"version\" : 7000199\n",
      "  },\n",
      "  \".ml-notifications\" : {\n",
      "    \"version\" : 7020099\n",
      "  },\n",
      "  \".ml-state\" : {\n",
      "    \"version\" : 7020099\n",
      "  },\n",
      "  \".ml-meta\" : {\n",
      "    \"version\" : 7020099\n",
      "  },\n",
      "  \".data-frame-notifications-1\" : {\n",
      "    \"version\" : 7020099\n",
      "  },\n",
      "  \".ml-config\" : {\n",
      "    \"version\" : 7020099\n",
      "  },\n",
      "  \".data-frame-internal-1\" : {\n",
      "    \"version\" : 7020099\n",
      "  },\n",
      "  \".monitoring-es\" : {\n",
      "    \"version\" : 7000199\n",
      "  },\n",
      "  \".monitoring-logstash\" : {\n",
      "    \"version\" : 7000199\n",
      "  }\n",
      "}\n"
     ]
    },
    {
     "name": "stderr",
     "output_type": "stream",
     "text": [
      "  % Total    % Received % Xferd  Average Speed   Time    Time     Time  Current\n",
      "                                 Dload  Upload   Total   Spent    Left  Speed\n",
      "100   766  100   766    0     0  69636      0 --:--:-- --:--:-- --:--:-- 69636\n"
     ]
    }
   ],
   "source": [
    "%%bash\n",
    "curl -u elastic:elasticsiem -XGET 'localhost:9200/_template?filter_path=*.version&pretty'"
   ]
  },
  {
   "cell_type": "markdown",
   "metadata": {},
   "source": [
    "##### As we can observe, there are no templates defined for filebeat indexes. Let us load the filebeat template into elasticsearch by using the following command:"
   ]
  },
  {
   "cell_type": "code",
   "execution_count": 11,
   "metadata": {},
   "outputs": [
    {
     "name": "stdout",
     "output_type": "stream",
     "text": [
      "{\"acknowledged\":true}[\n",
      "  \".data-frame-internal-1\",\n",
      "  \".data-frame-notifications-1\",\n",
      "  \".kibana_task_manager\",\n",
      "  \".logstash-management\",\n",
      "  \".management-beats\",\n",
      "  \".ml-anomalies-\",\n",
      "  \".ml-config\",\n",
      "  \".ml-meta\",\n",
      "  \".ml-notifications\",\n",
      "  \".ml-state\",\n",
      "  \".monitoring-alerts-7\",\n",
      "  \".monitoring-beats\",\n",
      "  \".monitoring-es\",\n",
      "  \".monitoring-kibana\",\n",
      "  \".monitoring-logstash\",\n",
      "  \".triggered_watches\",\n",
      "  \".watch-history-9\",\n",
      "  \".watches\",\n",
      "  \"filebeat-7.3.0\"\n",
      "]\n"
     ]
    },
    {
     "name": "stderr",
     "output_type": "stream",
     "text": [
      "  % Total    % Received % Xferd  Average Speed   Time    Time     Time  Current\n",
      "                                 Dload  Upload   Total   Spent    Left  Speed\n",
      "100  141k  100    21  100  141k    259  1747k --:--:-- --:--:-- --:--:-- 1748k\n",
      "  % Total    % Received % Xferd  Average Speed   Time    Time     Time  Current\n",
      "                                 Dload  Upload   Total   Spent    Left  Speed\n",
      "100  106k  100  106k    0     0  8158k      0 --:--:-- --:--:-- --:--:-- 8158k\n"
     ]
    }
   ],
   "source": [
    "%%bash\n",
    "cd ~\n",
    "sudo /usr/share/filebeat/bin/filebeat export template > filebeat.template.json -c /etc/filebeat/filebeat.yml\n",
    "curl -u elastic:elasticsiem -H 'Content-Type: application/json' -XPUT 'localhost:9200/_template/filebeat-7.3.0' -d@/home/ubuntu/filebeat.template.json\n",
    "curl -u elastic:elasticsiem -XGET 'localhost:9200/_template/' | jq 'keys'\n",
    "    "
   ]
  },
  {
   "cell_type": "markdown",
   "metadata": {},
   "source": [
    "### Installing Kibana dashboards for Filebeat"
   ]
  },
  {
   "cell_type": "code",
   "execution_count": null,
   "metadata": {},
   "outputs": [],
   "source": [
    "%%bash\n",
    "sudo filebeat setup -e -E output.logstash.enabled=false -E output.elasticsearch.hosts=['localhost:9200'] -E setup.kibana.host=<KIBANA-IP-ADDRESS>:5601 -E output.elasticsearch.username=elastic -E output.elasticsearch.password=elasticsiem"
   ]
  },
  {
   "cell_type": "markdown",
   "metadata": {},
   "source": [
    "### Start Filebeat"
   ]
  },
  {
   "cell_type": "code",
   "execution_count": 13,
   "metadata": {},
   "outputs": [],
   "source": [
    "%%bash\n",
    "sudo systemctl start filebeat"
   ]
  },
  {
   "cell_type": "markdown",
   "metadata": {},
   "source": [
    "### Alternatively, you can run Filebeat in debug mode by using the following command:\n",
    "\n",
    "~~~\n",
    "sudo /usr/share/filebeat/bin/filebeat -e -d \"publish\" -c /etc/filebeat/filebeat.yml\n",
    "~~~"
   ]
  },
  {
   "cell_type": "markdown",
   "metadata": {},
   "source": [
    "### Backloging in filebeat\n",
    "\n",
    "\n",
    "##### In teh case that you change some of the filters that you set on logstash and would like to pre-process your data again, you will need to delete all indexes where your data was stored, stop filebeat, delete filebeat's registry file, and start filebeat again.\n",
    "\n",
    "##### To delete filebeat registry, you can use the following command:\n",
    "\n",
    "~~~\n",
    "sudo rm -R /var/lib/filebeat/registry\n",
    "~~~\n",
    "\n",
    "##### Note: Whenever you process again your data, your receiving logs will have a timestamp stating the time the log was received by elasticsearch and not the time at which the log was generated. The timestamp can be replaced by adding a rule on logstash that takes the timestamp stated at the beggining of each log and replace teh default timestamp (receiving time) set by elasticsearch.\n"
   ]
  },
  {
   "cell_type": "markdown",
   "metadata": {},
   "source": [
    "### Packetbeat Installation"
   ]
  },
  {
   "cell_type": "code",
   "execution_count": null,
   "metadata": {},
   "outputs": [],
   "source": []
  }
 ],
 "metadata": {
  "kernelspec": {
   "display_name": "Python 3",
   "language": "python",
   "name": "python3"
  },
  "language_info": {
   "codemirror_mode": {
    "name": "ipython",
    "version": 3
   },
   "file_extension": ".py",
   "mimetype": "text/x-python",
   "name": "python",
   "nbconvert_exporter": "python",
   "pygments_lexer": "ipython3",
   "version": "3.6.8"
  }
 },
 "nbformat": 4,
 "nbformat_minor": 4
}

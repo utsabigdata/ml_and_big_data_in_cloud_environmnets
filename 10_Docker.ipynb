{
 "cells": [
  {
   "cell_type": "markdown",
   "metadata": {},
   "source": [
    "### DOCKER\n",
    "\n",
    "##### Docker is an application that allows you to create containers and manage applications in them. In contrast with virtual machines, containers are more resource-friendly but are more dependent on the host operating system.\n",
    "\n",
    "##### In this module the students will learn the following:\n",
    "\n",
    "* Install Docker on Ubuntu 18.04\n",
    "* Work with containers\n",
    "* Download Docker Images\n",
    "\n",
    "### Docker Installation\n",
    "\n",
    "##### Let us start by updating our system and install pre-requisite packages to allow apt use packages over HTTPS"
   ]
  },
  {
   "cell_type": "code",
   "execution_count": 2,
   "metadata": {},
   "outputs": [
    {
     "name": "stdout",
     "output_type": "stream",
     "text": [
      "Hit:1 https://artifacts.elastic.co/packages/7.x/apt stable InRelease\n",
      "Hit:2 http://zone-r2.clouds.archive.ubuntu.com/ubuntu bionic InRelease\n",
      "Hit:3 http://security.ubuntu.com/ubuntu bionic-security InRelease\n",
      "Hit:4 http://zone-r2.clouds.archive.ubuntu.com/ubuntu bionic-updates InRelease\n",
      "Hit:5 http://zone-r2.clouds.archive.ubuntu.com/ubuntu bionic-backports InRelease\n",
      "Reading package lists...\n",
      "Building dependency tree...\n",
      "Reading state information...\n",
      "14 packages can be upgraded. Run 'apt list --upgradable' to see them.\n",
      "Reading package lists...\n",
      "Building dependency tree...\n",
      "Reading state information...\n",
      "ca-certificates is already the newest version (20180409).\n",
      "curl is already the newest version (7.58.0-2ubuntu3.7).\n",
      "software-properties-common is already the newest version (0.96.24.32.9).\n",
      "The following NEW packages will be installed:\n",
      "  apt-transport-https\n",
      "0 upgraded, 1 newly installed, 0 to remove and 14 not upgraded.\n",
      "Need to get 1692 B of archives.\n",
      "After this operation, 153 kB of additional disk space will be used.\n",
      "Get:1 http://zone-r2.clouds.archive.ubuntu.com/ubuntu bionic-updates/universe amd64 apt-transport-https all 1.6.11 [1692 B]\n",
      "Fetched 1692 B in 0s (17.6 kB/s)\n",
      "Selecting previously unselected package apt-transport-https.\n",
      "(Reading database ... 213579 files and directories currently installed.)\n",
      "Preparing to unpack .../apt-transport-https_1.6.11_all.deb ...\n",
      "Unpacking apt-transport-https (1.6.11) ...\n",
      "Setting up apt-transport-https (1.6.11) ...\n"
     ]
    },
    {
     "name": "stderr",
     "output_type": "stream",
     "text": [
      "\n",
      "WARNING: apt does not have a stable CLI interface. Use with caution in scripts.\n",
      "\n",
      "\n",
      "WARNING: apt does not have a stable CLI interface. Use with caution in scripts.\n",
      "\n",
      "dpkg-preconfigure: unable to re-open stdin: No such file or directory\n"
     ]
    }
   ],
   "source": [
    "%%bash\n",
    "sudo apt update\n",
    "sudo apt install -y apt-transport-https ca-certificates curl software-properties-common"
   ]
  },
  {
   "cell_type": "markdown",
   "metadata": {},
   "source": [
    "### GPG key for the official Docker repository"
   ]
  },
  {
   "cell_type": "code",
   "execution_count": 3,
   "metadata": {},
   "outputs": [
    {
     "name": "stdout",
     "output_type": "stream",
     "text": [
      "OK\n"
     ]
    },
    {
     "name": "stderr",
     "output_type": "stream",
     "text": [
      "Warning: apt-key output should not be parsed (stdout is not a terminal)\n"
     ]
    }
   ],
   "source": [
    "%%bash\n",
    "curl -fsSL https://download.docker.com/linux/ubuntu/gpg | sudo apt-key add -"
   ]
  },
  {
   "cell_type": "markdown",
   "metadata": {},
   "source": [
    "### ADD APT sources for the Docker Repository"
   ]
  },
  {
   "cell_type": "code",
   "execution_count": 4,
   "metadata": {},
   "outputs": [
    {
     "name": "stdout",
     "output_type": "stream",
     "text": [
      "Hit:1 http://security.ubuntu.com/ubuntu bionic-security InRelease\n",
      "Hit:2 https://artifacts.elastic.co/packages/7.x/apt stable InRelease\n",
      "Get:3 https://download.docker.com/linux/ubuntu bionic InRelease [64.4 kB]\n",
      "Hit:4 http://zone-r2.clouds.archive.ubuntu.com/ubuntu bionic InRelease\n",
      "Hit:5 http://zone-r2.clouds.archive.ubuntu.com/ubuntu bionic-updates InRelease\n",
      "Get:6 https://download.docker.com/linux/ubuntu bionic/stable amd64 Packages [7889 B]\n",
      "Hit:7 http://zone-r2.clouds.archive.ubuntu.com/ubuntu bionic-backports InRelease\n",
      "Fetched 72.3 kB in 1s (102 kB/s)\n",
      "Reading package lists...\n"
     ]
    }
   ],
   "source": [
    "%%bash\n",
    "sudo add-apt-repository \"deb [arch=amd64] https://download.docker.com/linux/ubuntu bionic stable\""
   ]
  },
  {
   "cell_type": "markdown",
   "metadata": {},
   "source": [
    "### Update your System"
   ]
  },
  {
   "cell_type": "code",
   "execution_count": 5,
   "metadata": {},
   "outputs": [
    {
     "name": "stdout",
     "output_type": "stream",
     "text": [
      "Hit:1 http://security.ubuntu.com/ubuntu bionic-security InRelease\n",
      "Hit:2 https://download.docker.com/linux/ubuntu bionic InRelease\n",
      "Hit:3 https://artifacts.elastic.co/packages/7.x/apt stable InRelease\n",
      "Hit:4 http://zone-r2.clouds.archive.ubuntu.com/ubuntu bionic InRelease\n",
      "Hit:5 http://zone-r2.clouds.archive.ubuntu.com/ubuntu bionic-updates InRelease\n",
      "Hit:6 http://zone-r2.clouds.archive.ubuntu.com/ubuntu bionic-backports InRelease\n",
      "Reading package lists...\n",
      "Building dependency tree...\n",
      "Reading state information...\n",
      "14 packages can be upgraded. Run 'apt list --upgradable' to see them.\n"
     ]
    },
    {
     "name": "stderr",
     "output_type": "stream",
     "text": [
      "\n",
      "WARNING: apt does not have a stable CLI interface. Use with caution in scripts.\n",
      "\n"
     ]
    }
   ],
   "source": [
    "%%bash\n",
    "sudo apt update"
   ]
  },
  {
   "cell_type": "markdown",
   "metadata": {},
   "source": [
    "### Validate that you are about to install from teh Docker repo and not from Ubuntu's repo."
   ]
  },
  {
   "cell_type": "code",
   "execution_count": 6,
   "metadata": {},
   "outputs": [
    {
     "name": "stdout",
     "output_type": "stream",
     "text": [
      "docker-ce:\n",
      "  Installed: (none)\n",
      "  Candidate: 5:19.03.1~3-0~ubuntu-bionic\n",
      "  Version table:\n",
      "     5:19.03.1~3-0~ubuntu-bionic 500\n",
      "        500 https://download.docker.com/linux/ubuntu bionic/stable amd64 Packages\n",
      "     5:19.03.0~3-0~ubuntu-bionic 500\n",
      "        500 https://download.docker.com/linux/ubuntu bionic/stable amd64 Packages\n",
      "     5:18.09.8~3-0~ubuntu-bionic 500\n",
      "        500 https://download.docker.com/linux/ubuntu bionic/stable amd64 Packages\n",
      "     5:18.09.7~3-0~ubuntu-bionic 500\n",
      "        500 https://download.docker.com/linux/ubuntu bionic/stable amd64 Packages\n",
      "     5:18.09.6~3-0~ubuntu-bionic 500\n",
      "        500 https://download.docker.com/linux/ubuntu bionic/stable amd64 Packages\n",
      "     5:18.09.5~3-0~ubuntu-bionic 500\n",
      "        500 https://download.docker.com/linux/ubuntu bionic/stable amd64 Packages\n",
      "     5:18.09.4~3-0~ubuntu-bionic 500\n",
      "        500 https://download.docker.com/linux/ubuntu bionic/stable amd64 Packages\n",
      "     5:18.09.3~3-0~ubuntu-bionic 500\n",
      "        500 https://download.docker.com/linux/ubuntu bionic/stable amd64 Packages\n",
      "     5:18.09.2~3-0~ubuntu-bionic 500\n",
      "        500 https://download.docker.com/linux/ubuntu bionic/stable amd64 Packages\n",
      "     5:18.09.1~3-0~ubuntu-bionic 500\n",
      "        500 https://download.docker.com/linux/ubuntu bionic/stable amd64 Packages\n",
      "     5:18.09.0~3-0~ubuntu-bionic 500\n",
      "        500 https://download.docker.com/linux/ubuntu bionic/stable amd64 Packages\n",
      "     18.06.3~ce~3-0~ubuntu 500\n",
      "        500 https://download.docker.com/linux/ubuntu bionic/stable amd64 Packages\n",
      "     18.06.2~ce~3-0~ubuntu 500\n",
      "        500 https://download.docker.com/linux/ubuntu bionic/stable amd64 Packages\n",
      "     18.06.1~ce~3-0~ubuntu 500\n",
      "        500 https://download.docker.com/linux/ubuntu bionic/stable amd64 Packages\n",
      "     18.06.0~ce~3-0~ubuntu 500\n",
      "        500 https://download.docker.com/linux/ubuntu bionic/stable amd64 Packages\n",
      "     18.03.1~ce~3-0~ubuntu 500\n",
      "        500 https://download.docker.com/linux/ubuntu bionic/stable amd64 Packages\n"
     ]
    }
   ],
   "source": [
    "%%bash\n",
    "apt-cache policy docker-ce"
   ]
  },
  {
   "cell_type": "markdown",
   "metadata": {},
   "source": [
    "### Let us now install Dockert"
   ]
  },
  {
   "cell_type": "code",
   "execution_count": 8,
   "metadata": {},
   "outputs": [
    {
     "name": "stdout",
     "output_type": "stream",
     "text": [
      "Reading package lists...\n",
      "Building dependency tree...\n",
      "Reading state information...\n",
      "The following additional packages will be installed:\n",
      "  aufs-tools cgroupfs-mount containerd.io docker-ce-cli libltdl7 pigz\n",
      "The following NEW packages will be installed:\n",
      "  aufs-tools cgroupfs-mount containerd.io docker-ce docker-ce-cli libltdl7\n",
      "  pigz\n",
      "0 upgraded, 7 newly installed, 0 to remove and 14 not upgraded.\n",
      "Need to get 88.0 MB of archives.\n",
      "After this operation, 390 MB of additional disk space will be used.\n",
      "Get:1 https://download.docker.com/linux/ubuntu bionic/stable amd64 containerd.io amd64 1.2.6-3 [22.6 MB]\n",
      "Get:2 http://zone-r2.clouds.archive.ubuntu.com/ubuntu bionic/universe amd64 pigz amd64 2.4-1 [57.4 kB]\n",
      "Get:3 http://zone-r2.clouds.archive.ubuntu.com/ubuntu bionic/universe amd64 aufs-tools amd64 1:4.9+20170918-1ubuntu1 [104 kB]\n",
      "Get:4 https://download.docker.com/linux/ubuntu bionic/stable amd64 docker-ce-cli amd64 5:19.03.1~3-0~ubuntu-bionic [42.5 MB]\n",
      "Get:5 http://zone-r2.clouds.archive.ubuntu.com/ubuntu bionic/universe amd64 cgroupfs-mount all 1.4 [6320 B]\n",
      "Get:6 http://zone-r2.clouds.archive.ubuntu.com/ubuntu bionic/main amd64 libltdl7 amd64 2.4.6-2 [38.8 kB]\n",
      "Get:7 https://download.docker.com/linux/ubuntu bionic/stable amd64 docker-ce amd64 5:19.03.1~3-0~ubuntu-bionic [22.7 MB]\n",
      "Fetched 88.0 MB in 2s (42.6 MB/s)\n",
      "Selecting previously unselected package pigz.\n",
      "(Reading database ... 213583 files and directories currently installed.)\n",
      "Preparing to unpack .../0-pigz_2.4-1_amd64.deb ...\n",
      "Unpacking pigz (2.4-1) ...\n",
      "Selecting previously unselected package aufs-tools.\n",
      "Preparing to unpack .../1-aufs-tools_1%3a4.9+20170918-1ubuntu1_amd64.deb ...\n",
      "Unpacking aufs-tools (1:4.9+20170918-1ubuntu1) ...\n",
      "Selecting previously unselected package cgroupfs-mount.\n",
      "Preparing to unpack .../2-cgroupfs-mount_1.4_all.deb ...\n",
      "Unpacking cgroupfs-mount (1.4) ...\n",
      "Selecting previously unselected package containerd.io.\n",
      "Preparing to unpack .../3-containerd.io_1.2.6-3_amd64.deb ...\n",
      "Unpacking containerd.io (1.2.6-3) ...\n",
      "Selecting previously unselected package docker-ce-cli.\n",
      "Preparing to unpack .../4-docker-ce-cli_5%3a19.03.1~3-0~ubuntu-bionic_amd64.deb ...\n",
      "Unpacking docker-ce-cli (5:19.03.1~3-0~ubuntu-bionic) ...\n",
      "Selecting previously unselected package docker-ce.\n",
      "Preparing to unpack .../5-docker-ce_5%3a19.03.1~3-0~ubuntu-bionic_amd64.deb ...\n",
      "Unpacking docker-ce (5:19.03.1~3-0~ubuntu-bionic) ...\n",
      "Selecting previously unselected package libltdl7:amd64.\n",
      "Preparing to unpack .../6-libltdl7_2.4.6-2_amd64.deb ...\n",
      "Unpacking libltdl7:amd64 (2.4.6-2) ...\n",
      "Setting up aufs-tools (1:4.9+20170918-1ubuntu1) ...\n",
      "Setting up containerd.io (1.2.6-3) ...\n",
      "Created symlink /etc/systemd/system/multi-user.target.wants/containerd.service → /lib/systemd/system/containerd.service.\n",
      "Processing triggers for ureadahead (0.100.0-21) ...\n",
      "Setting up cgroupfs-mount (1.4) ...\n",
      "Processing triggers for libc-bin (2.27-3ubuntu1) ...\n",
      "Processing triggers for systemd (237-3ubuntu10.24) ...\n",
      "Setting up libltdl7:amd64 (2.4.6-2) ...\n",
      "Processing triggers for man-db (2.8.3-2ubuntu0.1) ...\n",
      "Setting up docker-ce-cli (5:19.03.1~3-0~ubuntu-bionic) ...\n",
      "Setting up pigz (2.4-1) ...\n",
      "Setting up docker-ce (5:19.03.1~3-0~ubuntu-bionic) ...\n",
      "Created symlink /etc/systemd/system/multi-user.target.wants/docker.service → /lib/systemd/system/docker.service.\n",
      "Created symlink /etc/systemd/system/sockets.target.wants/docker.socket → /lib/systemd/system/docker.socket.\n",
      "Processing triggers for ureadahead (0.100.0-21) ...\n",
      "Processing triggers for libc-bin (2.27-3ubuntu1) ...\n",
      "Processing triggers for systemd (237-3ubuntu10.24) ...\n"
     ]
    },
    {
     "name": "stderr",
     "output_type": "stream",
     "text": [
      "\n",
      "WARNING: apt does not have a stable CLI interface. Use with caution in scripts.\n",
      "\n",
      "dpkg-preconfigure: unable to re-open stdin: No such file or directory\n"
     ]
    }
   ],
   "source": [
    "%%bash\n",
    "sudo apt install -y docker-ce"
   ]
  },
  {
   "cell_type": "markdown",
   "metadata": {},
   "source": [
    "### Validate if Docker is running"
   ]
  },
  {
   "cell_type": "code",
   "execution_count": 9,
   "metadata": {},
   "outputs": [
    {
     "name": "stdout",
     "output_type": "stream",
     "text": [
      "● docker.service - Docker Application Container Engine\n",
      "   Loaded: loaded (/lib/systemd/system/docker.service; enabled; vendor preset: enabled)\n",
      "   Active: active (running) since Wed 2019-08-07 19:56:41 UTC; 3min 25s ago\n",
      "     Docs: https://docs.docker.com\n",
      " Main PID: 25806 (dockerd)\n",
      "    Tasks: 10\n",
      "   CGroup: /system.slice/docker.service\n",
      "           └─25806 /usr/bin/dockerd -H fd:// --containerd=/run/containerd/containerd.sock\n",
      "\n",
      "Aug 07 19:56:39 elastic-siem-test-00 dockerd[25806]: time=\"2019-08-07T19:56:39.221007051Z\" level=warning msg=\"Your kernel does not support swap memory limit\"\n",
      "Aug 07 19:56:39 elastic-siem-test-00 dockerd[25806]: time=\"2019-08-07T19:56:39.221041149Z\" level=warning msg=\"Your kernel does not support cgroup rt period\"\n",
      "Aug 07 19:56:39 elastic-siem-test-00 dockerd[25806]: time=\"2019-08-07T19:56:39.221054685Z\" level=warning msg=\"Your kernel does not support cgroup rt runtime\"\n",
      "Aug 07 19:56:39 elastic-siem-test-00 dockerd[25806]: time=\"2019-08-07T19:56:39.221311847Z\" level=info msg=\"Loading containers: start.\"\n",
      "Aug 07 19:56:39 elastic-siem-test-00 dockerd[25806]: time=\"2019-08-07T19:56:39.784406190Z\" level=info msg=\"Default bridge (docker0) is assigned with an IP address 172.17.0.0/16. Daemon option --bip can be used to set a preferred IP address\"\n",
      "Aug 07 19:56:40 elastic-siem-test-00 dockerd[25806]: time=\"2019-08-07T19:56:40.216078790Z\" level=info msg=\"Loading containers: done.\"\n",
      "Aug 07 19:56:41 elastic-siem-test-00 dockerd[25806]: time=\"2019-08-07T19:56:41.274838155Z\" level=info msg=\"Docker daemon\" commit=74b1e89 graphdriver(s)=overlay2 version=19.03.1\n",
      "Aug 07 19:56:41 elastic-siem-test-00 dockerd[25806]: time=\"2019-08-07T19:56:41.275049080Z\" level=info msg=\"Daemon has completed initialization\"\n",
      "Aug 07 19:56:41 elastic-siem-test-00 systemd[1]: Started Docker Application Container Engine.\n",
      "Aug 07 19:56:41 elastic-siem-test-00 dockerd[25806]: time=\"2019-08-07T19:56:41.475395567Z\" level=info msg=\"API listen on /var/run/docker.sock\"\n"
     ]
    }
   ],
   "source": [
    "%%bash\n",
    "sudo systemctl status docker"
   ]
  },
  {
   "cell_type": "markdown",
   "metadata": {},
   "source": [
    "### Explore the list of available Docker subcommands\n",
    "\n",
    "##### You can explore the details of available options for each subcommand using the following syntax:\n",
    "\n",
    "~~~\n",
    "docker docker-subcommand --help\n",
    "~~~"
   ]
  },
  {
   "cell_type": "code",
   "execution_count": 10,
   "metadata": {},
   "outputs": [
    {
     "name": "stderr",
     "output_type": "stream",
     "text": [
      "\n",
      "Usage:\tdocker [OPTIONS] COMMAND\n",
      "\n",
      "A self-sufficient runtime for containers\n",
      "\n",
      "Options:\n",
      "      --config string      Location of client config files (default\n",
      "                           \"/home/ubuntu/.docker\")\n",
      "  -c, --context string     Name of the context to use to connect to the\n",
      "                           daemon (overrides DOCKER_HOST env var and\n",
      "                           default context set with \"docker context use\")\n",
      "  -D, --debug              Enable debug mode\n",
      "  -H, --host list          Daemon socket(s) to connect to\n",
      "  -l, --log-level string   Set the logging level\n",
      "                           (\"debug\"|\"info\"|\"warn\"|\"error\"|\"fatal\")\n",
      "                           (default \"info\")\n",
      "      --tls                Use TLS; implied by --tlsverify\n",
      "      --tlscacert string   Trust certs signed only by this CA (default\n",
      "                           \"/home/ubuntu/.docker/ca.pem\")\n",
      "      --tlscert string     Path to TLS certificate file (default\n",
      "                           \"/home/ubuntu/.docker/cert.pem\")\n",
      "      --tlskey string      Path to TLS key file (default\n",
      "                           \"/home/ubuntu/.docker/key.pem\")\n",
      "      --tlsverify          Use TLS and verify the remote\n",
      "  -v, --version            Print version information and quit\n",
      "\n",
      "Management Commands:\n",
      "  builder     Manage builds\n",
      "  config      Manage Docker configs\n",
      "  container   Manage containers\n",
      "  context     Manage contexts\n",
      "  engine      Manage the docker engine\n",
      "  image       Manage images\n",
      "  network     Manage networks\n",
      "  node        Manage Swarm nodes\n",
      "  plugin      Manage plugins\n",
      "  secret      Manage Docker secrets\n",
      "  service     Manage services\n",
      "  stack       Manage Docker stacks\n",
      "  swarm       Manage Swarm\n",
      "  system      Manage Docker\n",
      "  trust       Manage trust on Docker images\n",
      "  volume      Manage volumes\n",
      "\n",
      "Commands:\n",
      "  attach      Attach local standard input, output, and error streams to a running container\n",
      "  build       Build an image from a Dockerfile\n",
      "  commit      Create a new image from a container's changes\n",
      "  cp          Copy files/folders between a container and the local filesystem\n",
      "  create      Create a new container\n",
      "  diff        Inspect changes to files or directories on a container's filesystem\n",
      "  events      Get real time events from the server\n",
      "  exec        Run a command in a running container\n",
      "  export      Export a container's filesystem as a tar archive\n",
      "  history     Show the history of an image\n",
      "  images      List images\n",
      "  import      Import the contents from a tarball to create a filesystem image\n",
      "  info        Display system-wide information\n",
      "  inspect     Return low-level information on Docker objects\n",
      "  kill        Kill one or more running containers\n",
      "  load        Load an image from a tar archive or STDIN\n",
      "  login       Log in to a Docker registry\n",
      "  logout      Log out from a Docker registry\n",
      "  logs        Fetch the logs of a container\n",
      "  pause       Pause all processes within one or more containers\n",
      "  port        List port mappings or a specific mapping for the container\n",
      "  ps          List containers\n",
      "  pull        Pull an image or a repository from a registry\n",
      "  push        Push an image or a repository to a registry\n",
      "  rename      Rename a container\n",
      "  restart     Restart one or more containers\n",
      "  rm          Remove one or more containers\n",
      "  rmi         Remove one or more images\n",
      "  run         Run a command in a new container\n",
      "  save        Save one or more images to a tar archive (streamed to STDOUT by default)\n",
      "  search      Search the Docker Hub for images\n",
      "  start       Start one or more stopped containers\n",
      "  stats       Display a live stream of container(s) resource usage statistics\n",
      "  stop        Stop one or more running containers\n",
      "  tag         Create a tag TARGET_IMAGE that refers to SOURCE_IMAGE\n",
      "  top         Display the running processes of a container\n",
      "  unpause     Unpause all processes within one or more containers\n",
      "  update      Update configuration of one or more containers\n",
      "  version     Show the Docker version information\n",
      "  wait        Block until one or more containers stop, then print their exit codes\n",
      "\n",
      "Run 'docker COMMAND --help' for more information on a command.\n"
     ]
    }
   ],
   "source": [
    "%%bash\n",
    "sudo docker "
   ]
  },
  {
   "cell_type": "markdown",
   "metadata": {},
   "source": [
    "### Obtain system-wide information"
   ]
  },
  {
   "cell_type": "code",
   "execution_count": 12,
   "metadata": {},
   "outputs": [
    {
     "name": "stdout",
     "output_type": "stream",
     "text": [
      "Client:\n",
      " Debug Mode: false\n",
      "\n",
      "Server:\n",
      " Containers: 0\n",
      "  Running: 0\n",
      "  Paused: 0\n",
      "  Stopped: 0\n",
      " Images: 0\n",
      " Server Version: 19.03.1\n",
      " Storage Driver: overlay2\n",
      "  Backing Filesystem: extfs\n",
      "  Supports d_type: true\n",
      "  Native Overlay Diff: true\n",
      " Logging Driver: json-file\n",
      " Cgroup Driver: cgroupfs\n",
      " Plugins:\n",
      "  Volume: local\n",
      "  Network: bridge host ipvlan macvlan null overlay\n",
      "  Log: awslogs fluentd gcplogs gelf journald json-file local logentries splunk syslog\n",
      " Swarm: inactive\n",
      " Runtimes: runc\n",
      " Default Runtime: runc\n",
      " Init Binary: docker-init\n",
      " containerd version: 894b81a4b802e4eb2a91d1ce216b8817763c29fb\n",
      " runc version: 425e105d5a03fabd737a126ad93d62a9eeede87f\n",
      " init version: fec3683\n",
      " Security Options:\n",
      "  apparmor\n",
      "  seccomp\n",
      "   Profile: default\n",
      " Kernel Version: 4.15.0-55-generic\n",
      " Operating System: Ubuntu 18.04.2 LTS\n",
      " OSType: linux\n",
      " Architecture: x86_64\n",
      " CPUs: 2\n",
      " Total Memory: 3.852GiB\n",
      " Name: elastic-siem-test-00\n",
      " ID: 552O:LYZH:KFUG:4H6J:PYZ5:5J5R:UFPF:6XII:OT4C:DVQM:2TYJ:BPEN\n",
      " Docker Root Dir: /var/lib/docker\n",
      " Debug Mode: false\n",
      " Registry: https://index.docker.io/v1/\n",
      " Labels:\n",
      " Experimental: false\n",
      " Insecure Registries:\n",
      "  127.0.0.0/8\n",
      " Live Restore Enabled: false\n",
      "\n"
     ]
    },
    {
     "name": "stderr",
     "output_type": "stream",
     "text": [
      "WARNING: No swap limit support\n"
     ]
    }
   ],
   "source": [
    "%%bash\n",
    "sudo docker info"
   ]
  },
  {
   "cell_type": "markdown",
   "metadata": {},
   "source": [
    "### Searching and Downloading Docker images\n",
    "\n",
    "##### Docker containers are built from Docker images which by default are downloaded from the Docker Hub. Any user can host their images in Docker Hub. Most Linux distributions generate their images and upload them into the Hub as well.\n",
    "\n",
    "### Searching for Docker images\n",
    "\n",
    "##### In the OFFICIAL column, OK indicates an image built and supported by the company behind the project."
   ]
  },
  {
   "cell_type": "code",
   "execution_count": 16,
   "metadata": {},
   "outputs": [
    {
     "name": "stdout",
     "output_type": "stream",
     "text": [
      "NAME                                                      DESCRIPTION                                     STARS               OFFICIAL            AUTOMATED\n",
      "ubuntu                                                    Ubuntu is a Debian-based Linux operating sys…   9802                [OK]                \n",
      "dorowu/ubuntu-desktop-lxde-vnc                            Docker image to provide HTML5 VNC interface …   330                                     [OK]\n",
      "rastasheep/ubuntu-sshd                                    Dockerized SSH service, built on top of offi…   226                                     [OK]\n",
      "consol/ubuntu-xfce-vnc                                    Ubuntu container with \"headless\" VNC session…   185                                     [OK]\n",
      "ubuntu-upstart                                            Upstart is an event-based replacement for th…   99                  [OK]                \n",
      "ansible/ubuntu14.04-ansible                               Ubuntu 14.04 LTS with ansible                   97                                      [OK]\n",
      "1and1internet/ubuntu-16-nginx-php-phpmyadmin-mysql-5      ubuntu-16-nginx-php-phpmyadmin-mysql-5          50                                      [OK]\n",
      "ubuntu-debootstrap                                        debootstrap --variant=minbase --components=m…   40                  [OK]                \n",
      "nuagebec/ubuntu                                           Simple always updated Ubuntu docker images w…   24                                      [OK]\n",
      "i386/ubuntu                                               Ubuntu is a Debian-based Linux operating sys…   18                                      \n",
      "1and1internet/ubuntu-16-apache-php-5.6                    ubuntu-16-apache-php-5.6                        14                                      [OK]\n",
      "ppc64le/ubuntu                                            Ubuntu is a Debian-based Linux operating sys…   13                                      \n",
      "1and1internet/ubuntu-16-apache-php-7.0                    ubuntu-16-apache-php-7.0                        13                                      [OK]\n",
      "eclipse/ubuntu_jdk8                                       Ubuntu, JDK8, Maven 3, git, curl, nmap, mc, …   11                                      [OK]\n",
      "1and1internet/ubuntu-16-nginx-php-phpmyadmin-mariadb-10   ubuntu-16-nginx-php-phpmyadmin-mariadb-10       11                                      [OK]\n",
      "1and1internet/ubuntu-16-nginx-php-5.6                     ubuntu-16-nginx-php-5.6                         8                                       [OK]\n",
      "1and1internet/ubuntu-16-nginx-php-5.6-wordpress-4         ubuntu-16-nginx-php-5.6-wordpress-4             7                                       [OK]\n",
      "1and1internet/ubuntu-16-apache-php-7.1                    ubuntu-16-apache-php-7.1                        6                                       [OK]\n",
      "darksheer/ubuntu                                          Base Ubuntu Image -- Updated hourly             5                                       [OK]\n",
      "1and1internet/ubuntu-16-nginx-php-7.0                     ubuntu-16-nginx-php-7.0                         4                                       [OK]\n",
      "pivotaldata/ubuntu                                        A quick freshening-up of the base Ubuntu doc…   2                                       \n",
      "1and1internet/ubuntu-16-php-7.1                           ubuntu-16-php-7.1                               1                                       [OK]\n",
      "smartentry/ubuntu                                         ubuntu with smartentry                          1                                       [OK]\n",
      "1and1internet/ubuntu-16-sshd                              ubuntu-16-sshd                                  1                                       [OK]\n",
      "pivotaldata/ubuntu-gpdb-dev                               Ubuntu images for GPDB development              0                                       \n"
     ]
    }
   ],
   "source": [
    "%%bash\n",
    "sudo docker search ubuntu"
   ]
  },
  {
   "cell_type": "markdown",
   "metadata": {},
   "source": [
    "### Download tyhe official ubuntu image"
   ]
  },
  {
   "cell_type": "code",
   "execution_count": 17,
   "metadata": {},
   "outputs": [
    {
     "name": "stdout",
     "output_type": "stream",
     "text": [
      "Using default tag: latest\n",
      "latest: Pulling from library/ubuntu\n",
      "7413c47ba209: Pulling fs layer\n",
      "0fe7e7cbb2e8: Pulling fs layer\n",
      "1d425c982345: Pulling fs layer\n",
      "344da5c95cec: Pulling fs layer\n",
      "344da5c95cec: Waiting\n",
      "0fe7e7cbb2e8: Verifying Checksum\n",
      "0fe7e7cbb2e8: Download complete\n",
      "1d425c982345: Verifying Checksum\n",
      "1d425c982345: Download complete\n",
      "344da5c95cec: Verifying Checksum\n",
      "344da5c95cec: Download complete\n",
      "7413c47ba209: Verifying Checksum\n",
      "7413c47ba209: Download complete\n",
      "7413c47ba209: Pull complete\n",
      "0fe7e7cbb2e8: Pull complete\n",
      "1d425c982345: Pull complete\n",
      "344da5c95cec: Pull complete\n",
      "Digest: sha256:c303f19cfe9ee92badbbbd7567bc1ca47789f79303ddcef56f77687d4744cd7a\n",
      "Status: Downloaded newer image for ubuntu:latest\n",
      "docker.io/library/ubuntu:latest\n"
     ]
    }
   ],
   "source": [
    "%%bash\n",
    "sudo docker pull ubuntu"
   ]
  },
  {
   "cell_type": "markdown",
   "metadata": {},
   "source": [
    "### List the Docker Images we have downloaded to our system by using the following command:"
   ]
  },
  {
   "cell_type": "code",
   "execution_count": 18,
   "metadata": {},
   "outputs": [
    {
     "name": "stdout",
     "output_type": "stream",
     "text": [
      "REPOSITORY          TAG                 IMAGE ID            CREATED             SIZE\n",
      "ubuntu              latest              3556258649b2        2 weeks ago         64.2MB\n"
     ]
    }
   ],
   "source": [
    "%%bash\n",
    "sudo docker images"
   ]
  },
  {
   "cell_type": "markdown",
   "metadata": {},
   "source": [
    "### Let us now run a container usiong the ubuntu image\n"
   ]
  },
  {
   "cell_type": "code",
   "execution_count": 19,
   "metadata": {},
   "outputs": [
    {
     "name": "stderr",
     "output_type": "stream",
     "text": [
      "the input device is not a TTY\n"
     ]
    },
    {
     "ename": "CalledProcessError",
     "evalue": "Command 'b'sudo docker run -it ubuntu:18.04\\n'' returned non-zero exit status 1.",
     "output_type": "error",
     "traceback": [
      "\u001b[0;31m---------------------------------------------------------------------------\u001b[0m",
      "\u001b[0;31mCalledProcessError\u001b[0m                        Traceback (most recent call last)",
      "\u001b[0;32m<ipython-input-19-28d52992ecff>\u001b[0m in \u001b[0;36m<module>\u001b[0;34m\u001b[0m\n\u001b[0;32m----> 1\u001b[0;31m \u001b[0mget_ipython\u001b[0m\u001b[0;34m(\u001b[0m\u001b[0;34m)\u001b[0m\u001b[0;34m.\u001b[0m\u001b[0mrun_cell_magic\u001b[0m\u001b[0;34m(\u001b[0m\u001b[0;34m'bash'\u001b[0m\u001b[0;34m,\u001b[0m \u001b[0;34m''\u001b[0m\u001b[0;34m,\u001b[0m \u001b[0;34m'sudo docker run -it ubuntu:18.04\\n'\u001b[0m\u001b[0;34m)\u001b[0m\u001b[0;34m\u001b[0m\u001b[0;34m\u001b[0m\u001b[0m\n\u001b[0m",
      "\u001b[0;32m~/.local/lib/python3.6/site-packages/IPython/core/interactiveshell.py\u001b[0m in \u001b[0;36mrun_cell_magic\u001b[0;34m(self, magic_name, line, cell)\u001b[0m\n\u001b[1;32m   2356\u001b[0m             \u001b[0;32mwith\u001b[0m \u001b[0mself\u001b[0m\u001b[0;34m.\u001b[0m\u001b[0mbuiltin_trap\u001b[0m\u001b[0;34m:\u001b[0m\u001b[0;34m\u001b[0m\u001b[0;34m\u001b[0m\u001b[0m\n\u001b[1;32m   2357\u001b[0m                 \u001b[0margs\u001b[0m \u001b[0;34m=\u001b[0m \u001b[0;34m(\u001b[0m\u001b[0mmagic_arg_s\u001b[0m\u001b[0;34m,\u001b[0m \u001b[0mcell\u001b[0m\u001b[0;34m)\u001b[0m\u001b[0;34m\u001b[0m\u001b[0;34m\u001b[0m\u001b[0m\n\u001b[0;32m-> 2358\u001b[0;31m                 \u001b[0mresult\u001b[0m \u001b[0;34m=\u001b[0m \u001b[0mfn\u001b[0m\u001b[0;34m(\u001b[0m\u001b[0;34m*\u001b[0m\u001b[0margs\u001b[0m\u001b[0;34m,\u001b[0m \u001b[0;34m**\u001b[0m\u001b[0mkwargs\u001b[0m\u001b[0;34m)\u001b[0m\u001b[0;34m\u001b[0m\u001b[0;34m\u001b[0m\u001b[0m\n\u001b[0m\u001b[1;32m   2359\u001b[0m             \u001b[0;32mreturn\u001b[0m \u001b[0mresult\u001b[0m\u001b[0;34m\u001b[0m\u001b[0;34m\u001b[0m\u001b[0m\n\u001b[1;32m   2360\u001b[0m \u001b[0;34m\u001b[0m\u001b[0m\n",
      "\u001b[0;32m~/.local/lib/python3.6/site-packages/IPython/core/magics/script.py\u001b[0m in \u001b[0;36mnamed_script_magic\u001b[0;34m(line, cell)\u001b[0m\n\u001b[1;32m    140\u001b[0m             \u001b[0;32melse\u001b[0m\u001b[0;34m:\u001b[0m\u001b[0;34m\u001b[0m\u001b[0;34m\u001b[0m\u001b[0m\n\u001b[1;32m    141\u001b[0m                 \u001b[0mline\u001b[0m \u001b[0;34m=\u001b[0m \u001b[0mscript\u001b[0m\u001b[0;34m\u001b[0m\u001b[0;34m\u001b[0m\u001b[0m\n\u001b[0;32m--> 142\u001b[0;31m             \u001b[0;32mreturn\u001b[0m \u001b[0mself\u001b[0m\u001b[0;34m.\u001b[0m\u001b[0mshebang\u001b[0m\u001b[0;34m(\u001b[0m\u001b[0mline\u001b[0m\u001b[0;34m,\u001b[0m \u001b[0mcell\u001b[0m\u001b[0;34m)\u001b[0m\u001b[0;34m\u001b[0m\u001b[0;34m\u001b[0m\u001b[0m\n\u001b[0m\u001b[1;32m    143\u001b[0m \u001b[0;34m\u001b[0m\u001b[0m\n\u001b[1;32m    144\u001b[0m         \u001b[0;31m# write a basic docstring:\u001b[0m\u001b[0;34m\u001b[0m\u001b[0;34m\u001b[0m\u001b[0;34m\u001b[0m\u001b[0m\n",
      "\u001b[0;32m</home/ubuntu/.local/lib/python3.6/site-packages/decorator.py:decorator-gen-110>\u001b[0m in \u001b[0;36mshebang\u001b[0;34m(self, line, cell)\u001b[0m\n",
      "\u001b[0;32m~/.local/lib/python3.6/site-packages/IPython/core/magic.py\u001b[0m in \u001b[0;36m<lambda>\u001b[0;34m(f, *a, **k)\u001b[0m\n\u001b[1;32m    185\u001b[0m     \u001b[0;31m# but it's overkill for just that one bit of state.\u001b[0m\u001b[0;34m\u001b[0m\u001b[0;34m\u001b[0m\u001b[0;34m\u001b[0m\u001b[0m\n\u001b[1;32m    186\u001b[0m     \u001b[0;32mdef\u001b[0m \u001b[0mmagic_deco\u001b[0m\u001b[0;34m(\u001b[0m\u001b[0marg\u001b[0m\u001b[0;34m)\u001b[0m\u001b[0;34m:\u001b[0m\u001b[0;34m\u001b[0m\u001b[0;34m\u001b[0m\u001b[0m\n\u001b[0;32m--> 187\u001b[0;31m         \u001b[0mcall\u001b[0m \u001b[0;34m=\u001b[0m \u001b[0;32mlambda\u001b[0m \u001b[0mf\u001b[0m\u001b[0;34m,\u001b[0m \u001b[0;34m*\u001b[0m\u001b[0ma\u001b[0m\u001b[0;34m,\u001b[0m \u001b[0;34m**\u001b[0m\u001b[0mk\u001b[0m\u001b[0;34m:\u001b[0m \u001b[0mf\u001b[0m\u001b[0;34m(\u001b[0m\u001b[0;34m*\u001b[0m\u001b[0ma\u001b[0m\u001b[0;34m,\u001b[0m \u001b[0;34m**\u001b[0m\u001b[0mk\u001b[0m\u001b[0;34m)\u001b[0m\u001b[0;34m\u001b[0m\u001b[0;34m\u001b[0m\u001b[0m\n\u001b[0m\u001b[1;32m    188\u001b[0m \u001b[0;34m\u001b[0m\u001b[0m\n\u001b[1;32m    189\u001b[0m         \u001b[0;32mif\u001b[0m \u001b[0mcallable\u001b[0m\u001b[0;34m(\u001b[0m\u001b[0marg\u001b[0m\u001b[0;34m)\u001b[0m\u001b[0;34m:\u001b[0m\u001b[0;34m\u001b[0m\u001b[0;34m\u001b[0m\u001b[0m\n",
      "\u001b[0;32m~/.local/lib/python3.6/site-packages/IPython/core/magics/script.py\u001b[0m in \u001b[0;36mshebang\u001b[0;34m(self, line, cell)\u001b[0m\n\u001b[1;32m    243\u001b[0m             \u001b[0msys\u001b[0m\u001b[0;34m.\u001b[0m\u001b[0mstderr\u001b[0m\u001b[0;34m.\u001b[0m\u001b[0mflush\u001b[0m\u001b[0;34m(\u001b[0m\u001b[0;34m)\u001b[0m\u001b[0;34m\u001b[0m\u001b[0;34m\u001b[0m\u001b[0m\n\u001b[1;32m    244\u001b[0m         \u001b[0;32mif\u001b[0m \u001b[0margs\u001b[0m\u001b[0;34m.\u001b[0m\u001b[0mraise_error\u001b[0m \u001b[0;32mand\u001b[0m \u001b[0mp\u001b[0m\u001b[0;34m.\u001b[0m\u001b[0mreturncode\u001b[0m\u001b[0;34m!=\u001b[0m\u001b[0;36m0\u001b[0m\u001b[0;34m:\u001b[0m\u001b[0;34m\u001b[0m\u001b[0;34m\u001b[0m\u001b[0m\n\u001b[0;32m--> 245\u001b[0;31m             \u001b[0;32mraise\u001b[0m \u001b[0mCalledProcessError\u001b[0m\u001b[0;34m(\u001b[0m\u001b[0mp\u001b[0m\u001b[0;34m.\u001b[0m\u001b[0mreturncode\u001b[0m\u001b[0;34m,\u001b[0m \u001b[0mcell\u001b[0m\u001b[0;34m,\u001b[0m \u001b[0moutput\u001b[0m\u001b[0;34m=\u001b[0m\u001b[0mout\u001b[0m\u001b[0;34m,\u001b[0m \u001b[0mstderr\u001b[0m\u001b[0;34m=\u001b[0m\u001b[0merr\u001b[0m\u001b[0;34m)\u001b[0m\u001b[0;34m\u001b[0m\u001b[0;34m\u001b[0m\u001b[0m\n\u001b[0m\u001b[1;32m    246\u001b[0m \u001b[0;34m\u001b[0m\u001b[0m\n\u001b[1;32m    247\u001b[0m     \u001b[0;32mdef\u001b[0m \u001b[0m_run_script\u001b[0m\u001b[0;34m(\u001b[0m\u001b[0mself\u001b[0m\u001b[0;34m,\u001b[0m \u001b[0mp\u001b[0m\u001b[0;34m,\u001b[0m \u001b[0mcell\u001b[0m\u001b[0;34m,\u001b[0m \u001b[0mto_close\u001b[0m\u001b[0;34m)\u001b[0m\u001b[0;34m:\u001b[0m\u001b[0;34m\u001b[0m\u001b[0;34m\u001b[0m\u001b[0m\n",
      "\u001b[0;31mCalledProcessError\u001b[0m: Command 'b'sudo docker run -it ubuntu:18.04\\n'' returned non-zero exit status 1."
     ]
    }
   ],
   "source": []
  },
  {
   "cell_type": "code",
   "execution_count": null,
   "metadata": {},
   "outputs": [],
   "source": []
  }
 ],
 "metadata": {
  "kernelspec": {
   "display_name": "Python 3",
   "language": "python",
   "name": "python3"
  },
  "language_info": {
   "codemirror_mode": {
    "name": "ipython",
    "version": 3
   },
   "file_extension": ".py",
   "mimetype": "text/x-python",
   "name": "python",
   "nbconvert_exporter": "python",
   "pygments_lexer": "ipython3",
   "version": "3.6.8"
  }
 },
 "nbformat": 4,
 "nbformat_minor": 4
}

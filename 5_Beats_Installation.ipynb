{
 "cells": [
  {
   "cell_type": "markdown",
   "metadata": {},
   "source": [
    "## Data Shippers\n",
    "\n",
    "#### Beats is the platform for single-purpose data shippers. They send data from hundreds or thousands of machines and systems to Logstash or Elasticsearch.\n",
    "\n",
    "#### In this module we will guide the user through the installation of the beats listed below which allos the  collection of various types of host data:\n",
    "\n",
    "* Filebeat\n",
    "* Packetbeat\n",
    "* Metricbeat\n",
    "* Auditbeat\n",
    "* Heartbeat"
   ]
  },
  {
   "cell_type": "markdown",
   "metadata": {},
   "source": [
    "### Filebeat installation"
   ]
  },
  {
   "cell_type": "code",
   "execution_count": null,
   "metadata": {},
   "outputs": [],
   "source": [
    "%%bash\n",
    "sudo apt install -y filebeat"
   ]
  },
  {
   "cell_type": "markdown",
   "metadata": {},
   "source": [
    "### Disable default configuration"
   ]
  },
  {
   "cell_type": "code",
   "execution_count": null,
   "metadata": {},
   "outputs": [],
   "source": [
    "%%bash\n",
    "sudo sed -i '28 s/^/#/' /etc/filebeat/filebeat.yml\n",
    "sudo sed -i '117 s/^/#/' /etc/filebeat/filebeat.yml\n",
    "sudo sed -i '148 s/^/#/' /etc/filebeat/filebeat.yml\n",
    "sudo sed -i '150 s/^/#/' /etc/filebeat/filebeat.yml\n",
    "sudo sed -i '176,178 s/^/#/' /etc/filebeat/filebeat.yml"
   ]
  },
  {
   "cell_type": "markdown",
   "metadata": {},
   "source": [
    "### Enable Configuration to Communicate Filebeat with Logstash\n",
    "\n",
    "##### As we want to establish a connection between filebeat and logstash, we must recall that we have secured all communication with logstash using ssl. Therefore, any beat that seeks to communicate with logstash must provide the certificate we have generated in the logstash node.\n",
    "\n",
    "##### In this node, the certificate is located in \"/etc/pki/tls/certs/logstash-forwarder.crt\". Before setting up the necessary configuration for filebeat to connect with logstash, we will first validate if we can stablish a connection to logstash using the following command:\n",
    "\n",
    "~~~\n",
    "telnet <LOGSTASH-IP-ADDRESS> 5044\n",
    "~~~\n",
    "\n",
    "##### You will get a message stating \"Connected to .....\"  To exit press CTRL+] and then quit or CTRL+D\n",
    "\n",
    "##### Now let us validate teh certificate by using the following command:\n",
    "\n",
    "~~~\n",
    "curl -v --cacert /etc/pki/tls/certs/logstash-forwarder.crt <LOGSTASH-IP-ADDRESS>:5044\n",
    "~~~\n",
    "\n",
    "##### Let us now proceed to set the log files we would like filebeat to track and ship to logstash, set the ip address and port in which logstash will receive our data, and define the location of our certificate that will be used to secure communication between filebeat and logstash."
   ]
  },
  {
   "cell_type": "code",
   "execution_count": null,
   "metadata": {},
   "outputs": [],
   "source": [
    "%%bash\n",
    "\n",
    "sudo sed -i \"28i \\ \\ \\ \\ - /var/log/auth.log\" /etc/filebeat/filebeat.yml\n",
    "sudo sed -i \"29i \\ \\ \\ \\ - /var/log/syslog\" /etc/filebeat/filebeat.yml\n",
    "\n",
    "sudo sed -i '160 s/^#//g' /etc/filebeat/filebeat.yml \n",
    "\n",
    "export ls_ip=\"<LOGSTASH-IP-ADDRESS>\"\n",
    "\n",
    "sudo sed -i \"162i \\ \\ hosts: [\\\"$ls_ip:5044\\\"]\" /etc/filebeat/filebeat.yml\n",
    "\n",
    "sudo sed -i '167i \\ \\ ssl.certificate_authorities: [\"/etc/pki/tls/certs/logstash-forwarder.crt\"]' /etc/filebeat/filebeat.yml"
   ]
  },
  {
   "cell_type": "markdown",
   "metadata": {},
   "source": [
    "### Enabling the Filebeat's system module.\n",
    "\n",
    "##### Filebeat supports different modules that allows us to collect and parse logs created by Ubuntu's system loggin service. To enable the system module, run the command below:"
   ]
  },
  {
   "cell_type": "code",
   "execution_count": null,
   "metadata": {},
   "outputs": [],
   "source": [
    "%%bash\n",
    "sudo filebeat modules enable system"
   ]
  },
  {
   "cell_type": "markdown",
   "metadata": {},
   "source": [
    "##### You can verify if the system module has been enables by using the following command:\n",
    "\n",
    "~~~\n",
    "sudo filebeat modules list\n",
    "~~~"
   ]
  },
  {
   "cell_type": "markdown",
   "metadata": {},
   "source": [
    "### Loading Index templates\n",
    "\n",
    "##### An index is a collection of documents that share similar characteristics. We will load an index template for documents stored in filebeat indexes that will be applied automatically when a new index is created. Let us list the current templates in elasticsearch by using the following command:\n",
    "\n",
    "~~~\n",
    "curl -u elastic:elasticsiem -XGET '<ELASTICSEARCH-IP-ADDRESS>:9200/_template?filter_path=*.version&pretty'\n",
    "~~~"
   ]
  },
  {
   "cell_type": "code",
   "execution_count": null,
   "metadata": {},
   "outputs": [],
   "source": [
    "%%bash\n",
    "curl -u elastic:elasticsiem -XGET '<ELASTICSEARCH-IP-ADDRESS>:9200/_template?filter_path=*.version&pretty'"
   ]
  },
  {
   "cell_type": "markdown",
   "metadata": {},
   "source": [
    "##### As we can observe, there are no templates defined for filebeat indexes. Let us load the filebeat template into elasticsearch by using the following command:"
   ]
  },
  {
   "cell_type": "code",
   "execution_count": null,
   "metadata": {},
   "outputs": [],
   "source": [
    "%%bash\n",
    "cd ~\n",
    "sudo /usr/share/filebeat/bin/filebeat export template > filebeat.template.json -c /etc/filebeat/filebeat.yml\n",
    "curl -u elastic:elasticsiem -H 'Content-Type: application/json' -XPUT '<ELASTICSEARCH-IP-ADDRESS>:9200/_template/filebeat-7.3.0' -d@/home/ubuntu/filebeat.template.json\n",
    "curl -u elastic:elasticsiem -XGET '<ELASTICSEARCH-IP-ADDRESS>:9200/_template/' | jq 'keys'\n",
    "    "
   ]
  },
  {
   "cell_type": "markdown",
   "metadata": {},
   "source": [
    "### Installing Kibana dashboards for Filebeat"
   ]
  },
  {
   "cell_type": "code",
   "execution_count": null,
   "metadata": {},
   "outputs": [],
   "source": [
    "%%bash\n",
    "sudo filebeat setup -e \\\n",
    "  -E output.logstash.enabled=false \\\n",
    "  -E output.elasticsearch.hosts=['<ELASTICSEARCH-IP-ADDRESS>:9200'] \\\n",
    "  -E setup.kibana.host=<KIBANA-IP-ADDRESS>:5601 \\\n",
    "  -E output.elasticsearch.username=elastic \\\n",
    "  -E output.elasticsearch.password=elasticsiem"
   ]
  },
  {
   "cell_type": "markdown",
   "metadata": {},
   "source": [
    "### Start Filebeat"
   ]
  },
  {
   "cell_type": "code",
   "execution_count": null,
   "metadata": {},
   "outputs": [],
   "source": [
    "%%bash\n",
    "sudo systemctl start filebeat"
   ]
  },
  {
   "cell_type": "markdown",
   "metadata": {},
   "source": [
    "### Alternatively, you can run Filebeat in debug mode by using the following command:\n",
    "\n",
    "~~~\n",
    "sudo /usr/share/filebeat/bin/filebeat -e -d \"publish\" -c /etc/filebeat/filebeat.yml\n",
    "~~~"
   ]
  },
  {
   "cell_type": "markdown",
   "metadata": {},
   "source": [
    "### Backloging in filebeat\n",
    "\n",
    "\n",
    "##### In teh case that you change some of the filters that you set on logstash and would like to pre-process your data again, you will need to delete all indexes where your data was stored, stop filebeat, delete filebeat's registry file, and start filebeat again.\n",
    "\n",
    "##### To delete filebeat registry, you can use the following command:\n",
    "\n",
    "~~~\n",
    "sudo rm -R /var/lib/filebeat/registry\n",
    "~~~\n",
    "\n",
    "##### Note: Whenever you process again your data, your receiving logs will have a timestamp stating the time the log was received by elasticsearch and not the time at which the log was generated. The timestamp can be replaced by adding a rule on logstash that takes the timestamp stated at the beggining of each log and replace teh default timestamp (receiving time) set by elasticsearch.\n"
   ]
  },
  {
   "cell_type": "markdown",
   "metadata": {},
   "source": [
    "### Packetbeat Installation"
   ]
  },
  {
   "cell_type": "code",
   "execution_count": null,
   "metadata": {},
   "outputs": [],
   "source": [
    "%%bash\n",
    "sudo apt install -y packetbeat"
   ]
  },
  {
   "cell_type": "markdown",
   "metadata": {},
   "source": [
    "### Disable default configuration\n",
    "\n",
    "##### The default packetbeat configuration enables monitoring certain transaction porotocols such as icmp, ampq, cassandra, among others. We will disable unwanted protocols by commenting the protocol and list of ports and monitor only the following: icmp, dhcpv4, dns, http, and tls."
   ]
  },
  {
   "cell_type": "code",
   "execution_count": 5,
   "metadata": {},
   "outputs": [],
   "source": [
    "%%bash\n",
    "sudo sed -i 's/^\\- type\\: amqp/#&/' /etc/packetbeat/packetbeat.yml\n",
    "sudo sed -i 's/^\\ \\ ports\\: \\[5672\\]/#&/' /etc/packetbeat/packetbeat.yml\n",
    "sudo sed -i 's/^\\- type\\: cassandra/#&/' /etc/packetbeat/packetbeat.yml\n",
    "sudo sed -i 's/^\\ \\ ports\\: \\[9042\\]/#&/' /etc/packetbeat/packetbeat.yml\n",
    "sudo sed -i 's/^\\- type\\: memcache/#&/' /etc/packetbeat/packetbeat.yml\n",
    "sudo sed -i 's/^\\ \\ ports\\: \\[11211\\]/#&/' /etc/packetbeat/packetbeat.yml\n",
    "sudo sed -i 's/^\\- type\\: mysql/#&/' /etc/packetbeat/packetbeat.yml\n",
    "sudo sed -i 's/^\\ \\ ports\\: \\[3306,3307\\]/#&/' /etc/packetbeat/packetbeat.yml\n",
    "sudo sed -i 's/^\\- type\\: pgsql/#&/' /etc/packetbeat/packetbeat.yml\n",
    "sudo sed -i 's/^\\ \\ ports\\: \\[5432\\]/#&/' /etc/packetbeat/packetbeat.yml\n",
    "sudo sed -i 's/^\\- type\\: redis/#&/' /etc/packetbeat/packetbeat.yml\n",
    "sudo sed -i 's/^\\ \\ ports\\: \\[6379\\]/#&/' /etc/packetbeat/packetbeat.yml\n",
    "sudo sed -i 's/^\\- type\\: thrift/#&/' /etc/packetbeat/packetbeat.yml\n",
    "sudo sed -i 's/^\\ \\ ports\\: \\[9090\\]/#&/' /etc/packetbeat/packetbeat.yml\n",
    "sudo sed -i 's/^\\- type\\: mongodb/#&/' /etc/packetbeat/packetbeat.yml\n",
    "sudo sed -i 's/^\\ \\ ports\\: \\[27017\\]/#&/' /etc/packetbeat/packetbeat.yml\n",
    "sudo sed -i 's/^\\- type\\: nfs/#&/' /etc/packetbeat/packetbeat.yml\n",
    "sudo sed -i 's/^\\ \\ ports\\: \\[2049\\]/#&/' /etc/packetbeat/packetbeat.yml\n",
    "sudo sed -i 's/^output.elasticsearch\\:/#&/' /etc/packetbeat/packetbeat.yml\n",
    "sudo sed -i 's/^\\ \\ hosts\\: \\[\\\"localhost\\:9200\\\"\\]/#&/' /etc/packetbeat/packetbeat.yml"
   ]
  },
  {
   "cell_type": "markdown",
   "metadata": {},
   "source": [
    "### Enable communication with logstash"
   ]
  },
  {
   "cell_type": "code",
   "execution_count": 7,
   "metadata": {},
   "outputs": [],
   "source": [
    "%%bash\n",
    "export ls_ip=\"<LOGSTASH-IP-ADDRESS>\"\n",
    "\n",
    "#Enable Logstash output\n",
    "sudo sed -i '/output.logstash\\:/s/^#//g' /etc/packetbeat/packetbeat.yml\n",
    "\n",
    "#Uncomment and Change Logstash IP ADDRESS\n",
    "sudo sed -i \"s/#hosts\\: \\[\\\"localhost\\:5044\\\"\\]/\\ hosts\\: \\[\\\"$ls_ip\\:5044\\\"\\]/g\" /etc/packetbeat/packetbeat.yml\n",
    "sudo sed -i 's/ #ssl\\.certificate_authorities\\: \\[\"\\/etc\\/pki\\/root\\/ca\\.pem\"\\]/\\ ssl\\.certificate\\_authorities\\: \\[\"\\/etc\\/pki\\/tls\\/certs\\/logstash\\-forwarder\\.crt\"\\]/g' /etc/packetbeat/packetbeat.yml\n"
   ]
  },
  {
   "cell_type": "markdown",
   "metadata": {},
   "source": [
    "### Test Configuration and Connectivity to Logstash"
   ]
  },
  {
   "cell_type": "code",
   "execution_count": 8,
   "metadata": {},
   "outputs": [
    {
     "name": "stdout",
     "output_type": "stream",
     "text": [
      "Config OK\n",
      "logstash: 10.1.1.13:5044...\n",
      "  connection...\n",
      "    parse host... OK\n",
      "    dns lookup... OK\n",
      "    addresses: 10.1.1.13\n",
      "    dial up... OK\n",
      "  TLS...\n",
      "    security: server's certificate chain verification is enabled\n",
      "    handshake... OK\n",
      "    TLS version: TLSv1.2\n",
      "    dial up... OK\n",
      "  talk to server... OK\n"
     ]
    }
   ],
   "source": [
    "%%bash\n",
    "sudo /usr/share/packetbeat/bin/packetbeat test config -c /etc/packetbeat/packetbeat.yml\n",
    "sudo /usr/share/packetbeat/bin/packetbeat test output -c /etc/packetbeat/packetbeat.yml"
   ]
  },
  {
   "cell_type": "markdown",
   "metadata": {},
   "source": [
    "### Add Kibana Dashboards for Packetbeat"
   ]
  },
  {
   "cell_type": "code",
   "execution_count": 16,
   "metadata": {},
   "outputs": [
    {
     "name": "stdout",
     "output_type": "stream",
     "text": [
      "Index setup finished.\n",
      "Loading dashboards (Kibana must be running and reachable)\n",
      "Loaded dashboards\n"
     ]
    },
    {
     "name": "stderr",
     "output_type": "stream",
     "text": [
      "2019-08-07T04:42:29.537Z\tINFO\tinstance/beat.go:606\tHome path: [/usr/share/packetbeat] Config path: [/etc/packetbeat] Data path: [/var/lib/packetbeat] Logs path: [/var/log/packetbeat]\n",
      "2019-08-07T04:42:29.537Z\tINFO\tinstance/beat.go:614\tBeat ID: ead067ec-ba6d-4134-a16a-8d89f8e626cf\n",
      "2019-08-07T04:42:29.538Z\tINFO\t[beat]\tinstance/beat.go:902\tBeat info\t{\"system_info\": {\"beat\": {\"path\": {\"config\": \"/etc/packetbeat\", \"data\": \"/var/lib/packetbeat\", \"home\": \"/usr/share/packetbeat\", \"logs\": \"/var/log/packetbeat\"}, \"type\": \"packetbeat\", \"uuid\": \"ead067ec-ba6d-4134-a16a-8d89f8e626cf\"}}}\n",
      "2019-08-07T04:42:29.538Z\tINFO\t[beat]\tinstance/beat.go:911\tBuild info\t{\"system_info\": {\"build\": {\"commit\": \"6f0ec01a0e57fe7d4fd703b017fb5a2f6448d097\", \"libbeat\": \"7.3.0\", \"time\": \"2019-07-24T17:32:57.000Z\", \"version\": \"7.3.0\"}}}\n",
      "2019-08-07T04:42:29.539Z\tINFO\t[beat]\tinstance/beat.go:914\tGo runtime info\t{\"system_info\": {\"go\": {\"os\":\"linux\",\"arch\":\"amd64\",\"max_procs\":2,\"version\":\"go1.12.4\"}}}\n",
      "2019-08-07T04:42:29.539Z\tINFO\t[beat]\tinstance/beat.go:918\tHost info\t{\"system_info\": {\"host\": {\"architecture\":\"x86_64\",\"boot_time\":\"2019-07-27T05:35:40Z\",\"containerized\":false,\"name\":\"elastic-siem-test-00\",\"ip\":[\"127.0.0.1/8\",\"::1/128\",\"10.1.1.13/24\",\"fe80::f816:3eff:fe08:af7/64\"],\"kernel_version\":\"4.15.0-55-generic\",\"mac\":[\"fa:16:3e:08:0a:f7\"],\"os\":{\"family\":\"debian\",\"platform\":\"ubuntu\",\"name\":\"Ubuntu\",\"version\":\"18.04.2 LTS (Bionic Beaver)\",\"major\":18,\"minor\":4,\"patch\":2,\"codename\":\"bionic\"},\"timezone\":\"UTC\",\"timezone_offset_sec\":0,\"id\":\"cb23ffbfbc0345df9864aba19a002a09\"}}}\n",
      "2019-08-07T04:42:29.540Z\tINFO\t[beat]\tinstance/beat.go:947\tProcess info\t{\"system_info\": {\"process\": {\"capabilities\": {\"inheritable\":null,\"permitted\":[\"chown\",\"dac_override\",\"dac_read_search\",\"fowner\",\"fsetid\",\"kill\",\"setgid\",\"setuid\",\"setpcap\",\"linux_immutable\",\"net_bind_service\",\"net_broadcast\",\"net_admin\",\"net_raw\",\"ipc_lock\",\"ipc_owner\",\"sys_module\",\"sys_rawio\",\"sys_chroot\",\"sys_ptrace\",\"sys_pacct\",\"sys_admin\",\"sys_boot\",\"sys_nice\",\"sys_resource\",\"sys_time\",\"sys_tty_config\",\"mknod\",\"lease\",\"audit_write\",\"audit_control\",\"setfcap\",\"mac_override\",\"mac_admin\",\"syslog\",\"wake_alarm\",\"block_suspend\",\"audit_read\"],\"effective\":[\"chown\",\"dac_override\",\"dac_read_search\",\"fowner\",\"fsetid\",\"kill\",\"setgid\",\"setuid\",\"setpcap\",\"linux_immutable\",\"net_bind_service\",\"net_broadcast\",\"net_admin\",\"net_raw\",\"ipc_lock\",\"ipc_owner\",\"sys_module\",\"sys_rawio\",\"sys_chroot\",\"sys_ptrace\",\"sys_pacct\",\"sys_admin\",\"sys_boot\",\"sys_nice\",\"sys_resource\",\"sys_time\",\"sys_tty_config\",\"mknod\",\"lease\",\"audit_write\",\"audit_control\",\"setfcap\",\"mac_override\",\"mac_admin\",\"syslog\",\"wake_alarm\",\"block_suspend\",\"audit_read\"],\"bounding\":[\"chown\",\"dac_override\",\"dac_read_search\",\"fowner\",\"fsetid\",\"kill\",\"setgid\",\"setuid\",\"setpcap\",\"linux_immutable\",\"net_bind_service\",\"net_broadcast\",\"net_admin\",\"net_raw\",\"ipc_lock\",\"ipc_owner\",\"sys_module\",\"sys_rawio\",\"sys_chroot\",\"sys_ptrace\",\"sys_pacct\",\"sys_admin\",\"sys_boot\",\"sys_nice\",\"sys_resource\",\"sys_time\",\"sys_tty_config\",\"mknod\",\"lease\",\"audit_write\",\"audit_control\",\"setfcap\",\"mac_override\",\"mac_admin\",\"syslog\",\"wake_alarm\",\"block_suspend\",\"audit_read\"],\"ambient\":null}, \"cwd\": \"/home/ubuntu/ml_and_big_data_in_cloud_environmnets\", \"exe\": \"/usr/share/packetbeat/bin/packetbeat\", \"name\": \"packetbeat\", \"pid\": 16406, \"ppid\": 16405, \"seccomp\": {\"mode\":\"disabled\",\"no_new_privs\":false}, \"start_time\": \"2019-08-07T04:42:29.090Z\"}}}\n",
      "2019-08-07T04:42:29.540Z\tINFO\tinstance/beat.go:292\tSetup Beat: packetbeat; Version: 7.3.0\n",
      "2019-08-07T04:42:29.540Z\tINFO\t[index-management]\tidxmgmt/std.go:178\tSet output.elasticsearch.index to 'packetbeat-7.3.0' as ILM is enabled.\n",
      "2019-08-07T04:42:29.540Z\tINFO\telasticsearch/client.go:170\tElasticsearch url: http://localhost:9200\n",
      "2019-08-07T04:42:29.541Z\tINFO\t[publisher]\tpipeline/module.go:97\tBeat name: elastic-siem-test-00\n",
      "2019-08-07T04:42:29.541Z\tINFO\tprocs/procs.go:105\tProcess watcher disabled\n",
      "2019-08-07T04:42:29.542Z\tINFO\telasticsearch/client.go:170\tElasticsearch url: http://localhost:9200\n",
      "2019-08-07T04:42:29.683Z\tINFO\telasticsearch/client.go:743\tAttempting to connect to Elasticsearch version 7.2.0\n",
      "2019-08-07T04:42:29.718Z\tINFO\t[index-management]\tidxmgmt/std.go:252\tAuto ILM enable success.\n",
      "2019-08-07T04:42:29.763Z\tINFO\t[index-management]\tidxmgmt/std.go:265\tILM policy successfully loaded.\n",
      "2019-08-07T04:42:29.763Z\tINFO\t[index-management]\tidxmgmt/std.go:394\tSet setup.template.name to '{packetbeat-7.3.0 {now/d}-000001}' as ILM is enabled.\n",
      "2019-08-07T04:42:29.763Z\tINFO\t[index-management]\tidxmgmt/std.go:399\tSet setup.template.pattern to 'packetbeat-7.3.0-*' as ILM is enabled.\n",
      "2019-08-07T04:42:29.763Z\tINFO\t[index-management]\tidxmgmt/std.go:433\tSet settings.index.lifecycle.rollover_alias in template to {packetbeat-7.3.0 {now/d}-000001} as ILM is enabled.\n",
      "2019-08-07T04:42:29.763Z\tINFO\t[index-management]\tidxmgmt/std.go:437\tSet settings.index.lifecycle.name in template to {packetbeat-7.3.0 {\"policy\":{\"phases\":{\"hot\":{\"actions\":{\"rollover\":{\"max_age\":\"30d\",\"max_size\":\"50gb\"}}}}}}} as ILM is enabled.\n",
      "2019-08-07T04:42:29.766Z\tINFO\ttemplate/load.go:169\tExisting template will be overwritten, as overwrite is enabled.\n",
      "2019-08-07T04:42:29.855Z\tINFO\ttemplate/load.go:108\tTry loading template packetbeat-7.3.0 to Elasticsearch\n",
      "2019-08-07T04:42:29.915Z\tINFO\ttemplate/load.go:100\ttemplate with name 'packetbeat-7.3.0' loaded.\n",
      "2019-08-07T04:42:29.915Z\tINFO\t[index-management]\tidxmgmt/std.go:289\tLoaded index template.\n",
      "2019-08-07T04:42:29.916Z\tINFO\t[index-management]\tidxmgmt/std.go:300\tWrite alias successfully generated.\n",
      "2019-08-07T04:42:29.916Z\tINFO\tkibana/client.go:117\tKibana url: http://10.1.1.13:5601\n",
      "2019-08-07T04:42:30.054Z\tINFO\tkibana/client.go:117\tKibana url: http://10.1.1.13:5601\n",
      "2019-08-07T04:42:30.743Z\tINFO\tadd_cloud_metadata/add_cloud_metadata.go:351\tadd_cloud_metadata: hosting provider type detected as openstack, metadata={\"availability_zone\":\"zone-r2\",\"instance\":{\"id\":\"i-0002eba8\",\"name\":\"elastic-siem-test-00.novalocal\"},\"machine\":{\"type\":\"m1.small\"},\"provider\":\"openstack\"}\n",
      "2019-08-07T04:42:44.089Z\tINFO\tinstance/beat.go:776\tKibana dashboards successfully loaded.\n"
     ]
    }
   ],
   "source": [
    "%%bash\n",
    "sudo packetbeat setup -e \\\n",
    "  -E output.logstash.enabled=false \\\n",
    "  -E output.elasticsearch.hosts=['<ELASTICSEARCH-IP-ADDRESS>:9200'] \\\n",
    "  -E setup.kibana.host=<KIBANA-IP-ADDRESS>:5601 \\\n",
    "  -E output.elasticsearch.username=elastic \\\n",
    "  -E output.elasticsearch.password=elasticsiem"
   ]
  },
  {
   "cell_type": "markdown",
   "metadata": {},
   "source": [
    "### Add template from packetbeat to elasticsearch"
   ]
  },
  {
   "cell_type": "code",
   "execution_count": 11,
   "metadata": {},
   "outputs": [
    {
     "name": "stdout",
     "output_type": "stream",
     "text": [
      "Index setup finished.\n"
     ]
    }
   ],
   "source": [
    "%%bash\n",
    "\n",
    "sudo packetbeat setup --index-management \\\n",
    "  -E output.logstash.enabled=false \\\n",
    "  -E 'output.elasticsearch.hosts=[\"<ELASTICSEARCH-IP-ADDRESS>:9200\"]' \\\n",
    "  -E output.elasticsearch.username=elastic \\\n",
    "  -E output.elasticsearch.password=elasticsiem\n"
   ]
  },
  {
   "cell_type": "markdown",
   "metadata": {},
   "source": [
    "### List Loaded Templates"
   ]
  },
  {
   "cell_type": "code",
   "execution_count": 12,
   "metadata": {},
   "outputs": [
    {
     "name": "stdout",
     "output_type": "stream",
     "text": [
      "[\n",
      "  \".data-frame-internal-1\",\n",
      "  \".data-frame-notifications-1\",\n",
      "  \".kibana_task_manager\",\n",
      "  \".logstash-management\",\n",
      "  \".management-beats\",\n",
      "  \".ml-anomalies-\",\n",
      "  \".ml-config\",\n",
      "  \".ml-meta\",\n",
      "  \".ml-notifications\",\n",
      "  \".ml-state\",\n",
      "  \".monitoring-alerts-7\",\n",
      "  \".monitoring-beats\",\n",
      "  \".monitoring-es\",\n",
      "  \".monitoring-kibana\",\n",
      "  \".monitoring-logstash\",\n",
      "  \".triggered_watches\",\n",
      "  \".watch-history-9\",\n",
      "  \".watches\",\n",
      "  \"filebeat-7.3.0\",\n",
      "  \"packetbeat-7.3.0\"\n",
      "]\n"
     ]
    },
    {
     "name": "stderr",
     "output_type": "stream",
     "text": [
      "  % Total    % Received % Xferd  Average Speed   Time    Time     Time  Current\n",
      "                                 Dload  Upload   Total   Spent    Left  Speed\n",
      "100  150k  100  150k    0     0  6553k      0 --:--:-- --:--:-- --:--:-- 6553k\n"
     ]
    }
   ],
   "source": [
    "%%bash\n",
    "curl -u elastic:elasticsiem -XGET '<ELASTICSEARCH-IP-ADDRESS>:9200/_template/' | jq 'keys'"
   ]
  },
  {
   "cell_type": "markdown",
   "metadata": {},
   "source": [
    "### Start Packetbeat"
   ]
  },
  {
   "cell_type": "code",
   "execution_count": 9,
   "metadata": {},
   "outputs": [],
   "source": [
    "%%bash\n",
    "sudo systemctl start packetbeat"
   ]
  },
  {
   "cell_type": "markdown",
   "metadata": {},
   "source": [
    "### Alternatively, you can run Filebeat in debug mode by using the following command:\n",
    "\n",
    "~~~\n",
    "sudo /usr/share/packetbeat/bin/packetbeat -e -d \"publish\" -c /etc/packetbeat/packetbeat.yml\n",
    "~~~"
   ]
  }
 ],
 "metadata": {
  "kernelspec": {
   "display_name": "Python 3",
   "language": "python",
   "name": "python3"
  },
  "language_info": {
   "codemirror_mode": {
    "name": "ipython",
    "version": 3
   },
   "file_extension": ".py",
   "mimetype": "text/x-python",
   "name": "python",
   "nbconvert_exporter": "python",
   "pygments_lexer": "ipython3",
   "version": "3.6.8"
  }
 },
 "nbformat": 4,
 "nbformat_minor": 4
}

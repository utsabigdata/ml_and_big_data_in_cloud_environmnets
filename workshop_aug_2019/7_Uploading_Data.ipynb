{
 "cells": [
  {
   "cell_type": "markdown",
   "metadata": {},
   "source": [
    "# Loading Data into Elasticsearch\n",
    "\n",
    "### Elasticsearch can obtain data from multible sources. The information can be delivered by Logstash (A pipeline and Preprocessing Engine) or directly using Elasticsearch API.\n",
    "\n",
    "### In this notebook we will present a simple example for uploading CSV files.\n",
    "<img src=\"img/es_data_collection.png\">"
   ]
  },
  {
   "cell_type": "code",
   "execution_count": null,
   "metadata": {},
   "outputs": [],
   "source": [
    "%%bash\n",
    "sudo apt install python3-pip"
   ]
  },
  {
   "cell_type": "code",
   "execution_count": null,
   "metadata": {},
   "outputs": [],
   "source": [
    "%%bash\n",
    "pip3 install --user elasticsearch-loader\n",
    "pip3 install --user elasticsearch\n",
    "pip3 install --user elasticsearch_dsl"
   ]
  },
  {
   "cell_type": "code",
   "execution_count": null,
   "metadata": {},
   "outputs": [],
   "source": [
    "%%bash\n",
    "pip3 install --user pandas"
   ]
  },
  {
   "cell_type": "code",
   "execution_count": null,
   "metadata": {},
   "outputs": [],
   "source": [
    "import elasticsearch\n",
    "import csv\n",
    "import pandas as pd\n",
    "from elasticsearch_dsl import Search\n",
    "from elasticsearch_dsl import Q"
   ]
  },
  {
   "cell_type": "markdown",
   "metadata": {},
   "source": [
    "##### We use \"elasticsearch_loader\" to communicate with our elasticsearch cluster and upload the file \"students.csv\". Before you run, make sure you replace \"gtp860219\" placed after \"csv-itesm-\" with your initials and any \"YYMMDD\""
   ]
  },
  {
   "cell_type": "code",
   "execution_count": null,
   "metadata": {},
   "outputs": [],
   "source": [
    "%%bash\n",
    "cd /home/ubuntu/ml_and_big_data_in_cloud_environmnets\n",
    "elasticsearch_loader --es-host <ELASTICSEARCH-IP-ADDRESS>:9200 \\\n",
    "    --http-auth logstash_internal:elasticsiem \\\n",
    "    --index csv-itesm-gtp860219 \\\n",
    "    --type student-records csv /home/ubuntu/ml_and_big_data_in_cloud_environmnets/files/students.csv    \n",
    "\n",
    "# %%bash\n",
    "# cd /home/ubuntu/ml_and_big_data_in_cloud_environmnets\n",
    "# elasticsearch_loader --es-host 10.1.1.18:9200 \\\n",
    "#     --http-auth logstash_internal:elasticsiem \\\n",
    "#     --index test-ml \\\n",
    "#     --type airline-records csv /home/ubuntu/ml_and_big_data_in_cloud_environmnets/workshop_aug_2019/files/airline-passengers.csv    "
   ]
  },
  {
   "cell_type": "markdown",
   "metadata": {},
   "source": [
    "### Let us collect the data that we have uploaded to elastic search by communicating with it's API. "
   ]
  },
  {
   "cell_type": "code",
   "execution_count": null,
   "metadata": {},
   "outputs": [],
   "source": [
    "es = elasticsearch.Elasticsearch([\"elastic:elasticsiem@localhost:9200\"])\n",
    "#res = Search(using=es, index=\"csv-itesm*\").query(\"match\", username=\"Erin\")\n",
    "#res = Search(using=es, index=\"csv-itesm*\")\\\n",
    "#        .query('bool', filter=Q('exists', field='name') & Q('exists', field='major'))\n",
    "\n",
    "# Print all records matching the index csv-itesm where the name is Erin\n",
    "res = Search(using=es, index=\"csv-itesm*\").query(\"match\", major=\"Engineering\")\n",
    "response = res.execute()\n",
    "print(response)\n",
    "\n",
    "# Let us print the number of records obtained\n",
    "print(\"Total number of logs: %d \\n\" %(response.hits.total.value))\n",
    "\n",
    "# Print All resords matching the index csv-itesm\n",
    "res = Search(using=es, index=\"csv-itesm*\")\n",
    "response = res.execute()\n",
    "print(response)\n",
    "\n",
    "# Let us print the number of records obtained\n",
    "print(\"Total number of logs: %d \\n\" %(response.hits.total.value))\n"
   ]
  },
  {
   "cell_type": "markdown",
   "metadata": {},
   "source": [
    "### We will now create a Dataframe to place the collected data."
   ]
  },
  {
   "cell_type": "code",
   "execution_count": null,
   "metadata": {},
   "outputs": [],
   "source": [
    "student_df = pd.DataFrame(((hit[\"\\ufeffname\"],hit['major']) for hit in res.scan()),\\\n",
    "                    columns=['name','major'])"
   ]
  },
  {
   "cell_type": "markdown",
   "metadata": {},
   "source": [
    "### Print the first values in the dataframe"
   ]
  },
  {
   "cell_type": "code",
   "execution_count": null,
   "metadata": {},
   "outputs": [],
   "source": [
    "student_df.head()"
   ]
  }
 ],
 "metadata": {
  "kernelspec": {
   "display_name": "Python 3",
   "language": "python",
   "name": "python3"
  },
  "language_info": {
   "codemirror_mode": {
    "name": "ipython",
    "version": 3
   },
   "file_extension": ".py",
   "mimetype": "text/x-python",
   "name": "python",
   "nbconvert_exporter": "python",
   "pygments_lexer": "ipython3",
   "version": "3.6.8"
  }
 },
 "nbformat": 4,
 "nbformat_minor": 4
}

{
 "cells": [
  {
   "cell_type": "markdown",
   "metadata": {},
   "source": [
    "# Introduction to Distributed Search Platforms\n",
    "\n",
    "A distributed search platform is a search engine model for performing web crawling, indexing, and quering where each of these processes are distributted accross multiple servers and networks. All of these functions were previously hosted by a single super computer but with the current amount of information and demand, these tasks have migrated to a distributed model.\n",
    "\n",
    "As an example, in Google's distributed search system different servers index different portions of the web. Each server grabs their  url, crawl every link available from it, and send the collected results to a centralized server which coordinates this information in a database. When a user types a aquery in Google's search field, Google's DNS software relays the query to the query to the most logical cluster of servers. The Web server in the receiveing cluster distributes the query accross thousands of servers that scan the database index to find relevant records.\n",
    "\n",
    "The results are then compiled by each index server, then the dosument server generates the titles and summaries that are passed to the page builder presenting the final search results to the end user.\n",
    "\n",
    "## Requirements\n",
    "\n",
    "* Use a standard transport mechanism such as HTTP or SOAP\n",
    "* Distributed Indexing\n",
    "* Basic query sytax: Query --> Result\n",
    "* Organized semantic structure\n",
    "* Single relevance scoring sange: XML tag results allow merge and display efficiency"
   ]
  },
  {
   "cell_type": "markdown",
   "metadata": {},
   "source": [
    "## Popular Distributed Search Platforms\n",
    "\n",
    "* Elasticsearch\n",
    "* Splunk\n",
    "* Solr\n",
    "* Sphinx\n",
    "* Microsoft Azure Search\n",
    "* Algolia\n",
    "* Google Search Appliance\n",
    "* Amazon CloudSearch"
   ]
  },
  {
   "cell_type": "markdown",
   "metadata": {},
   "source": [
    "## Elasticsearch Strenghts\n",
    "\n",
    "It has become the absolute leader since 2018. It id and Open-Source technology that uses the Apache Lucene library. It has been adopted by many companies such as TripAdvisor, Shopify, Mozilla, Foursquare, Etsy, Github, SoundCloud, eBay, Yelp, and Netflix, among others.\n",
    "\n",
    "1. Near Real-Time Indexing: Capable of indexing changing data almost instantly. A useful feature where a database is constantly updating.\n",
    "\n",
    "2. High Scalability: As your data increases, it becomes more difficult to lookup data requested by a client. Elasticsearch scales up by adding additional nodes as your data repository increases in size.\n",
    "\n",
    "3. Storage: In addition to indexing data, elasticsearch is capable of storing your data but it is not recommended to have the Elasticsearch as the primary system wher eyour dtaa is stored.\n",
    "\n",
    "4. Data Visualization: \n",
    "\n",
    "5. Security Analytics\n",
    "\n",
    "6. Machine Learning\n",
    "\n",
    "7. AWS Adoption"
   ]
  },
  {
   "cell_type": "markdown",
   "metadata": {},
   "source": [
    "https://db-engines.com/en/ranking/search+engine\n",
    "\n",
    "https://greenice.net/elasticsearch-vs-solr-vs-sphinx-best-open-source-search-platform-comparison/"
   ]
  }
 ],
 "metadata": {
  "kernelspec": {
   "display_name": "Python 3",
   "language": "python",
   "name": "python3"
  },
  "language_info": {
   "codemirror_mode": {
    "name": "ipython",
    "version": 3
   },
   "file_extension": ".py",
   "mimetype": "text/x-python",
   "name": "python",
   "nbconvert_exporter": "python",
   "pygments_lexer": "ipython3",
   "version": "3.6.8"
  }
 },
 "nbformat": 4,
 "nbformat_minor": 4
}

{
 "cells": [
  {
   "cell_type": "markdown",
   "metadata": {},
   "source": [
    "## Data Shippers\n",
    "\n",
    "#### Beats is the platform for single-purpose data shippers. They send data from hundreds or thousands of machines and systems to Logstash or Elasticsearch.\n",
    "\n",
    "#### In this module we will guide the user through the installation of the beats listed below which allos the  collection of various types of host data:\n",
    "\n",
    "* Filebeat\n",
    "* Packetbeat\n",
    "* Metricbeat\n",
    "* Auditbeat\n",
    "* Heartbeat"
   ]
  },
  {
   "cell_type": "markdown",
   "metadata": {},
   "source": [
    "### Filebeat installation"
   ]
  },
  {
   "cell_type": "code",
   "execution_count": 1,
   "metadata": {},
   "outputs": [
    {
     "name": "stdout",
     "output_type": "stream",
     "text": [
      "Reading package lists...\n",
      "Building dependency tree...\n",
      "Reading state information...\n",
      "The following package was automatically installed and is no longer required:\n",
      "  grub-pc-bin\n",
      "Use 'sudo apt autoremove' to remove it.\n",
      "The following NEW packages will be installed:\n",
      "  filebeat\n",
      "0 upgraded, 1 newly installed, 0 to remove and 0 not upgraded.\n",
      "Need to get 25.5 MB of archives.\n",
      "After this operation, 91.5 MB of additional disk space will be used.\n",
      "Get:1 https://artifacts.elastic.co/packages/7.x/apt stable/main amd64 filebeat amd64 7.3.0 [25.5 MB]\n",
      "Fetched 25.5 MB in 1s (27.8 MB/s)\n",
      "Selecting previously unselected package filebeat.\n",
      "(Reading database ... 223314 files and directories currently installed.)\n",
      "Preparing to unpack .../filebeat_7.3.0_amd64.deb ...\n",
      "Unpacking filebeat (7.3.0) ...\n",
      "Processing triggers for ureadahead (0.100.0-21) ...\n",
      "Processing triggers for systemd (237-3ubuntu10.25) ...\n",
      "Setting up filebeat (7.3.0) ...\n",
      "Processing triggers for systemd (237-3ubuntu10.25) ...\n",
      "Processing triggers for ureadahead (0.100.0-21) ...\n"
     ]
    },
    {
     "name": "stderr",
     "output_type": "stream",
     "text": [
      "shell-init: error retrieving current directory: getcwd: cannot access parent directories: No such file or directory\n",
      "\n",
      "WARNING: apt does not have a stable CLI interface. Use with caution in scripts.\n",
      "\n",
      "sh: 0: getcwd() failed: No such file or directory\n",
      "sh: 0: getcwd() failed: No such file or directory\n",
      "sh: 0: getcwd() failed: No such file or directory\n",
      "sh: 0: getcwd() failed: No such file or directory\n",
      "dpkg-preconfigure: unable to re-open stdin: No such file or directory\n",
      "sh: 0: getcwd() failed: No such file or directory\n"
     ]
    }
   ],
   "source": [
    "%%bash\n",
    "sudo apt install -y filebeat"
   ]
  },
  {
   "cell_type": "markdown",
   "metadata": {},
   "source": [
    "### Disable default configuration"
   ]
  },
  {
   "cell_type": "code",
   "execution_count": 2,
   "metadata": {},
   "outputs": [
    {
     "name": "stderr",
     "output_type": "stream",
     "text": [
      "shell-init: error retrieving current directory: getcwd: cannot access parent directories: No such file or directory\n"
     ]
    }
   ],
   "source": [
    "%%bash\n",
    "sudo sed -i '28 s/^/#/' /etc/filebeat/filebeat.yml\n",
    "sudo sed -i '117 s/^/#/' /etc/filebeat/filebeat.yml\n",
    "sudo sed -i '148 s/^/#/' /etc/filebeat/filebeat.yml\n",
    "sudo sed -i '150 s/^/#/' /etc/filebeat/filebeat.yml\n",
    "sudo sed -i '176,178 s/^/#/' /etc/filebeat/filebeat.yml"
   ]
  },
  {
   "cell_type": "markdown",
   "metadata": {},
   "source": [
    "### Enable Configuration to Communicate Filebeat with Logstash\n",
    "\n",
    "##### As we want to establish a connection between filebeat and logstash, we must recall that we have secured all communication with logstash using ssl. Therefore, any beat that seeks to communicate with logstash must provide the certificate we have generated in the logstash node.\n",
    "\n",
    "##### In this node, the certificate is located in \"/etc/pki/tls/certs/logstash-forwarder.crt\". Before setting up the necessary configuration for filebeat to connect with logstash, we will first validate if we can stablish a connection to logstash using the following command:\n",
    "\n",
    "~~~\n",
    "telnet <LOGSTASH-IP-ADDRESS> 5044\n",
    "~~~\n",
    "\n",
    "##### You will get a message stating \"Connected to .....\"  To exit press CTRL+] and then quit or CTRL+D\n",
    "\n",
    "##### Now let us validate teh certificate by using the following command:\n",
    "\n",
    "~~~\n",
    "curl -v --cacert /etc/pki/tls/certs/logstash-forwarder.crt <LOGSTASH-IP-ADDRESS>:5044\n",
    "~~~\n",
    "\n",
    "##### Let us now proceed to set the log files we would like filebeat to track and ship to logstash, set the ip address and port in which logstash will receive our data, and define the location of our certificate that will be used to secure communication between filebeat and logstash."
   ]
  },
  {
   "cell_type": "code",
   "execution_count": 3,
   "metadata": {},
   "outputs": [
    {
     "name": "stderr",
     "output_type": "stream",
     "text": [
      "shell-init: error retrieving current directory: getcwd: cannot access parent directories: No such file or directory\n"
     ]
    }
   ],
   "source": [
    "%%bash\n",
    "\n",
    "sudo sed -i \"28i \\ \\ \\ \\ - /var/log/auth.log\" /etc/filebeat/filebeat.yml\n",
    "sudo sed -i \"29i \\ \\ \\ \\ - /var/log/syslog\" /etc/filebeat/filebeat.yml\n",
    "\n",
    "### DO NOT EXECUTE ###\n",
    "# sudo sed -i '160 s/^/#/g' /etc/filebeat/filebeat.yml \n",
    "# sudo sed -i \"162i \\ \\ hosts: [\\\"$ls_ip:5044\\\"]\" /etc/filebeat/filebeat.yml\n",
    "# sudo sed -i '167i \\ \\ ssl.certificate_authorities: [\"/etc/pki/tls/certs/logstash-forwarder.crt\"]' /etc/filebeat/filebeat.yml\n",
    "### DO NOT EXECUTE ###\n",
    "\n",
    "export ls_ip=\"<LOGSTASH-IP-ADDRESS>\"\n",
    "\n",
    "#Enable Logstash output\n",
    "sudo sed -i '/output.logstash\\:/s/^#//g' /etc/filebeat/filebeat.yml\n",
    "\n",
    "#Uncomment and Change Logstash IP ADDRESS\n",
    "sudo sed -i \"s/#hosts\\: \\[\\\"localhost\\:5044\\\"\\]/hosts\\: \\[\\\"$ls_ip\\:5044\\\"\\]/g\" /etc/filebeat/filebeat.yml\n",
    "sudo sed -i 's/#ssl\\.certificate_authorities\\: \\[\"\\/etc\\/pki\\/root\\/ca\\.pem\"\\]/ssl\\.certificate\\_authorities\\: \\[\"\\/etc\\/pki\\/tls\\/certs\\/logstash\\-forwarder\\.crt\"\\]/g' /etc/filebeat/filebeat.yml\n"
   ]
  },
  {
   "cell_type": "markdown",
   "metadata": {},
   "source": [
    "### Enabling the Filebeat's system module.\n",
    "\n",
    "##### Filebeat supports different modules that allows us to collect and parse logs created by Ubuntu's system loggin service. To enable the system module, run the command below:"
   ]
  },
  {
   "cell_type": "code",
   "execution_count": 4,
   "metadata": {},
   "outputs": [
    {
     "name": "stdout",
     "output_type": "stream",
     "text": [
      "Enabled system\n"
     ]
    },
    {
     "name": "stderr",
     "output_type": "stream",
     "text": [
      "shell-init: error retrieving current directory: getcwd: cannot access parent directories: No such file or directory\n",
      "shell-init: error retrieving current directory: getcwd: cannot access parent directories: No such file or directory\n"
     ]
    }
   ],
   "source": [
    "%%bash\n",
    "sudo filebeat modules enable system"
   ]
  },
  {
   "cell_type": "markdown",
   "metadata": {},
   "source": [
    "##### You can verify if the system module has been enables by using the following command:\n",
    "\n",
    "~~~\n",
    "sudo filebeat modules list\n",
    "~~~"
   ]
  },
  {
   "cell_type": "markdown",
   "metadata": {},
   "source": [
    "### Loading Index templates\n",
    "\n",
    "##### An index is a collection of documents that share similar characteristics. We will load an index template for documents stored in filebeat indexes that will be applied automatically when a new index is created. Let us list the current templates in elasticsearch by using the following command:\n",
    "\n",
    "~~~\n",
    "curl -u elastic:elasticsiem -XGET '<ELASTICSEARCH-IP-ADDRESS>:9200/_template?filter_path=*.version&pretty'\n",
    "~~~"
   ]
  },
  {
   "cell_type": "code",
   "execution_count": 5,
   "metadata": {},
   "outputs": [
    {
     "name": "stdout",
     "output_type": "stream",
     "text": [
      "{\n",
      "  \".data-frame-notifications-1\" : {\n",
      "    \"version\" : 7030099\n",
      "  },\n",
      "  \".monitoring-kibana\" : {\n",
      "    \"version\" : 7000199\n",
      "  },\n",
      "  \".ml-config\" : {\n",
      "    \"version\" : 7030099\n",
      "  },\n",
      "  \".monitoring-logstash\" : {\n",
      "    \"version\" : 7000199\n",
      "  },\n",
      "  \".monitoring-es\" : {\n",
      "    \"version\" : 7000199\n",
      "  },\n",
      "  \".ml-anomalies-\" : {\n",
      "    \"version\" : 7030099\n",
      "  },\n",
      "  \".ml-meta\" : {\n",
      "    \"version\" : 7030099\n",
      "  },\n",
      "  \".management-beats\" : {\n",
      "    \"version\" : 70000\n",
      "  },\n",
      "  \".data-frame-internal-1\" : {\n",
      "    \"version\" : 7030099\n",
      "  },\n",
      "  \".monitoring-beats\" : {\n",
      "    \"version\" : 7000199\n",
      "  },\n",
      "  \".ml-notifications\" : {\n",
      "    \"version\" : 7030099\n",
      "  },\n",
      "  \".ml-state\" : {\n",
      "    \"version\" : 7030099\n",
      "  },\n",
      "  \".monitoring-alerts-7\" : {\n",
      "    \"version\" : 7000199\n",
      "  },\n",
      "  \".kibana_task_manager\" : {\n",
      "    \"version\" : 7030099\n",
      "  }\n",
      "}\n"
     ]
    },
    {
     "name": "stderr",
     "output_type": "stream",
     "text": [
      "shell-init: error retrieving current directory: getcwd: cannot access parent directories: No such file or directory\n",
      "  % Total    % Received % Xferd  Average Speed   Time    Time     Time  Current\n",
      "                                 Dload  Upload   Total   Spent    Left  Speed\n",
      "100   766  100   766    0     0  63833      0 --:--:-- --:--:-- --:--:-- 63833\n"
     ]
    }
   ],
   "source": [
    "%%bash\n",
    "curl -u elastic:elasticsiem -XGET '<ELASTICSEARCH-IP-ADDRESS>:9200/_template?filter_path=*.version&pretty'"
   ]
  },
  {
   "cell_type": "markdown",
   "metadata": {},
   "source": [
    "##### As we can observe, there are no templates defined for filebeat indexes. Let us load the filebeat template into elasticsearch by using the following command:"
   ]
  },
  {
   "cell_type": "code",
   "execution_count": 6,
   "metadata": {},
   "outputs": [
    {
     "name": "stdout",
     "output_type": "stream",
     "text": [
      "{\"acknowledged\":true}[\n",
      "  \".data-frame-internal-1\",\n",
      "  \".data-frame-notifications-1\",\n",
      "  \".kibana_task_manager\",\n",
      "  \".logstash-management\",\n",
      "  \".management-beats\",\n",
      "  \".ml-anomalies-\",\n",
      "  \".ml-config\",\n",
      "  \".ml-meta\",\n",
      "  \".ml-notifications\",\n",
      "  \".ml-state\",\n",
      "  \".monitoring-alerts-7\",\n",
      "  \".monitoring-beats\",\n",
      "  \".monitoring-es\",\n",
      "  \".monitoring-kibana\",\n",
      "  \".monitoring-logstash\",\n",
      "  \".triggered_watches\",\n",
      "  \".watch-history-10\",\n",
      "  \".watches\",\n",
      "  \"filebeat-7.3.0\"\n",
      "]\n"
     ]
    },
    {
     "name": "stderr",
     "output_type": "stream",
     "text": [
      "shell-init: error retrieving current directory: getcwd: cannot access parent directories: No such file or directory\n",
      "chdir: error retrieving current directory: getcwd: cannot access parent directories: No such file or directory\n",
      "  % Total    % Received % Xferd  Average Speed   Time    Time     Time  Current\n",
      "                                 Dload  Upload   Total   Spent    Left  Speed\n",
      "100  141k  100    21  100  141k     70   471k --:--:-- --:--:-- --:--:--  473k\n",
      "  % Total    % Received % Xferd  Average Speed   Time    Time     Time  Current\n",
      "                                 Dload  Upload   Total   Spent    Left  Speed\n",
      "100  106k  100  106k    0     0  4273k      0 --:--:-- --:--:-- --:--:-- 4273k\n"
     ]
    }
   ],
   "source": [
    "%%bash\n",
    "cd ~\n",
    "sudo /usr/share/filebeat/bin/filebeat export template > filebeat.template.json -c /etc/filebeat/filebeat.yml\n",
    "curl -u elastic:elasticsiem -H 'Content-Type: application/json' -XPUT '<ELASTICSEARCH-IP-ADDRESS>:9200/_template/filebeat-7.3.0' -d@/home/ubuntu/filebeat.template.json\n",
    "curl -u elastic:elasticsiem -XGET '<ELASTICSEARCH-IP-ADDRESS>:9200/_template/' | jq 'keys'\n",
    "    "
   ]
  },
  {
   "cell_type": "markdown",
   "metadata": {},
   "source": [
    "### Installing Kibana dashboards for Filebeat"
   ]
  },
  {
   "cell_type": "code",
   "execution_count": 7,
   "metadata": {},
   "outputs": [
    {
     "name": "stdout",
     "output_type": "stream",
     "text": [
      "Index setup finished.\n",
      "Loading dashboards (Kibana must be running and reachable)\n",
      "Loaded dashboards\n",
      "Loaded machine learning job configurations\n",
      "Loaded Ingest pipelines\n"
     ]
    },
    {
     "name": "stderr",
     "output_type": "stream",
     "text": [
      "shell-init: error retrieving current directory: getcwd: cannot access parent directories: No such file or directory\n",
      "shell-init: error retrieving current directory: getcwd: cannot access parent directories: No such file or directory\n",
      "2019-08-09T01:27:55.664Z\tINFO\tinstance/beat.go:606\tHome path: [/usr/share/filebeat] Config path: [/etc/filebeat] Data path: [/var/lib/filebeat] Logs path: [/var/log/filebeat]\n",
      "2019-08-09T01:27:55.665Z\tINFO\tinstance/beat.go:614\tBeat ID: 73026322-2a2c-45b7-b2f8-3ed8088ca09c\n",
      "2019-08-09T01:27:55.665Z\tINFO\t[beat]\tinstance/beat.go:902\tBeat info\t{\"system_info\": {\"beat\": {\"path\": {\"config\": \"/etc/filebeat\", \"data\": \"/var/lib/filebeat\", \"home\": \"/usr/share/filebeat\", \"logs\": \"/var/log/filebeat\"}, \"type\": \"filebeat\", \"uuid\": \"73026322-2a2c-45b7-b2f8-3ed8088ca09c\"}}}\n",
      "2019-08-09T01:27:55.665Z\tINFO\t[beat]\tinstance/beat.go:911\tBuild info\t{\"system_info\": {\"build\": {\"commit\": \"6f0ec01a0e57fe7d4fd703b017fb5a2f6448d097\", \"libbeat\": \"7.3.0\", \"time\": \"2019-07-24T17:39:34.000Z\", \"version\": \"7.3.0\"}}}\n",
      "2019-08-09T01:27:55.665Z\tINFO\t[beat]\tinstance/beat.go:914\tGo runtime info\t{\"system_info\": {\"go\": {\"os\":\"linux\",\"arch\":\"amd64\",\"max_procs\":2,\"version\":\"go1.12.4\"}}}\n",
      "2019-08-09T01:27:55.666Z\tINFO\t[beat]\tinstance/beat.go:918\tHost info\t{\"system_info\": {\"host\": {\"architecture\":\"x86_64\",\"boot_time\":\"2019-08-08T20:17:48Z\",\"containerized\":false,\"name\":\"bigdata-and-ml-workshop-1\",\"ip\":[\"127.0.0.1/8\",\"::1/128\",\"10.1.1.21/24\",\"fe80::f816:3eff:fe35:7527/64\"],\"kernel_version\":\"4.15.0-55-generic\",\"mac\":[\"fa:16:3e:35:75:27\"],\"os\":{\"family\":\"debian\",\"platform\":\"ubuntu\",\"name\":\"Ubuntu\",\"version\":\"18.04.3 LTS (Bionic Beaver)\",\"major\":18,\"minor\":4,\"patch\":3,\"codename\":\"bionic\"},\"timezone\":\"UTC\",\"timezone_offset_sec\":0,\"id\":\"cb23ffbfbc0345df9864aba19a002a09\"}}}\n",
      "2019-08-09T01:27:55.666Z\tINFO\t[beat]\tinstance/beat.go:947\tProcess info\t{\"system_info\": {\"process\": {\"capabilities\": {\"inheritable\":null,\"permitted\":[\"chown\",\"dac_override\",\"dac_read_search\",\"fowner\",\"fsetid\",\"kill\",\"setgid\",\"setuid\",\"setpcap\",\"linux_immutable\",\"net_bind_service\",\"net_broadcast\",\"net_admin\",\"net_raw\",\"ipc_lock\",\"ipc_owner\",\"sys_module\",\"sys_rawio\",\"sys_chroot\",\"sys_ptrace\",\"sys_pacct\",\"sys_admin\",\"sys_boot\",\"sys_nice\",\"sys_resource\",\"sys_time\",\"sys_tty_config\",\"mknod\",\"lease\",\"audit_write\",\"audit_control\",\"setfcap\",\"mac_override\",\"mac_admin\",\"syslog\",\"wake_alarm\",\"block_suspend\",\"audit_read\"],\"effective\":[\"chown\",\"dac_override\",\"dac_read_search\",\"fowner\",\"fsetid\",\"kill\",\"setgid\",\"setuid\",\"setpcap\",\"linux_immutable\",\"net_bind_service\",\"net_broadcast\",\"net_admin\",\"net_raw\",\"ipc_lock\",\"ipc_owner\",\"sys_module\",\"sys_rawio\",\"sys_chroot\",\"sys_ptrace\",\"sys_pacct\",\"sys_admin\",\"sys_boot\",\"sys_nice\",\"sys_resource\",\"sys_time\",\"sys_tty_config\",\"mknod\",\"lease\",\"audit_write\",\"audit_control\",\"setfcap\",\"mac_override\",\"mac_admin\",\"syslog\",\"wake_alarm\",\"block_suspend\",\"audit_read\"],\"bounding\":[\"chown\",\"dac_override\",\"dac_read_search\",\"fowner\",\"fsetid\",\"kill\",\"setgid\",\"setuid\",\"setpcap\",\"linux_immutable\",\"net_bind_service\",\"net_broadcast\",\"net_admin\",\"net_raw\",\"ipc_lock\",\"ipc_owner\",\"sys_module\",\"sys_rawio\",\"sys_chroot\",\"sys_ptrace\",\"sys_pacct\",\"sys_admin\",\"sys_boot\",\"sys_nice\",\"sys_resource\",\"sys_time\",\"sys_tty_config\",\"mknod\",\"lease\",\"audit_write\",\"audit_control\",\"setfcap\",\"mac_override\",\"mac_admin\",\"syslog\",\"wake_alarm\",\"block_suspend\",\"audit_read\"],\"ambient\":null}, \"cwd\": \"/home/ubuntu/ml_and_big_data_in_cloud_environmnets/workshop_aug_2019 (deleted)\", \"exe\": \"/usr/share/filebeat/bin/filebeat\", \"name\": \"filebeat\", \"pid\": 26366, \"ppid\": 26365, \"seccomp\": {\"mode\":\"disabled\",\"no_new_privs\":false}, \"start_time\": \"2019-08-09T01:27:55.320Z\"}}}\n",
      "2019-08-09T01:27:55.667Z\tINFO\tinstance/beat.go:292\tSetup Beat: filebeat; Version: 7.3.0\n",
      "2019-08-09T01:27:55.667Z\tINFO\t[index-management]\tidxmgmt/std.go:178\tSet output.elasticsearch.index to 'filebeat-7.3.0' as ILM is enabled.\n",
      "2019-08-09T01:27:55.667Z\tINFO\telasticsearch/client.go:170\tElasticsearch url: http://10.1.1.18:9200\n",
      "2019-08-09T01:27:55.667Z\tINFO\t[publisher]\tpipeline/module.go:97\tBeat name: bigdata-and-ml-workshop-1\n",
      "2019-08-09T01:27:55.668Z\tINFO\telasticsearch/client.go:170\tElasticsearch url: http://10.1.1.18:9200\n",
      "2019-08-09T01:27:55.673Z\tINFO\telasticsearch/client.go:743\tAttempting to connect to Elasticsearch version 7.3.0\n",
      "2019-08-09T01:27:55.740Z\tINFO\t[index-management]\tidxmgmt/std.go:252\tAuto ILM enable success.\n",
      "2019-08-09T01:27:55.828Z\tINFO\t[index-management]\tidxmgmt/std.go:265\tILM policy successfully loaded.\n",
      "2019-08-09T01:27:55.828Z\tINFO\t[index-management]\tidxmgmt/std.go:394\tSet setup.template.name to '{filebeat-7.3.0 {now/d}-000001}' as ILM is enabled.\n",
      "2019-08-09T01:27:55.828Z\tINFO\t[index-management]\tidxmgmt/std.go:399\tSet setup.template.pattern to 'filebeat-7.3.0-*' as ILM is enabled.\n",
      "2019-08-09T01:27:55.828Z\tINFO\t[index-management]\tidxmgmt/std.go:433\tSet settings.index.lifecycle.rollover_alias in template to {filebeat-7.3.0 {now/d}-000001} as ILM is enabled.\n",
      "2019-08-09T01:27:55.828Z\tINFO\t[index-management]\tidxmgmt/std.go:437\tSet settings.index.lifecycle.name in template to {filebeat-7.3.0 {\"policy\":{\"phases\":{\"hot\":{\"actions\":{\"rollover\":{\"max_age\":\"30d\",\"max_size\":\"50gb\"}}}}}}} as ILM is enabled.\n",
      "2019-08-09T01:27:55.834Z\tINFO\ttemplate/load.go:169\tExisting template will be overwritten, as overwrite is enabled.\n",
      "2019-08-09T01:27:55.958Z\tINFO\ttemplate/load.go:108\tTry loading template filebeat-7.3.0 to Elasticsearch\n",
      "2019-08-09T01:27:56.117Z\tINFO\ttemplate/load.go:100\ttemplate with name 'filebeat-7.3.0' loaded.\n",
      "2019-08-09T01:27:56.117Z\tINFO\t[index-management]\tidxmgmt/std.go:289\tLoaded index template.\n",
      "2019-08-09T01:27:56.795Z\tINFO\t[index-management]\tidxmgmt/std.go:300\tWrite alias successfully generated.\n",
      "2019-08-09T01:27:56.795Z\tINFO\tkibana/client.go:117\tKibana url: http://10.1.1.21:5601\n",
      "2019-08-09T01:27:57.011Z\tINFO\tkibana/client.go:117\tKibana url: http://10.1.1.21:5601\n",
      "2019-08-09T01:28:35.561Z\tINFO\tinstance/beat.go:776\tKibana dashboards successfully loaded.\n",
      "2019-08-09T01:28:35.561Z\tINFO\telasticsearch/client.go:170\tElasticsearch url: http://10.1.1.18:9200\n",
      "2019-08-09T01:28:35.565Z\tINFO\telasticsearch/client.go:743\tAttempting to connect to Elasticsearch version 7.3.0\n",
      "2019-08-09T01:28:35.601Z\tINFO\tkibana/client.go:117\tKibana url: http://10.1.1.21:5601\n",
      "2019-08-09T01:28:35.673Z\tWARN\tfileset/modules.go:414\tX-Pack Machine Learning is not enabled\n",
      "2019-08-09T01:28:35.703Z\tWARN\tfileset/modules.go:414\tX-Pack Machine Learning is not enabled\n",
      "2019-08-09T01:28:35.704Z\tINFO\telasticsearch/client.go:170\tElasticsearch url: http://10.1.1.18:9200\n",
      "2019-08-09T01:28:35.708Z\tINFO\telasticsearch/client.go:743\tAttempting to connect to Elasticsearch version 7.3.0\n",
      "2019-08-09T01:28:35.746Z\tINFO\telasticsearch/client.go:170\tElasticsearch url: http://10.1.1.18:9200\n",
      "2019-08-09T01:28:35.750Z\tINFO\telasticsearch/client.go:743\tAttempting to connect to Elasticsearch version 7.3.0\n",
      "2019-08-09T01:28:36.077Z\tINFO\tfileset/pipelines.go:134\tElasticsearch pipeline with ID 'filebeat-7.3.0-system-auth-pipeline' loaded\n",
      "2019-08-09T01:28:36.179Z\tINFO\tfileset/pipelines.go:134\tElasticsearch pipeline with ID 'filebeat-7.3.0-system-syslog-pipeline' loaded\n",
      "2019-08-09T01:28:36.180Z\tINFO\tcfgfile/reload.go:264\tLoading of config files completed.\n",
      "2019-08-09T01:28:36.180Z\tINFO\t[load]\tcfgfile/list.go:118\tStopping 1 runners ...\n"
     ]
    }
   ],
   "source": [
    "%%bash\n",
    "sudo filebeat setup -e \\\n",
    "  -E output.logstash.enabled=false \\\n",
    "  -E output.elasticsearch.hosts=['<ELASTICSEARCH-IP-ADDRESS>:9200'] \\\n",
    "  -E setup.kibana.host=<KIBANA-IP-ADDRESS>:5601 \\\n",
    "  -E output.elasticsearch.username=elastic \\\n",
    "  -E output.elasticsearch.password=elasticsiem"
   ]
  },
  {
   "cell_type": "markdown",
   "metadata": {},
   "source": [
    "### Start Filebeat"
   ]
  },
  {
   "cell_type": "code",
   "execution_count": 34,
   "metadata": {},
   "outputs": [
    {
     "name": "stderr",
     "output_type": "stream",
     "text": [
      "shell-init: error retrieving current directory: getcwd: cannot access parent directories: No such file or directory\n",
      "Synchronizing state of filebeat.service with SysV service script with /lib/systemd/systemd-sysv-install.\n",
      "Executing: /lib/systemd/systemd-sysv-install enable filebeat\n",
      "sh: 0: getcwd() failed: No such file or directory\n"
     ]
    }
   ],
   "source": [
    "%%bash\n",
    "sudo systemctl start filebeat\n",
    "sudo systemctl enable filebeat"
   ]
  },
  {
   "cell_type": "markdown",
   "metadata": {},
   "source": [
    "### Alternatively, you can run Filebeat in debug mode by using the following command:\n",
    "\n",
    "~~~\n",
    "sudo /usr/share/filebeat/bin/filebeat -e -d \"publish\" -c /etc/filebeat/filebeat.yml\n",
    "~~~"
   ]
  },
  {
   "cell_type": "markdown",
   "metadata": {},
   "source": [
    "### Backloging in filebeat\n",
    "\n",
    "\n",
    "##### In teh case that you change some of the filters that you set on logstash and would like to pre-process your data again, you will need to delete all indexes where your data was stored, stop filebeat, delete filebeat's registry file, and start filebeat again.\n",
    "\n",
    "##### To delete filebeat registry, you can use the following command:\n",
    "\n",
    "~~~\n",
    "sudo rm -R /var/lib/filebeat/registry\n",
    "~~~\n",
    "\n",
    "##### Note: Whenever you process again your data, your receiving logs will have a timestamp stating the time the log was received by elasticsearch and not the time at which the log was generated. The timestamp can be replaced by adding a rule on logstash that takes the timestamp stated at the beggining of each log and replace teh default timestamp (receiving time) set by elasticsearch.\n"
   ]
  },
  {
   "cell_type": "markdown",
   "metadata": {},
   "source": [
    "### Packetbeat Installation"
   ]
  },
  {
   "cell_type": "code",
   "execution_count": 9,
   "metadata": {},
   "outputs": [
    {
     "name": "stdout",
     "output_type": "stream",
     "text": [
      "Reading package lists...\n",
      "Building dependency tree...\n",
      "Reading state information...\n",
      "The following package was automatically installed and is no longer required:\n",
      "  grub-pc-bin\n",
      "Use 'sudo apt autoremove' to remove it.\n",
      "The following NEW packages will be installed:\n",
      "  packetbeat\n",
      "0 upgraded, 1 newly installed, 0 to remove and 0 not upgraded.\n",
      "Need to get 21.3 MB of archives.\n",
      "After this operation, 76.0 MB of additional disk space will be used.\n",
      "Get:1 https://artifacts.elastic.co/packages/7.x/apt stable/main amd64 packetbeat amd64 7.3.0 [21.3 MB]\n",
      "Fetched 21.3 MB in 2s (13.1 MB/s)\n",
      "Selecting previously unselected package packetbeat.\n",
      "(Reading database ... 223782 files and directories currently installed.)\n",
      "Preparing to unpack .../packetbeat_7.3.0_amd64.deb ...\n",
      "Unpacking packetbeat (7.3.0) ...\n",
      "Setting up packetbeat (7.3.0) ...\n",
      "Processing triggers for ureadahead (0.100.0-21) ...\n",
      "Processing triggers for systemd (237-3ubuntu10.25) ...\n"
     ]
    },
    {
     "name": "stderr",
     "output_type": "stream",
     "text": [
      "shell-init: error retrieving current directory: getcwd: cannot access parent directories: No such file or directory\n",
      "\n",
      "WARNING: apt does not have a stable CLI interface. Use with caution in scripts.\n",
      "\n",
      "sh: 0: getcwd() failed: No such file or directory\n",
      "sh: 0: getcwd() failed: No such file or directory\n",
      "sh: 0: getcwd() failed: No such file or directory\n",
      "sh: 0: getcwd() failed: No such file or directory\n",
      "dpkg-preconfigure: unable to re-open stdin: No such file or directory\n",
      "sh: 0: getcwd() failed: No such file or directory\n"
     ]
    }
   ],
   "source": [
    "%%bash\n",
    "sudo apt install -y packetbeat"
   ]
  },
  {
   "cell_type": "markdown",
   "metadata": {},
   "source": [
    "### Disable default configuration\n",
    "\n",
    "##### The default packetbeat configuration enables monitoring certain transaction porotocols such as icmp, ampq, cassandra, among others. We will disable unwanted protocols by commenting the protocol and list of ports and monitor only the following: icmp, dhcpv4, dns, http, and tls."
   ]
  },
  {
   "cell_type": "code",
   "execution_count": 10,
   "metadata": {},
   "outputs": [
    {
     "name": "stderr",
     "output_type": "stream",
     "text": [
      "shell-init: error retrieving current directory: getcwd: cannot access parent directories: No such file or directory\n"
     ]
    }
   ],
   "source": [
    "%%bash\n",
    "sudo sed -i 's/^\\- type\\: amqp/#&/' /etc/packetbeat/packetbeat.yml\n",
    "sudo sed -i 's/^\\ \\ ports\\: \\[5672\\]/#&/' /etc/packetbeat/packetbeat.yml\n",
    "sudo sed -i 's/^\\- type\\: cassandra/#&/' /etc/packetbeat/packetbeat.yml\n",
    "sudo sed -i 's/^\\ \\ ports\\: \\[9042\\]/#&/' /etc/packetbeat/packetbeat.yml\n",
    "sudo sed -i 's/^\\- type\\: memcache/#&/' /etc/packetbeat/packetbeat.yml\n",
    "sudo sed -i 's/^\\ \\ ports\\: \\[11211\\]/#&/' /etc/packetbeat/packetbeat.yml\n",
    "sudo sed -i 's/^\\- type\\: mysql/#&/' /etc/packetbeat/packetbeat.yml\n",
    "sudo sed -i 's/^\\ \\ ports\\: \\[3306,3307\\]/#&/' /etc/packetbeat/packetbeat.yml\n",
    "sudo sed -i 's/^\\- type\\: pgsql/#&/' /etc/packetbeat/packetbeat.yml\n",
    "sudo sed -i 's/^\\ \\ ports\\: \\[5432\\]/#&/' /etc/packetbeat/packetbeat.yml\n",
    "sudo sed -i 's/^\\- type\\: redis/#&/' /etc/packetbeat/packetbeat.yml\n",
    "sudo sed -i 's/^\\ \\ ports\\: \\[6379\\]/#&/' /etc/packetbeat/packetbeat.yml\n",
    "sudo sed -i 's/^\\- type\\: thrift/#&/' /etc/packetbeat/packetbeat.yml\n",
    "sudo sed -i 's/^\\ \\ ports\\: \\[9090\\]/#&/' /etc/packetbeat/packetbeat.yml\n",
    "sudo sed -i 's/^\\- type\\: mongodb/#&/' /etc/packetbeat/packetbeat.yml\n",
    "sudo sed -i 's/^\\ \\ ports\\: \\[27017\\]/#&/' /etc/packetbeat/packetbeat.yml\n",
    "sudo sed -i 's/^\\- type\\: nfs/#&/' /etc/packetbeat/packetbeat.yml\n",
    "sudo sed -i 's/^\\ \\ ports\\: \\[2049\\]/#&/' /etc/packetbeat/packetbeat.yml\n",
    "sudo sed -i 's/^output.elasticsearch\\:/#&/' /etc/packetbeat/packetbeat.yml\n",
    "sudo sed -i 's/^\\ \\ hosts\\: \\[\\\"localhost\\:9200\\\"\\]/#&/' /etc/packetbeat/packetbeat.yml"
   ]
  },
  {
   "cell_type": "markdown",
   "metadata": {},
   "source": [
    "### Enable communication with logstash"
   ]
  },
  {
   "cell_type": "code",
   "execution_count": 11,
   "metadata": {},
   "outputs": [
    {
     "name": "stderr",
     "output_type": "stream",
     "text": [
      "shell-init: error retrieving current directory: getcwd: cannot access parent directories: No such file or directory\n"
     ]
    }
   ],
   "source": [
    "%%bash\n",
    "export ls_ip=\"<LOGSTASH-IP-ADDRESS>\"\n",
    "\n",
    "#Enable Logstash output\n",
    "sudo sed -i '/output.logstash\\:/s/^#//g' /etc/packetbeat/packetbeat.yml\n",
    "\n",
    "#Uncomment and Change Logstash IP ADDRESS\n",
    "sudo sed -i \"s/#hosts\\: \\[\\\"localhost\\:5044\\\"\\]/hosts\\: \\[\\\"$ls_ip\\:5044\\\"\\]/g\" /etc/packetbeat/packetbeat.yml\n",
    "sudo sed -i 's/#ssl\\.certificate_authorities\\: \\[\"\\/etc\\/pki\\/root\\/ca\\.pem\"\\]/ssl\\.certificate\\_authorities\\: \\[\"\\/etc\\/pki\\/tls\\/certs\\/logstash\\-forwarder\\.crt\"\\]/g' /etc/packetbeat/packetbeat.yml\n"
   ]
  },
  {
   "cell_type": "markdown",
   "metadata": {},
   "source": [
    "### Test Configuration and Connectivity to Logstash"
   ]
  },
  {
   "cell_type": "code",
   "execution_count": 17,
   "metadata": {},
   "outputs": [
    {
     "name": "stdout",
     "output_type": "stream",
     "text": [
      "Config OK\n",
      "logstash: 10.1.1.21:5044...\n",
      "  connection...\n",
      "    parse host... OK\n",
      "    dns lookup... OK\n",
      "    addresses: 10.1.1.21\n",
      "    dial up... OK\n",
      "  TLS...\n",
      "    security: server's certificate chain verification is enabled\n",
      "    handshake... OK\n",
      "    TLS version: TLSv1.2\n",
      "    dial up... OK\n",
      "  talk to server... OK\n"
     ]
    },
    {
     "name": "stderr",
     "output_type": "stream",
     "text": [
      "shell-init: error retrieving current directory: getcwd: cannot access parent directories: No such file or directory\n"
     ]
    }
   ],
   "source": [
    "%%bash\n",
    "sudo /usr/share/packetbeat/bin/packetbeat test config -c /etc/packetbeat/packetbeat.yml\n",
    "sudo /usr/share/packetbeat/bin/packetbeat test output -c /etc/packetbeat/packetbeat.yml"
   ]
  },
  {
   "cell_type": "markdown",
   "metadata": {},
   "source": [
    "### Add Kibana Dashboards for Packetbeat"
   ]
  },
  {
   "cell_type": "code",
   "execution_count": 18,
   "metadata": {},
   "outputs": [
    {
     "name": "stdout",
     "output_type": "stream",
     "text": [
      "Index setup finished.\n",
      "Loading dashboards (Kibana must be running and reachable)\n",
      "Loaded dashboards\n"
     ]
    },
    {
     "name": "stderr",
     "output_type": "stream",
     "text": [
      "shell-init: error retrieving current directory: getcwd: cannot access parent directories: No such file or directory\n",
      "shell-init: error retrieving current directory: getcwd: cannot access parent directories: No such file or directory\n",
      "2019-08-09T01:40:37.171Z\tINFO\tinstance/beat.go:606\tHome path: [/usr/share/packetbeat] Config path: [/etc/packetbeat] Data path: [/var/lib/packetbeat] Logs path: [/var/log/packetbeat]\n",
      "2019-08-09T01:40:37.882Z\tINFO\tinstance/beat.go:614\tBeat ID: 7941b4bc-3e6f-4b50-9800-43bd7191ec37\n",
      "2019-08-09T01:40:37.883Z\tINFO\t[beat]\tinstance/beat.go:902\tBeat info\t{\"system_info\": {\"beat\": {\"path\": {\"config\": \"/etc/packetbeat\", \"data\": \"/var/lib/packetbeat\", \"home\": \"/usr/share/packetbeat\", \"logs\": \"/var/log/packetbeat\"}, \"type\": \"packetbeat\", \"uuid\": \"7941b4bc-3e6f-4b50-9800-43bd7191ec37\"}}}\n",
      "2019-08-09T01:40:37.884Z\tINFO\t[beat]\tinstance/beat.go:911\tBuild info\t{\"system_info\": {\"build\": {\"commit\": \"6f0ec01a0e57fe7d4fd703b017fb5a2f6448d097\", \"libbeat\": \"7.3.0\", \"time\": \"2019-07-24T17:32:57.000Z\", \"version\": \"7.3.0\"}}}\n",
      "2019-08-09T01:40:37.884Z\tINFO\t[beat]\tinstance/beat.go:914\tGo runtime info\t{\"system_info\": {\"go\": {\"os\":\"linux\",\"arch\":\"amd64\",\"max_procs\":2,\"version\":\"go1.12.4\"}}}\n",
      "2019-08-09T01:40:37.884Z\tINFO\t[beat]\tinstance/beat.go:918\tHost info\t{\"system_info\": {\"host\": {\"architecture\":\"x86_64\",\"boot_time\":\"2019-08-08T20:17:48Z\",\"containerized\":false,\"name\":\"bigdata-and-ml-workshop-1\",\"ip\":[\"127.0.0.1/8\",\"::1/128\",\"10.1.1.21/24\",\"fe80::f816:3eff:fe35:7527/64\"],\"kernel_version\":\"4.15.0-55-generic\",\"mac\":[\"fa:16:3e:35:75:27\"],\"os\":{\"family\":\"debian\",\"platform\":\"ubuntu\",\"name\":\"Ubuntu\",\"version\":\"18.04.3 LTS (Bionic Beaver)\",\"major\":18,\"minor\":4,\"patch\":3,\"codename\":\"bionic\"},\"timezone\":\"UTC\",\"timezone_offset_sec\":0,\"id\":\"cb23ffbfbc0345df9864aba19a002a09\"}}}\n",
      "2019-08-09T01:40:37.885Z\tINFO\t[beat]\tinstance/beat.go:947\tProcess info\t{\"system_info\": {\"process\": {\"capabilities\": {\"inheritable\":null,\"permitted\":[\"chown\",\"dac_override\",\"dac_read_search\",\"fowner\",\"fsetid\",\"kill\",\"setgid\",\"setuid\",\"setpcap\",\"linux_immutable\",\"net_bind_service\",\"net_broadcast\",\"net_admin\",\"net_raw\",\"ipc_lock\",\"ipc_owner\",\"sys_module\",\"sys_rawio\",\"sys_chroot\",\"sys_ptrace\",\"sys_pacct\",\"sys_admin\",\"sys_boot\",\"sys_nice\",\"sys_resource\",\"sys_time\",\"sys_tty_config\",\"mknod\",\"lease\",\"audit_write\",\"audit_control\",\"setfcap\",\"mac_override\",\"mac_admin\",\"syslog\",\"wake_alarm\",\"block_suspend\",\"audit_read\"],\"effective\":[\"chown\",\"dac_override\",\"dac_read_search\",\"fowner\",\"fsetid\",\"kill\",\"setgid\",\"setuid\",\"setpcap\",\"linux_immutable\",\"net_bind_service\",\"net_broadcast\",\"net_admin\",\"net_raw\",\"ipc_lock\",\"ipc_owner\",\"sys_module\",\"sys_rawio\",\"sys_chroot\",\"sys_ptrace\",\"sys_pacct\",\"sys_admin\",\"sys_boot\",\"sys_nice\",\"sys_resource\",\"sys_time\",\"sys_tty_config\",\"mknod\",\"lease\",\"audit_write\",\"audit_control\",\"setfcap\",\"mac_override\",\"mac_admin\",\"syslog\",\"wake_alarm\",\"block_suspend\",\"audit_read\"],\"bounding\":[\"chown\",\"dac_override\",\"dac_read_search\",\"fowner\",\"fsetid\",\"kill\",\"setgid\",\"setuid\",\"setpcap\",\"linux_immutable\",\"net_bind_service\",\"net_broadcast\",\"net_admin\",\"net_raw\",\"ipc_lock\",\"ipc_owner\",\"sys_module\",\"sys_rawio\",\"sys_chroot\",\"sys_ptrace\",\"sys_pacct\",\"sys_admin\",\"sys_boot\",\"sys_nice\",\"sys_resource\",\"sys_time\",\"sys_tty_config\",\"mknod\",\"lease\",\"audit_write\",\"audit_control\",\"setfcap\",\"mac_override\",\"mac_admin\",\"syslog\",\"wake_alarm\",\"block_suspend\",\"audit_read\"],\"ambient\":null}, \"cwd\": \"/home/ubuntu/ml_and_big_data_in_cloud_environmnets/workshop_aug_2019 (deleted)\", \"exe\": \"/usr/share/packetbeat/bin/packetbeat\", \"name\": \"packetbeat\", \"pid\": 26883, \"ppid\": 26882, \"seccomp\": {\"mode\":\"disabled\",\"no_new_privs\":false}, \"start_time\": \"2019-08-09T01:40:36.690Z\"}}}\n",
      "2019-08-09T01:40:37.885Z\tINFO\tinstance/beat.go:292\tSetup Beat: packetbeat; Version: 7.3.0\n",
      "2019-08-09T01:40:37.886Z\tINFO\t[index-management]\tidxmgmt/std.go:178\tSet output.elasticsearch.index to 'packetbeat-7.3.0' as ILM is enabled.\n",
      "2019-08-09T01:40:37.886Z\tINFO\telasticsearch/client.go:170\tElasticsearch url: http://10.1.1.18:9200\n",
      "2019-08-09T01:40:37.888Z\tINFO\t[publisher]\tpipeline/module.go:97\tBeat name: bigdata-and-ml-workshop-1\n",
      "2019-08-09T01:40:37.888Z\tINFO\tprocs/procs.go:105\tProcess watcher disabled\n",
      "2019-08-09T01:40:37.891Z\tINFO\telasticsearch/client.go:170\tElasticsearch url: http://10.1.1.18:9200\n",
      "2019-08-09T01:40:37.900Z\tINFO\telasticsearch/client.go:743\tAttempting to connect to Elasticsearch version 7.3.0\n",
      "2019-08-09T01:40:37.963Z\tINFO\t[index-management]\tidxmgmt/std.go:252\tAuto ILM enable success.\n",
      "2019-08-09T01:40:38.088Z\tINFO\t[index-management]\tidxmgmt/std.go:265\tILM policy successfully loaded.\n",
      "2019-08-09T01:40:38.088Z\tINFO\t[index-management]\tidxmgmt/std.go:394\tSet setup.template.name to '{packetbeat-7.3.0 {now/d}-000001}' as ILM is enabled.\n",
      "2019-08-09T01:40:38.088Z\tINFO\t[index-management]\tidxmgmt/std.go:399\tSet setup.template.pattern to 'packetbeat-7.3.0-*' as ILM is enabled.\n",
      "2019-08-09T01:40:38.088Z\tINFO\t[index-management]\tidxmgmt/std.go:433\tSet settings.index.lifecycle.rollover_alias in template to {packetbeat-7.3.0 {now/d}-000001} as ILM is enabled.\n",
      "2019-08-09T01:40:38.088Z\tINFO\t[index-management]\tidxmgmt/std.go:437\tSet settings.index.lifecycle.name in template to {packetbeat-7.3.0 {\"policy\":{\"phases\":{\"hot\":{\"actions\":{\"rollover\":{\"max_age\":\"30d\",\"max_size\":\"50gb\"}}}}}}} as ILM is enabled.\n",
      "2019-08-09T01:40:38.090Z\tINFO\ttemplate/load.go:169\tExisting template will be overwritten, as overwrite is enabled.\n",
      "2019-08-09T01:40:38.164Z\tINFO\ttemplate/load.go:108\tTry loading template packetbeat-7.3.0 to Elasticsearch\n",
      "2019-08-09T01:40:38.292Z\tINFO\ttemplate/load.go:100\ttemplate with name 'packetbeat-7.3.0' loaded.\n",
      "2019-08-09T01:40:38.292Z\tINFO\t[index-management]\tidxmgmt/std.go:289\tLoaded index template.\n",
      "2019-08-09T01:40:38.753Z\tINFO\tadd_cloud_metadata/add_cloud_metadata.go:351\tadd_cloud_metadata: hosting provider type detected as openstack, metadata={\"availability_zone\":\"zone-r6\",\"instance\":{\"id\":\"i-0002f19d\",\"name\":\"bigdata-and-ml-workshop-1.novalocal\"},\"machine\":{\"type\":\"m1.small\"},\"provider\":\"openstack\"}\n",
      "2019-08-09T01:40:39.166Z\tINFO\t[index-management]\tidxmgmt/std.go:300\tWrite alias successfully generated.\n",
      "2019-08-09T01:40:39.166Z\tINFO\tkibana/client.go:117\tKibana url: http://10.1.1.21:5601\n",
      "2019-08-09T01:40:39.348Z\tINFO\tkibana/client.go:117\tKibana url: http://10.1.1.21:5601\n",
      "2019-08-09T01:40:53.326Z\tINFO\tinstance/beat.go:776\tKibana dashboards successfully loaded.\n"
     ]
    }
   ],
   "source": [
    "%%bash\n",
    "sudo packetbeat setup -e \\\n",
    "  -E output.logstash.enabled=false \\\n",
    "  -E output.elasticsearch.hosts=['<ELASTICSEARCH-IP-ADDRESS>:9200'] \\\n",
    "  -E setup.kibana.host=<KIBANA-IP-ADDRESS>:5601 \\\n",
    "  -E output.elasticsearch.username=elastic \\\n",
    "  -E output.elasticsearch.password=elasticsiem"
   ]
  },
  {
   "cell_type": "markdown",
   "metadata": {},
   "source": [
    "### Add template from packetbeat to elasticsearch"
   ]
  },
  {
   "cell_type": "code",
   "execution_count": 19,
   "metadata": {},
   "outputs": [
    {
     "name": "stdout",
     "output_type": "stream",
     "text": [
      "Index setup finished.\n"
     ]
    },
    {
     "name": "stderr",
     "output_type": "stream",
     "text": [
      "shell-init: error retrieving current directory: getcwd: cannot access parent directories: No such file or directory\n",
      "shell-init: error retrieving current directory: getcwd: cannot access parent directories: No such file or directory\n"
     ]
    }
   ],
   "source": [
    "%%bash\n",
    "\n",
    "sudo packetbeat setup --index-management \\\n",
    "  -E output.logstash.enabled=false \\\n",
    "  -E output.elasticsearch.hosts=[\"<ELASTICSEARCH-IP-ADDRESS>:9200\"] \\\n",
    "  -E output.elasticsearch.username=elastic \\\n",
    "  -E output.elasticsearch.password=elasticsiem\n"
   ]
  },
  {
   "cell_type": "markdown",
   "metadata": {},
   "source": [
    "### List Loaded Templates"
   ]
  },
  {
   "cell_type": "code",
   "execution_count": 20,
   "metadata": {},
   "outputs": [
    {
     "name": "stdout",
     "output_type": "stream",
     "text": [
      "[\n",
      "  \".data-frame-internal-1\",\n",
      "  \".data-frame-notifications-1\",\n",
      "  \".kibana_task_manager\",\n",
      "  \".logstash-management\",\n",
      "  \".management-beats\",\n",
      "  \".ml-anomalies-\",\n",
      "  \".ml-config\",\n",
      "  \".ml-meta\",\n",
      "  \".ml-notifications\",\n",
      "  \".ml-state\",\n",
      "  \".monitoring-alerts-7\",\n",
      "  \".monitoring-beats\",\n",
      "  \".monitoring-es\",\n",
      "  \".monitoring-kibana\",\n",
      "  \".monitoring-logstash\",\n",
      "  \".triggered_watches\",\n",
      "  \".watch-history-10\",\n",
      "  \".watches\",\n",
      "  \"filebeat-7.3.0\",\n",
      "  \"packetbeat-7.3.0\"\n",
      "]\n"
     ]
    },
    {
     "name": "stderr",
     "output_type": "stream",
     "text": [
      "shell-init: error retrieving current directory: getcwd: cannot access parent directories: No such file or directory\n",
      "  % Total    % Received % Xferd  Average Speed   Time    Time     Time  Current\n",
      "                                 Dload  Upload   Total   Spent    Left  Speed\n",
      "100  151k  100  151k    0     0  5827k      0 --:--:-- --:--:-- --:--:-- 5827k\n"
     ]
    }
   ],
   "source": [
    "%%bash\n",
    "curl -u elastic:elasticsiem -XGET '<ELASTICSEARCH-IP-ADDRESS>:9200/_template/' | jq 'keys'"
   ]
  },
  {
   "cell_type": "markdown",
   "metadata": {},
   "source": [
    "### Start Packetbeat"
   ]
  },
  {
   "cell_type": "code",
   "execution_count": 21,
   "metadata": {},
   "outputs": [
    {
     "name": "stderr",
     "output_type": "stream",
     "text": [
      "shell-init: error retrieving current directory: getcwd: cannot access parent directories: No such file or directory\n",
      "Synchronizing state of packetbeat.service with SysV service script with /lib/systemd/systemd-sysv-install.\n",
      "Executing: /lib/systemd/systemd-sysv-install enable packetbeat\n",
      "sh: 0: getcwd() failed: No such file or directory\n"
     ]
    }
   ],
   "source": [
    "%%bash\n",
    "sudo systemctl start packetbeat\n",
    "sudo systemctl enable packetbeat"
   ]
  },
  {
   "cell_type": "markdown",
   "metadata": {},
   "source": [
    "### Alternatively, you can run Filebeat in debug mode by using the following command:\n",
    "\n",
    "~~~\n",
    "sudo /usr/share/packetbeat/bin/packetbeat -e -d \"publish\" -c /etc/packetbeat/packetbeat.yml\n",
    "~~~"
   ]
  },
  {
   "cell_type": "markdown",
   "metadata": {},
   "source": [
    "### Metricbeat Installation"
   ]
  },
  {
   "cell_type": "code",
   "execution_count": 22,
   "metadata": {},
   "outputs": [
    {
     "name": "stdout",
     "output_type": "stream",
     "text": [
      "Reading package lists...\n",
      "Building dependency tree...\n",
      "Reading state information...\n",
      "The following package was automatically installed and is no longer required:\n",
      "  grub-pc-bin\n",
      "Use 'sudo apt autoremove' to remove it.\n",
      "The following NEW packages will be installed:\n",
      "  metricbeat\n",
      "0 upgraded, 1 newly installed, 0 to remove and 0 not upgraded.\n",
      "Need to get 40.3 MB of archives.\n",
      "After this operation, 176 MB of additional disk space will be used.\n",
      "Get:1 https://artifacts.elastic.co/packages/7.x/apt stable/main amd64 metricbeat amd64 7.3.0 [40.3 MB]\n",
      "Fetched 40.3 MB in 2s (21.4 MB/s)\n",
      "Selecting previously unselected package metricbeat.\n",
      "(Reading database ... 223815 files and directories currently installed.)\n",
      "Preparing to unpack .../metricbeat_7.3.0_amd64.deb ...\n",
      "Unpacking metricbeat (7.3.0) ...\n",
      "Setting up metricbeat (7.3.0) ...\n",
      "Processing triggers for ureadahead (0.100.0-21) ...\n",
      "Processing triggers for systemd (237-3ubuntu10.25) ...\n"
     ]
    },
    {
     "name": "stderr",
     "output_type": "stream",
     "text": [
      "shell-init: error retrieving current directory: getcwd: cannot access parent directories: No such file or directory\n",
      "\n",
      "WARNING: apt does not have a stable CLI interface. Use with caution in scripts.\n",
      "\n",
      "sh: 0: getcwd() failed: No such file or directory\n",
      "sh: 0: getcwd() failed: No such file or directory\n",
      "sh: 0: getcwd() failed: No such file or directory\n",
      "sh: 0: getcwd() failed: No such file or directory\n",
      "dpkg-preconfigure: unable to re-open stdin: No such file or directory\n",
      "sh: 0: getcwd() failed: No such file or directory\n"
     ]
    }
   ],
   "source": [
    "%%bash\n",
    "sudo apt install -y metricbeat"
   ]
  },
  {
   "cell_type": "markdown",
   "metadata": {},
   "source": [
    "### Disable default configuration\n",
    "\n",
    "##### The default metricbeat configuration enables connectivity directly to elasticseach. We will disable this configuration to later enable communication to logstash."
   ]
  },
  {
   "cell_type": "code",
   "execution_count": 23,
   "metadata": {},
   "outputs": [
    {
     "name": "stderr",
     "output_type": "stream",
     "text": [
      "shell-init: error retrieving current directory: getcwd: cannot access parent directories: No such file or directory\n"
     ]
    }
   ],
   "source": [
    "%%bash\n",
    "sudo sed -i 's/^output.elasticsearch\\:/#&/' /etc/metricbeat/metricbeat.yml\n",
    "sudo sed -i 's/^\\ \\ hosts\\: \\[\\\"localhost\\:9200\\\"\\]/#&/' /etc/metricbeat/metricbeat.yml"
   ]
  },
  {
   "cell_type": "markdown",
   "metadata": {},
   "source": [
    "### Enable communication with logstash"
   ]
  },
  {
   "cell_type": "code",
   "execution_count": 24,
   "metadata": {},
   "outputs": [
    {
     "name": "stderr",
     "output_type": "stream",
     "text": [
      "shell-init: error retrieving current directory: getcwd: cannot access parent directories: No such file or directory\n"
     ]
    }
   ],
   "source": [
    "%%bash\n",
    "export ls_ip=\"<LOGSTASH-IP-ADDRESS>\"\n",
    "\n",
    "#Enable Logstash output\n",
    "sudo sed -i '/output.logstash\\:/s/^#//g' /etc/metricbeat/metricbeat.yml\n",
    "\n",
    "#Uncomment and Change Logstash IP ADDRESS\n",
    "sudo sed -i \"s/#hosts\\: \\[\\\"localhost\\:5044\\\"\\]/hosts\\: \\[\\\"$ls_ip\\:5044\\\"\\]/g\" /etc/metricbeat/metricbeat.yml\n",
    "sudo sed -i 's/#ssl\\.certificate_authorities\\: \\[\"\\/etc\\/pki\\/root\\/ca\\.pem\"\\]/ssl\\.certificate\\_authorities\\: \\[\"\\/etc\\/pki\\/tls\\/certs\\/logstash\\-forwarder\\.crt\"\\]/g' /etc/metricbeat/metricbeat.yml\n"
   ]
  },
  {
   "cell_type": "markdown",
   "metadata": {},
   "source": [
    "### Enabling the Metricbeats's system module.\n",
    "\n",
    "##### Metric supports different modules that allows us to collect Metrics from different services. In our case, we would like to enable the System Metric module to monitor the metrics of our Virtual Machine.\n",
    "\n",
    "##### For more infomration about the available modules check the following link:\n",
    "https://www.elastic.co/guide/en/beats/metricbeat/current/metricbeat-modules.html\n",
    "\n",
    "##### To enable the system module, run the command below:"
   ]
  },
  {
   "cell_type": "code",
   "execution_count": 25,
   "metadata": {},
   "outputs": [
    {
     "name": "stdout",
     "output_type": "stream",
     "text": [
      "Module system is already enabled\n"
     ]
    },
    {
     "name": "stderr",
     "output_type": "stream",
     "text": [
      "shell-init: error retrieving current directory: getcwd: cannot access parent directories: No such file or directory\n",
      "shell-init: error retrieving current directory: getcwd: cannot access parent directories: No such file or directory\n"
     ]
    }
   ],
   "source": [
    "%%bash\n",
    "sudo metricbeat modules enable system"
   ]
  },
  {
   "cell_type": "markdown",
   "metadata": {},
   "source": [
    "##### You can verify if the system module has been enables by using the following command:\n",
    "\n",
    "~~~\n",
    "sudo metricbeat modules list\n",
    "~~~"
   ]
  },
  {
   "cell_type": "markdown",
   "metadata": {},
   "source": [
    "### Test Configuration and Connectivity to Logstash"
   ]
  },
  {
   "cell_type": "code",
   "execution_count": 26,
   "metadata": {},
   "outputs": [
    {
     "name": "stdout",
     "output_type": "stream",
     "text": [
      "Config OK\n",
      "logstash: 10.1.1.21:5044...\n",
      "  connection...\n",
      "    parse host... OK\n",
      "    dns lookup... OK\n",
      "    addresses: 10.1.1.21\n",
      "    dial up... OK\n",
      "  TLS...\n",
      "    security: server's certificate chain verification is enabled\n",
      "    handshake... OK\n",
      "    TLS version: TLSv1.2\n",
      "    dial up... OK\n",
      "  talk to server... OK\n"
     ]
    },
    {
     "name": "stderr",
     "output_type": "stream",
     "text": [
      "shell-init: error retrieving current directory: getcwd: cannot access parent directories: No such file or directory\n"
     ]
    }
   ],
   "source": [
    "%%bash\n",
    "sudo /usr/share/metricbeat/bin/metricbeat test config -c /etc/metricbeat/metricbeat.yml\n",
    "sudo /usr/share/metricbeat/bin/metricbeat test output -c /etc/metricbeat/metricbeat.yml"
   ]
  },
  {
   "cell_type": "markdown",
   "metadata": {},
   "source": [
    "### Add Kibana Dashboards for Metricbeat"
   ]
  },
  {
   "cell_type": "code",
   "execution_count": 27,
   "metadata": {},
   "outputs": [
    {
     "name": "stdout",
     "output_type": "stream",
     "text": [
      "Index setup finished.\n",
      "Loading dashboards (Kibana must be running and reachable)\n",
      "Loaded dashboards\n"
     ]
    },
    {
     "name": "stderr",
     "output_type": "stream",
     "text": [
      "shell-init: error retrieving current directory: getcwd: cannot access parent directories: No such file or directory\n",
      "shell-init: error retrieving current directory: getcwd: cannot access parent directories: No such file or directory\n",
      "2019-08-09T01:44:46.234Z\tINFO\tinstance/beat.go:606\tHome path: [/usr/share/metricbeat] Config path: [/etc/metricbeat] Data path: [/var/lib/metricbeat] Logs path: [/var/log/metricbeat]\n",
      "2019-08-09T01:44:46.234Z\tINFO\tinstance/beat.go:614\tBeat ID: 6d819694-245a-4eb0-a06e-0323b9aa58ee\n",
      "2019-08-09T01:44:46.235Z\tINFO\t[beat]\tinstance/beat.go:902\tBeat info\t{\"system_info\": {\"beat\": {\"path\": {\"config\": \"/etc/metricbeat\", \"data\": \"/var/lib/metricbeat\", \"home\": \"/usr/share/metricbeat\", \"logs\": \"/var/log/metricbeat\"}, \"type\": \"metricbeat\", \"uuid\": \"6d819694-245a-4eb0-a06e-0323b9aa58ee\"}}}\n",
      "2019-08-09T01:44:46.235Z\tINFO\t[beat]\tinstance/beat.go:911\tBuild info\t{\"system_info\": {\"build\": {\"commit\": \"6f0ec01a0e57fe7d4fd703b017fb5a2f6448d097\", \"libbeat\": \"7.3.0\", \"time\": \"2019-07-24T17:41:50.000Z\", \"version\": \"7.3.0\"}}}\n",
      "2019-08-09T01:44:46.235Z\tINFO\t[beat]\tinstance/beat.go:914\tGo runtime info\t{\"system_info\": {\"go\": {\"os\":\"linux\",\"arch\":\"amd64\",\"max_procs\":2,\"version\":\"go1.12.4\"}}}\n",
      "2019-08-09T01:44:46.236Z\tINFO\t[beat]\tinstance/beat.go:918\tHost info\t{\"system_info\": {\"host\": {\"architecture\":\"x86_64\",\"boot_time\":\"2019-08-08T20:17:48Z\",\"containerized\":false,\"name\":\"bigdata-and-ml-workshop-1\",\"ip\":[\"127.0.0.1/8\",\"::1/128\",\"10.1.1.21/24\",\"fe80::f816:3eff:fe35:7527/64\"],\"kernel_version\":\"4.15.0-55-generic\",\"mac\":[\"fa:16:3e:35:75:27\"],\"os\":{\"family\":\"debian\",\"platform\":\"ubuntu\",\"name\":\"Ubuntu\",\"version\":\"18.04.3 LTS (Bionic Beaver)\",\"major\":18,\"minor\":4,\"patch\":3,\"codename\":\"bionic\"},\"timezone\":\"UTC\",\"timezone_offset_sec\":0,\"id\":\"cb23ffbfbc0345df9864aba19a002a09\"}}}\n",
      "2019-08-09T01:44:46.237Z\tINFO\t[beat]\tinstance/beat.go:947\tProcess info\t{\"system_info\": {\"process\": {\"capabilities\": {\"inheritable\":null,\"permitted\":[\"chown\",\"dac_override\",\"dac_read_search\",\"fowner\",\"fsetid\",\"kill\",\"setgid\",\"setuid\",\"setpcap\",\"linux_immutable\",\"net_bind_service\",\"net_broadcast\",\"net_admin\",\"net_raw\",\"ipc_lock\",\"ipc_owner\",\"sys_module\",\"sys_rawio\",\"sys_chroot\",\"sys_ptrace\",\"sys_pacct\",\"sys_admin\",\"sys_boot\",\"sys_nice\",\"sys_resource\",\"sys_time\",\"sys_tty_config\",\"mknod\",\"lease\",\"audit_write\",\"audit_control\",\"setfcap\",\"mac_override\",\"mac_admin\",\"syslog\",\"wake_alarm\",\"block_suspend\",\"audit_read\"],\"effective\":[\"chown\",\"dac_override\",\"dac_read_search\",\"fowner\",\"fsetid\",\"kill\",\"setgid\",\"setuid\",\"setpcap\",\"linux_immutable\",\"net_bind_service\",\"net_broadcast\",\"net_admin\",\"net_raw\",\"ipc_lock\",\"ipc_owner\",\"sys_module\",\"sys_rawio\",\"sys_chroot\",\"sys_ptrace\",\"sys_pacct\",\"sys_admin\",\"sys_boot\",\"sys_nice\",\"sys_resource\",\"sys_time\",\"sys_tty_config\",\"mknod\",\"lease\",\"audit_write\",\"audit_control\",\"setfcap\",\"mac_override\",\"mac_admin\",\"syslog\",\"wake_alarm\",\"block_suspend\",\"audit_read\"],\"bounding\":[\"chown\",\"dac_override\",\"dac_read_search\",\"fowner\",\"fsetid\",\"kill\",\"setgid\",\"setuid\",\"setpcap\",\"linux_immutable\",\"net_bind_service\",\"net_broadcast\",\"net_admin\",\"net_raw\",\"ipc_lock\",\"ipc_owner\",\"sys_module\",\"sys_rawio\",\"sys_chroot\",\"sys_ptrace\",\"sys_pacct\",\"sys_admin\",\"sys_boot\",\"sys_nice\",\"sys_resource\",\"sys_time\",\"sys_tty_config\",\"mknod\",\"lease\",\"audit_write\",\"audit_control\",\"setfcap\",\"mac_override\",\"mac_admin\",\"syslog\",\"wake_alarm\",\"block_suspend\",\"audit_read\"],\"ambient\":null}, \"cwd\": \"/home/ubuntu/ml_and_big_data_in_cloud_environmnets/workshop_aug_2019 (deleted)\", \"exe\": \"/usr/share/metricbeat/bin/metricbeat\", \"name\": \"metricbeat\", \"pid\": 27238, \"ppid\": 27237, \"seccomp\": {\"mode\":\"disabled\",\"no_new_privs\":false}, \"start_time\": \"2019-08-09T01:44:45.860Z\"}}}\n",
      "2019-08-09T01:44:46.237Z\tINFO\tinstance/beat.go:292\tSetup Beat: metricbeat; Version: 7.3.0\n",
      "2019-08-09T01:44:46.237Z\tINFO\t[index-management]\tidxmgmt/std.go:178\tSet output.elasticsearch.index to 'metricbeat-7.3.0' as ILM is enabled.\n",
      "2019-08-09T01:44:46.237Z\tINFO\telasticsearch/client.go:170\tElasticsearch url: http://10.1.1.18:9200\n",
      "2019-08-09T01:44:46.238Z\tINFO\t[publisher]\tpipeline/module.go:97\tBeat name: bigdata-and-ml-workshop-1\n",
      "2019-08-09T01:44:46.239Z\tINFO\telasticsearch/client.go:170\tElasticsearch url: http://10.1.1.18:9200\n",
      "2019-08-09T01:44:46.243Z\tINFO\telasticsearch/client.go:743\tAttempting to connect to Elasticsearch version 7.3.0\n",
      "2019-08-09T01:44:46.307Z\tINFO\t[index-management]\tidxmgmt/std.go:252\tAuto ILM enable success.\n",
      "2019-08-09T01:44:46.728Z\tINFO\t[index-management]\tidxmgmt/std.go:265\tILM policy successfully loaded.\n",
      "2019-08-09T01:44:46.728Z\tINFO\t[index-management]\tidxmgmt/std.go:394\tSet setup.template.name to '{metricbeat-7.3.0 {now/d}-000001}' as ILM is enabled.\n",
      "2019-08-09T01:44:46.729Z\tINFO\t[index-management]\tidxmgmt/std.go:399\tSet setup.template.pattern to 'metricbeat-7.3.0-*' as ILM is enabled.\n",
      "2019-08-09T01:44:46.729Z\tINFO\t[index-management]\tidxmgmt/std.go:433\tSet settings.index.lifecycle.rollover_alias in template to {metricbeat-7.3.0 {now/d}-000001} as ILM is enabled.\n",
      "2019-08-09T01:44:46.729Z\tINFO\t[index-management]\tidxmgmt/std.go:437\tSet settings.index.lifecycle.name in template to {metricbeat-7.3.0 {\"policy\":{\"phases\":{\"hot\":{\"actions\":{\"rollover\":{\"max_age\":\"30d\",\"max_size\":\"50gb\"}}}}}}} as ILM is enabled.\n",
      "2019-08-09T01:44:46.730Z\tINFO\ttemplate/load.go:169\tExisting template will be overwritten, as overwrite is enabled.\n",
      "2019-08-09T01:44:47.011Z\tINFO\ttemplate/load.go:108\tTry loading template metricbeat-7.3.0 to Elasticsearch\n",
      "2019-08-09T01:44:47.246Z\tINFO\ttemplate/load.go:100\ttemplate with name 'metricbeat-7.3.0' loaded.\n",
      "2019-08-09T01:44:47.246Z\tINFO\t[index-management]\tidxmgmt/std.go:289\tLoaded index template.\n",
      "2019-08-09T01:44:47.365Z\tINFO\tadd_cloud_metadata/add_cloud_metadata.go:351\tadd_cloud_metadata: hosting provider type detected as openstack, metadata={\"availability_zone\":\"zone-r6\",\"instance\":{\"id\":\"i-0002f19d\",\"name\":\"bigdata-and-ml-workshop-1.novalocal\"},\"machine\":{\"type\":\"m1.small\"},\"provider\":\"openstack\"}\n",
      "2019-08-09T01:44:47.765Z\tINFO\t[index-management]\tidxmgmt/std.go:300\tWrite alias successfully generated.\n",
      "2019-08-09T01:44:47.766Z\tINFO\tkibana/client.go:117\tKibana url: http://10.1.1.21:5601\n",
      "2019-08-09T01:44:48.166Z\tINFO\tkibana/client.go:117\tKibana url: http://10.1.1.21:5601\n",
      "2019-08-09T01:45:29.130Z\tINFO\tinstance/beat.go:776\tKibana dashboards successfully loaded.\n"
     ]
    }
   ],
   "source": [
    "%%bash\n",
    "sudo metricbeat setup -e \\\n",
    "  -E output.logstash.enabled=false \\\n",
    "  -E output.elasticsearch.hosts=['<ELASTICSEARCH-IP-ADDRESS>:9200'] \\\n",
    "  -E setup.kibana.host=<KIBANA-IP-ADDRESS>:5601 \\\n",
    "  -E output.elasticsearch.username=elastic \\\n",
    "  -E output.elasticsearch.password=elasticsiem"
   ]
  },
  {
   "cell_type": "markdown",
   "metadata": {},
   "source": [
    "### Add template from metricbeat to elasticsearch"
   ]
  },
  {
   "cell_type": "code",
   "execution_count": 28,
   "metadata": {},
   "outputs": [
    {
     "name": "stdout",
     "output_type": "stream",
     "text": [
      "Index setup finished.\n"
     ]
    },
    {
     "name": "stderr",
     "output_type": "stream",
     "text": [
      "shell-init: error retrieving current directory: getcwd: cannot access parent directories: No such file or directory\n",
      "shell-init: error retrieving current directory: getcwd: cannot access parent directories: No such file or directory\n"
     ]
    }
   ],
   "source": [
    "%%bash\n",
    "\n",
    "sudo metricbeat setup --index-management \\\n",
    "  -E output.logstash.enabled=false \\\n",
    "  -E output.elasticsearch.hosts=[\"<ELASTICSEARCH-IP-ADDRESS>:9200\"] \\\n",
    "  -E output.elasticsearch.username=elastic \\\n",
    "  -E output.elasticsearch.password=elasticsiem\n"
   ]
  },
  {
   "cell_type": "markdown",
   "metadata": {},
   "source": [
    "### List Loaded Templates"
   ]
  },
  {
   "cell_type": "code",
   "execution_count": 29,
   "metadata": {},
   "outputs": [
    {
     "name": "stdout",
     "output_type": "stream",
     "text": [
      "[\n",
      "  \".data-frame-internal-1\",\n",
      "  \".data-frame-notifications-1\",\n",
      "  \".kibana_task_manager\",\n",
      "  \".logstash-management\",\n",
      "  \".management-beats\",\n",
      "  \".ml-anomalies-\",\n",
      "  \".ml-config\",\n",
      "  \".ml-meta\",\n",
      "  \".ml-notifications\",\n",
      "  \".ml-state\",\n",
      "  \".monitoring-alerts-7\",\n",
      "  \".monitoring-beats\",\n",
      "  \".monitoring-es\",\n",
      "  \".monitoring-kibana\",\n",
      "  \".monitoring-logstash\",\n",
      "  \".triggered_watches\",\n",
      "  \".watch-history-10\",\n",
      "  \".watches\",\n",
      "  \"filebeat-7.3.0\",\n",
      "  \"metricbeat-7.3.0\",\n",
      "  \"packetbeat-7.3.0\"\n",
      "]\n"
     ]
    },
    {
     "name": "stderr",
     "output_type": "stream",
     "text": [
      "shell-init: error retrieving current directory: getcwd: cannot access parent directories: No such file or directory\n",
      "  % Total    % Received % Xferd  Average Speed   Time    Time     Time  Current\n",
      "                                 Dload  Upload   Total   Spent    Left  Speed\n",
      "100  286k  100  286k    0     0  6237k      0 --:--:-- --:--:-- --:--:-- 6237k\n"
     ]
    }
   ],
   "source": [
    "%%bash\n",
    "curl -u elastic:elasticsiem -XGET '<ELASTICSEARCH-IP-ADDRESS>:9200/_template/' | jq 'keys'"
   ]
  },
  {
   "cell_type": "markdown",
   "metadata": {},
   "source": [
    "### Start Metricbeat"
   ]
  },
  {
   "cell_type": "code",
   "execution_count": 30,
   "metadata": {},
   "outputs": [
    {
     "name": "stderr",
     "output_type": "stream",
     "text": [
      "shell-init: error retrieving current directory: getcwd: cannot access parent directories: No such file or directory\n",
      "Synchronizing state of metricbeat.service with SysV service script with /lib/systemd/systemd-sysv-install.\n",
      "Executing: /lib/systemd/systemd-sysv-install enable metricbeat\n",
      "sh: 0: getcwd() failed: No such file or directory\n"
     ]
    }
   ],
   "source": [
    "%%bash\n",
    "sudo systemctl start metricbeat\n",
    "sudo systemctl enable metricbeat"
   ]
  },
  {
   "cell_type": "markdown",
   "metadata": {},
   "source": [
    "### Alternatively, you can run Metricbeat in debug mode by using the following command:\n",
    "\n",
    "~~~\n",
    "sudo /usr/share/metriceat/bin/metricbeat -e -d \"publish\" -c /etc/metricbeat/metricbeat.yml\n",
    "~~~"
   ]
  },
  {
   "cell_type": "markdown",
   "metadata": {},
   "source": [
    "### Auditbeat Installation"
   ]
  },
  {
   "cell_type": "code",
   "execution_count": 31,
   "metadata": {},
   "outputs": [
    {
     "name": "stdout",
     "output_type": "stream",
     "text": [
      "Reading package lists...\n",
      "Building dependency tree...\n",
      "Reading state information...\n",
      "The following package was automatically installed and is no longer required:\n",
      "  grub-pc-bin\n",
      "Use 'sudo apt autoremove' to remove it.\n",
      "The following NEW packages will be installed:\n",
      "  auditbeat\n",
      "0 upgraded, 1 newly installed, 0 to remove and 0 not upgraded.\n",
      "Need to get 20.3 MB of archives.\n",
      "After this operation, 72.9 MB of additional disk space will be used.\n",
      "Get:1 https://artifacts.elastic.co/packages/7.x/apt stable/main amd64 auditbeat amd64 7.3.0 [20.3 MB]\n",
      "Fetched 20.3 MB in 2s (12.2 MB/s)\n",
      "Selecting previously unselected package auditbeat.\n",
      "(Reading database ... 223929 files and directories currently installed.)\n",
      "Preparing to unpack .../auditbeat_7.3.0_amd64.deb ...\n",
      "Unpacking auditbeat (7.3.0) ...\n",
      "Setting up auditbeat (7.3.0) ...\n",
      "Processing triggers for ureadahead (0.100.0-21) ...\n",
      "Processing triggers for systemd (237-3ubuntu10.25) ...\n"
     ]
    },
    {
     "name": "stderr",
     "output_type": "stream",
     "text": [
      "shell-init: error retrieving current directory: getcwd: cannot access parent directories: No such file or directory\n",
      "\n",
      "WARNING: apt does not have a stable CLI interface. Use with caution in scripts.\n",
      "\n",
      "sh: 0: getcwd() failed: No such file or directory\n",
      "sh: 0: getcwd() failed: No such file or directory\n",
      "sh: 0: getcwd() failed: No such file or directory\n",
      "sh: 0: getcwd() failed: No such file or directory\n",
      "dpkg-preconfigure: unable to re-open stdin: No such file or directory\n",
      "sh: 0: getcwd() failed: No such file or directory\n"
     ]
    }
   ],
   "source": [
    "%%bash\n",
    "sudo apt install -y auditbeat"
   ]
  },
  {
   "cell_type": "markdown",
   "metadata": {},
   "source": [
    "### Disable default configuration\n",
    "\n",
    "##### The default metricbeat configuration enables connectivity directly to elasticseach. We will disable this configuration to later enable communication to logstash."
   ]
  },
  {
   "cell_type": "code",
   "execution_count": 32,
   "metadata": {},
   "outputs": [
    {
     "name": "stderr",
     "output_type": "stream",
     "text": [
      "shell-init: error retrieving current directory: getcwd: cannot access parent directories: No such file or directory\n"
     ]
    }
   ],
   "source": [
    "%%bash\n",
    "sudo sed -i 's/^output.elasticsearch\\:/#&/' /etc/auditbeat/auditbeat.yml\n",
    "sudo sed -i 's/^\\ \\ hosts\\: \\[\\\"localhost\\:9200\\\"\\]/#&/' /etc/auditbeat/auditbeat.yml"
   ]
  },
  {
   "cell_type": "markdown",
   "metadata": {},
   "source": [
    "### Enable communication with logstash"
   ]
  },
  {
   "cell_type": "code",
   "execution_count": 33,
   "metadata": {},
   "outputs": [
    {
     "name": "stderr",
     "output_type": "stream",
     "text": [
      "shell-init: error retrieving current directory: getcwd: cannot access parent directories: No such file or directory\n"
     ]
    }
   ],
   "source": [
    "%%bash\n",
    "export ls_ip=\"<LOGSTASH-IP-ADDRESS>\"\n",
    "\n",
    "#Enable Logstash output\n",
    "sudo sed -i '/output.logstash\\:/s/^#//g' /etc/auditbeat/auditbeat.yml\n",
    "\n",
    "#Uncomment and Change Logstash IP ADDRESS\n",
    "sudo sed -i \"s/#hosts\\: \\[\\\"localhost\\:5044\\\"\\]/hosts\\: \\[\\\"$ls_ip\\:5044\\\"\\]/g\" /etc/auditbeat/auditbeat.yml\n",
    "sudo sed -i 's/#ssl\\.certificate_authorities\\: \\[\"\\/etc\\/pki\\/root\\/ca\\.pem\"\\]/ssl\\.certificate\\_authorities\\: \\[\"\\/etc\\/pki\\/tls\\/certs\\/logstash\\-forwarder\\.crt\"\\]/g' /etc/auditbeat/auditbeat.yml\n"
   ]
  },
  {
   "cell_type": "markdown",
   "metadata": {},
   "source": [
    "### Change timefram to obtain and update on the system's state"
   ]
  },
  {
   "cell_type": "code",
   "execution_count": 35,
   "metadata": {},
   "outputs": [
    {
     "name": "stderr",
     "output_type": "stream",
     "text": [
      "shell-init: error retrieving current directory: getcwd: cannot access parent directories: No such file or directory\n"
     ]
    }
   ],
   "source": [
    "%%bash\n",
    "sudo sed -i \"s/state\\.period\\: 12h/state\\.period\\: 1h/g\" /etc/auditbeat/auditbeat.yml"
   ]
  },
  {
   "cell_type": "markdown",
   "metadata": {},
   "source": [
    "### Enabling the Auditbeats's system module.\n",
    "\n",
    "##### In the configuration file, two modules are configured by default 1) Auditd 2) File_Integrity and 3) System with the details presented below.\n",
    "##### As you can see, there are no rules defined for auditd. In addition, auditd is not installed in our system.\n",
    "\n",
    "~~~\n",
    "- module: auditd\n",
    "  # Load audit rules from separate files. Same format as audit.rules(7).\n",
    "  audit_rule_files: [ '${path.config}/audit.rules.d/*.conf' ]\n",
    "  audit_rules: |\n",
    "  \n",
    "- module: file_integrity\n",
    "  paths:\n",
    "  - /bin\n",
    "  - /usr/bin\n",
    "  - /sbin\n",
    "  - /usr/sbin\n",
    "  - /etc\n",
    "  \n",
    "- module: system\n",
    "  datasets:\n",
    "    - host    # General host information, e.g. uptime, IPs\n",
    "    - process # Started and stopped processes\n",
    "    - socket  # Opened and closed sockets\n",
    "    - user    # User information\n",
    "~~~\n",
    "\n",
    "##### You can check available modules in teh link below if you seed to audit additional data:\n",
    "https://www.elastic.co/guide/en/beats/auditbeat/current/auditbeat-modules.html\n",
    "\n",
    "##### We proceed to install auditd on Ubuntu 18.04 and to enable module in auditbeat.\n",
    "\n",
    "### Install auditd in ubuntu 18.04:"
   ]
  },
  {
   "cell_type": "code",
   "execution_count": 36,
   "metadata": {},
   "outputs": [
    {
     "name": "stdout",
     "output_type": "stream",
     "text": [
      "Reading package lists...\n",
      "Building dependency tree...\n",
      "Reading state information...\n",
      "The following package was automatically installed and is no longer required:\n",
      "  grub-pc-bin\n",
      "Use 'sudo apt autoremove' to remove it.\n",
      "The following additional packages will be installed:\n",
      "  fonts-lato javascript-common libauparse0 libjs-jquery libltdl7 libprelude23\n",
      "  libruby2.5 prelude-utils rake ruby ruby-did-you-mean ruby-minitest\n",
      "  ruby-net-telnet ruby-power-assert ruby-test-unit ruby2.5\n",
      "  rubygems-integration unzip zip\n",
      "Suggested packages:\n",
      "  ri ruby-dev bundler\n",
      "The following NEW packages will be installed:\n",
      "  audispd-plugins auditd fonts-lato javascript-common libauparse0 libjs-jquery\n",
      "  libltdl7 libprelude23 libruby2.5 prelude-utils rake ruby ruby-did-you-mean\n",
      "  ruby-minitest ruby-net-telnet ruby-power-assert ruby-test-unit ruby2.5\n",
      "  rubygems-integration unzip zip\n",
      "0 upgraded, 21 newly installed, 0 to remove and 0 not upgraded.\n",
      "Need to get 7096 kB of archives.\n",
      "After this operation, 32.5 MB of additional disk space will be used.\n",
      "Get:1 http://zone-r6.clouds.archive.ubuntu.com/ubuntu bionic/main amd64 fonts-lato all 2.0-2 [2698 kB]\n",
      "Get:2 http://zone-r6.clouds.archive.ubuntu.com/ubuntu bionic/main amd64 javascript-common all 11 [6066 B]\n",
      "Get:3 http://zone-r6.clouds.archive.ubuntu.com/ubuntu bionic/main amd64 libauparse0 amd64 1:2.8.2-1ubuntu1 [48.6 kB]\n",
      "Get:4 http://zone-r6.clouds.archive.ubuntu.com/ubuntu bionic/main amd64 libjs-jquery all 3.2.1-1 [152 kB]\n",
      "Get:5 http://zone-r6.clouds.archive.ubuntu.com/ubuntu bionic/main amd64 libltdl7 amd64 2.4.6-2 [38.8 kB]\n",
      "Get:6 http://zone-r6.clouds.archive.ubuntu.com/ubuntu bionic/main amd64 rubygems-integration all 1.11 [4994 B]\n",
      "Get:7 http://zone-r6.clouds.archive.ubuntu.com/ubuntu bionic-updates/main amd64 ruby2.5 amd64 2.5.1-1ubuntu1.4 [48.6 kB]\n",
      "Get:8 http://zone-r6.clouds.archive.ubuntu.com/ubuntu bionic/main amd64 ruby amd64 1:2.5.1 [5712 B]\n",
      "Get:9 http://zone-r6.clouds.archive.ubuntu.com/ubuntu bionic/main amd64 rake all 12.3.1-1 [45.1 kB]\n",
      "Get:10 http://zone-r6.clouds.archive.ubuntu.com/ubuntu bionic/main amd64 ruby-did-you-mean all 1.2.0-2 [9700 B]\n",
      "Get:11 http://zone-r6.clouds.archive.ubuntu.com/ubuntu bionic/main amd64 ruby-minitest all 5.10.3-1 [38.6 kB]\n",
      "Get:12 http://zone-r6.clouds.archive.ubuntu.com/ubuntu bionic/main amd64 ruby-net-telnet all 0.1.1-2 [12.6 kB]\n",
      "Get:13 http://zone-r6.clouds.archive.ubuntu.com/ubuntu bionic/main amd64 ruby-power-assert all 0.3.0-1 [7952 B]\n",
      "Get:14 http://zone-r6.clouds.archive.ubuntu.com/ubuntu bionic/main amd64 ruby-test-unit all 3.2.5-1 [61.1 kB]\n",
      "Get:15 http://zone-r6.clouds.archive.ubuntu.com/ubuntu bionic-updates/main amd64 libruby2.5 amd64 2.5.1-1ubuntu1.4 [3068 kB]\n",
      "Get:16 http://zone-r6.clouds.archive.ubuntu.com/ubuntu bionic/universe amd64 libprelude23 amd64 4.1.0-4 [233 kB]\n",
      "Get:17 http://zone-r6.clouds.archive.ubuntu.com/ubuntu bionic/universe amd64 prelude-utils amd64 4.1.0-4 [36.3 kB]\n",
      "Get:18 http://zone-r6.clouds.archive.ubuntu.com/ubuntu bionic/main amd64 unzip amd64 6.0-21ubuntu1 [167 kB]\n",
      "Get:19 http://zone-r6.clouds.archive.ubuntu.com/ubuntu bionic/main amd64 zip amd64 3.0-11build1 [167 kB]\n",
      "Get:20 http://zone-r6.clouds.archive.ubuntu.com/ubuntu bionic/main amd64 auditd amd64 1:2.8.2-1ubuntu1 [194 kB]\n",
      "Get:21 http://zone-r6.clouds.archive.ubuntu.com/ubuntu bionic/universe amd64 audispd-plugins amd64 1:2.8.2-1ubuntu1 [53.8 kB]\n",
      "Fetched 7096 kB in 3s (2389 kB/s)\n",
      "Selecting previously unselected package fonts-lato.\n",
      "(Reading database ... 223962 files and directories currently installed.)\n",
      "Preparing to unpack .../00-fonts-lato_2.0-2_all.deb ...\n",
      "Unpacking fonts-lato (2.0-2) ...\n",
      "Selecting previously unselected package javascript-common.\n",
      "Preparing to unpack .../01-javascript-common_11_all.deb ...\n",
      "Unpacking javascript-common (11) ...\n",
      "Selecting previously unselected package libauparse0:amd64.\n",
      "Preparing to unpack .../02-libauparse0_1%3a2.8.2-1ubuntu1_amd64.deb ...\n",
      "Unpacking libauparse0:amd64 (1:2.8.2-1ubuntu1) ...\n",
      "Selecting previously unselected package libjs-jquery.\n",
      "Preparing to unpack .../03-libjs-jquery_3.2.1-1_all.deb ...\n",
      "Unpacking libjs-jquery (3.2.1-1) ...\n",
      "Selecting previously unselected package libltdl7:amd64.\n",
      "Preparing to unpack .../04-libltdl7_2.4.6-2_amd64.deb ...\n",
      "Unpacking libltdl7:amd64 (2.4.6-2) ...\n",
      "Selecting previously unselected package rubygems-integration.\n",
      "Preparing to unpack .../05-rubygems-integration_1.11_all.deb ...\n",
      "Unpacking rubygems-integration (1.11) ...\n",
      "Selecting previously unselected package ruby2.5.\n",
      "Preparing to unpack .../06-ruby2.5_2.5.1-1ubuntu1.4_amd64.deb ...\n",
      "Unpacking ruby2.5 (2.5.1-1ubuntu1.4) ...\n",
      "Selecting previously unselected package ruby.\n",
      "Preparing to unpack .../07-ruby_1%3a2.5.1_amd64.deb ...\n",
      "Unpacking ruby (1:2.5.1) ...\n",
      "Selecting previously unselected package rake.\n",
      "Preparing to unpack .../08-rake_12.3.1-1_all.deb ...\n",
      "Unpacking rake (12.3.1-1) ...\n",
      "Selecting previously unselected package ruby-did-you-mean.\n",
      "Preparing to unpack .../09-ruby-did-you-mean_1.2.0-2_all.deb ...\n",
      "Unpacking ruby-did-you-mean (1.2.0-2) ...\n",
      "Selecting previously unselected package ruby-minitest.\n",
      "Preparing to unpack .../10-ruby-minitest_5.10.3-1_all.deb ...\n",
      "Unpacking ruby-minitest (5.10.3-1) ...\n",
      "Selecting previously unselected package ruby-net-telnet.\n",
      "Preparing to unpack .../11-ruby-net-telnet_0.1.1-2_all.deb ...\n",
      "Unpacking ruby-net-telnet (0.1.1-2) ...\n",
      "Selecting previously unselected package ruby-power-assert.\n",
      "Preparing to unpack .../12-ruby-power-assert_0.3.0-1_all.deb ...\n",
      "Unpacking ruby-power-assert (0.3.0-1) ...\n",
      "Selecting previously unselected package ruby-test-unit.\n",
      "Preparing to unpack .../13-ruby-test-unit_3.2.5-1_all.deb ...\n",
      "Unpacking ruby-test-unit (3.2.5-1) ...\n",
      "Selecting previously unselected package libruby2.5:amd64.\n",
      "Preparing to unpack .../14-libruby2.5_2.5.1-1ubuntu1.4_amd64.deb ...\n",
      "Unpacking libruby2.5:amd64 (2.5.1-1ubuntu1.4) ...\n",
      "Selecting previously unselected package libprelude23:amd64.\n",
      "Preparing to unpack .../15-libprelude23_4.1.0-4_amd64.deb ...\n",
      "Unpacking libprelude23:amd64 (4.1.0-4) ...\n",
      "Selecting previously unselected package prelude-utils.\n",
      "Preparing to unpack .../16-prelude-utils_4.1.0-4_amd64.deb ...\n",
      "Unpacking prelude-utils (4.1.0-4) ...\n",
      "Selecting previously unselected package unzip.\n",
      "Preparing to unpack .../17-unzip_6.0-21ubuntu1_amd64.deb ...\n",
      "Unpacking unzip (6.0-21ubuntu1) ...\n",
      "Selecting previously unselected package zip.\n",
      "Preparing to unpack .../18-zip_3.0-11build1_amd64.deb ...\n",
      "Unpacking zip (3.0-11build1) ...\n",
      "Selecting previously unselected package auditd.\n",
      "Preparing to unpack .../19-auditd_1%3a2.8.2-1ubuntu1_amd64.deb ...\n",
      "Unpacking auditd (1:2.8.2-1ubuntu1) ...\n",
      "Selecting previously unselected package audispd-plugins.\n",
      "Preparing to unpack .../20-audispd-plugins_1%3a2.8.2-1ubuntu1_amd64.deb ...\n",
      "Unpacking audispd-plugins (1:2.8.2-1ubuntu1) ...\n",
      "Setting up libauparse0:amd64 (1:2.8.2-1ubuntu1) ...\n",
      "Setting up libjs-jquery (3.2.1-1) ...\n",
      "Processing triggers for mime-support (3.60ubuntu1) ...\n",
      "Processing triggers for ureadahead (0.100.0-21) ...\n",
      "Setting up unzip (6.0-21ubuntu1) ...\n",
      "Setting up zip (3.0-11build1) ...\n",
      "Setting up fonts-lato (2.0-2) ...\n",
      "Setting up auditd (1:2.8.2-1ubuntu1) ...\n",
      "Created symlink /etc/systemd/system/multi-user.target.wants/auditd.service → /lib/systemd/system/auditd.service.\n",
      "Setting up ruby-did-you-mean (1.2.0-2) ...\n",
      "Processing triggers for libc-bin (2.27-3ubuntu1) ...\n",
      "Processing triggers for systemd (237-3ubuntu10.25) ...\n",
      "Setting up libltdl7:amd64 (2.4.6-2) ...\n",
      "Setting up ruby-net-telnet (0.1.1-2) ...\n",
      "Setting up rubygems-integration (1.11) ...\n",
      "Processing triggers for man-db (2.8.3-2ubuntu0.1) ...\n",
      "Setting up javascript-common (11) ...\n",
      "Setting up ruby-minitest (5.10.3-1) ...\n",
      "Processing triggers for fontconfig (2.12.6-0ubuntu2) ...\n",
      "Setting up ruby-power-assert (0.3.0-1) ...\n",
      "Setting up ruby2.5 (2.5.1-1ubuntu1.4) ...\n",
      "Setting up ruby (1:2.5.1) ...\n",
      "Setting up ruby-test-unit (3.2.5-1) ...\n",
      "Setting up rake (12.3.1-1) ...\n",
      "Setting up libprelude23:amd64 (4.1.0-4) ...\n",
      "Setting up audispd-plugins (1:2.8.2-1ubuntu1) ...\n",
      "Setting up libruby2.5:amd64 (2.5.1-1ubuntu1.4) ...\n",
      "Setting up prelude-utils (4.1.0-4) ...\n",
      "Processing triggers for ureadahead (0.100.0-21) ...\n",
      "Processing triggers for libc-bin (2.27-3ubuntu1) ...\n"
     ]
    },
    {
     "name": "stderr",
     "output_type": "stream",
     "text": [
      "shell-init: error retrieving current directory: getcwd: cannot access parent directories: No such file or directory\n",
      "\n",
      "WARNING: apt does not have a stable CLI interface. Use with caution in scripts.\n",
      "\n",
      "sh: 0: getcwd() failed: No such file or directory\n",
      "sh: 0: getcwd() failed: No such file or directory\n",
      "sh: 0: getcwd() failed: No such file or directory\n",
      "sh: 0: getcwd() failed: No such file or directory\n",
      "dpkg-preconfigure: unable to re-open stdin: No such file or directory\n",
      "sh: 0: getcwd() failed: No such file or directory\n"
     ]
    }
   ],
   "source": [
    "%%bash\n",
    "sudo apt install -y auditd audispd-plugins"
   ]
  },
  {
   "cell_type": "markdown",
   "metadata": {},
   "source": [
    "### Create rules for Auditd\n",
    "\n",
    "##### For reference information for each rule please visit the following site:\n",
    "\n",
    "https://gist.githubusercontent.com/Neo23x0/9fe88c0c5979e017a389b90fd19ddfee/raw/f37173a62e2d54325b0e5d496ac51c37dfb4e37f/audit.rules"
   ]
  },
  {
   "cell_type": "code",
   "execution_count": 37,
   "metadata": {},
   "outputs": [
    {
     "name": "stdout",
     "output_type": "stream",
     "text": [
      "No rules\n",
      "enabled 1\n",
      "failure 1\n",
      "pid 28162\n",
      "rate_limit 0\n",
      "backlog_limit 8192\n",
      "lost 0\n",
      "backlog 0\n",
      "backlog_wait_time 0\n",
      "enabled 1\n",
      "failure 1\n",
      "pid 28162\n",
      "rate_limit 0\n",
      "backlog_limit 8192\n",
      "lost 0\n",
      "backlog 1\n",
      "backlog_wait_time 0\n"
     ]
    },
    {
     "name": "stderr",
     "output_type": "stream",
     "text": [
      "shell-init: error retrieving current directory: getcwd: cannot access parent directories: No such file or directory\n",
      "Unknown user: chrony\n",
      "-F unknown field: uid\n",
      "Error sending add rule data request (No such file or directory)\n",
      "Error sending add rule data request (No such file or directory)\n",
      "bash: line 216: =500: No such file or directory\n",
      "bash: line 217: =500: No such file or directory\n",
      "bash: line 218: =500: No such file or directory\n",
      "bash: line 219: =500: No such file or directory\n",
      "bash: line 220: =500: No such file or directory\n",
      "bash: line 221: =500: No such file or directory\n",
      "bash: line 222: =500: No such file or directory\n",
      "bash: line 223: =500: No such file or directory\n",
      "bash: line 224: =500: No such file or directory\n",
      "bash: line 225: =500: No such file or directory\n",
      "bash: line 226: =500: No such file or directory\n",
      "bash: line 227: =500: No such file or directory\n",
      "bash: line 228: =500: No such file or directory\n",
      "bash: line 229: =500: No such file or directory\n",
      "bash: line 230: =500: No such file or directory\n",
      "bash: line 231: =500: No such file or directory\n",
      "bash: line 232: =500: No such file or directory\n",
      "bash: line 233: =500: No such file or directory\n",
      "bash: line 234: =500: No such file or directory\n",
      "bash: line 235: =500: No such file or directory\n",
      "bash: line 236: =500: No such file or directory\n",
      "bash: line 237: =500: No such file or directory\n",
      "bash: line 238: =500: No such file or directory\n",
      "bash: line 239: =500: No such file or directory\n",
      "bash: line 240: =500: No such file or directory\n",
      "bash: line 241: =500: No such file or directory\n",
      "bash: line 290: =1000: No such file or directory\n",
      "bash: line 309: =500: No such file or directory\n",
      "bash: line 310: =500: No such file or directory\n",
      "bash: line 314: =500: No such file or directory\n",
      "bash: line 315: =500: No such file or directory\n",
      "bash: line 316: =500: No such file or directory\n",
      "bash: line 317: =500: No such file or directory\n"
     ]
    }
   ],
   "source": [
    "%%bash\n",
    "# Remove any existing rules\n",
    "sudo auditctl -D\n",
    "\n",
    "# Buffer Size\n",
    "## Feel free to increase this if the machine panic's\n",
    "sudo auditctl -b 8192\n",
    "\n",
    "# Failure Mode\n",
    "## Possible values: 0 (silent), 1 (printk, print a failure message), 2 (panic, halt the system)\n",
    "sudo auditctl -f 1\n",
    "\n",
    "# Ignore errors\n",
    "## e.g. caused by users or files not found in the local environment  \n",
    "sudo auditctl -i \n",
    "\n",
    "# Self Auditing ---------------------------------------------------------------\n",
    "\n",
    "## Audit the audit logs\n",
    "### Successful and unsuccessful attempts to read information from the audit records\n",
    "sudo auditctl -w /var/log/audit/ -k auditlog\n",
    "\n",
    "## Auditd configuration\n",
    "### Modifications to audit configuration that occur while the audit collection functions are operating\n",
    "sudo auditctl -w /etc/audit/ -p wa -k auditconfig\n",
    "sudo auditctl -w /etc/libaudit.conf -p wa -k auditconfig\n",
    "sudo auditctl -w /etc/audisp/ -p wa -k audispconfig\n",
    "\n",
    "## Monitor for use of audit management tools\n",
    "sudo auditctl -w /sbin/auditctl -p x -k audittools\n",
    "sudo auditctl -w /sbin/auditd -p x -k audittools\n",
    "\n",
    "# Filters ---------------------------------------------------------------------\n",
    "\n",
    "### We put these early because audit is a first match wins system.\n",
    "\n",
    "## Ignore SELinux AVC records\n",
    "sudo auditctl -a always,exclude -F msgtype=AVC\n",
    "\n",
    "## Ignore current working directory records\n",
    "sudo auditctl -a always,exclude -F msgtype=CWD\n",
    "\n",
    "## Ignore EOE records (End Of Event, not needed)\n",
    "sudo auditctl -a always,exclude -F msgtype=EOE\n",
    "\n",
    "## Cron jobs fill the logs with stuff we normally don't want (works with SELinux)\n",
    "sudo auditctl -a never,user -F subj_type=crond_t\n",
    "sudo auditctl -a exit,never -F subj_type=crond_t\n",
    "\n",
    "## This prevents chrony from overwhelming the logs\n",
    "sudo auditctl -a never,exit -F arch=b64 -S adjtimex -F auid=unset -F uid=chrony -F subj_type=chronyd_t\n",
    "\n",
    "## This is not very interesting and wastes a lot of space if the server is public facing\n",
    "sudo auditctl -a always,exclude -F msgtype=CRYPTO_KEY_USER\n",
    "\n",
    "## VMWare tools\n",
    "sudo auditctl -a exit,never -F arch=b32 -S fork -F success=0 -F path=/usr/lib/vmware-tools -F subj_type=initrc_t -F exit=-2\n",
    "sudo auditctl -a exit,never -F arch=b64 -S fork -F success=0 -F path=/usr/lib/vmware-tools -F subj_type=initrc_t -F exit=-2\n",
    "\n",
    "### High Volume Event Filter (especially on Linux Workstations)\n",
    "sudo auditctl -a exit,never -F arch=b32 -F dir=/dev/shm -k sharedmemaccess\n",
    "sudo auditctl -a exit,never -F arch=b64 -F dir=/dev/shm -k sharedmemaccess\n",
    "sudo auditctl -a exit,never -F arch=b32 -F dir=/var/lock/lvm -k locklvm\n",
    "sudo auditctl -a exit,never -F arch=b64 -F dir=/var/lock/lvm -k locklvm\n",
    "\n",
    "## More information on how to filter events\n",
    "### https://access.redhat.com/solutions/2482221\n",
    "\n",
    "# Rules -----------------------------------------------------------------------\n",
    "\n",
    "## Kernel parameters\n",
    "sudo auditctl -w /etc/sysctl.conf -p wa -k sysctl\n",
    "\n",
    "## Kernel module loading and unloading\n",
    "sudo auditctl -a always,exit -F perm=x -F auid!=-1 -F path=/sbin/insmod -k modules\n",
    "sudo auditctl -a always,exit -F perm=x -F auid!=-1 -F path=/sbin/modprobe -k modules\n",
    "sudo auditctl -a always,exit -F perm=x -F auid!=-1 -F path=/sbin/rmmod -k modules\n",
    "sudo auditctl -a always,exit -F arch=b64 -S finit_module -S init_module -S delete_module -F auid!=-1 -k modules\n",
    "sudo auditctl -a always,exit -F arch=b32 -S finit_module -S init_module -S delete_module -F auid!=-1 -k modules\n",
    "## Modprobe configuration\n",
    "sudo auditctl -w /etc/modprobe.conf -p wa -k modprobe\n",
    "\n",
    "## KExec usage (all actions)\n",
    "sudo auditctl -a always,exit -F arch=b64 -S kexec_load -k KEXEC\n",
    "sudo auditctl -a always,exit -F arch=b32 -S sys_kexec_load -k KEXEC\n",
    "\n",
    "## Special files\n",
    "sudo auditctl -a exit,always -F arch=b32 -S mknod -S mknodat -k specialfiles\n",
    "sudo auditctl -a exit,always -F arch=b64 -S mknod -S mknodat -k specialfiles\n",
    "\n",
    "## Mount operations (only attributable)\n",
    "sudo auditctl -a always,exit -F arch=b64 -S mount -S umount2 -F auid!=-1 -k mount\n",
    "sudo auditctl -a always,exit -F arch=b32 -S mount -S umount -S umount2 -F auid!=-1 -k mount\n",
    "\n",
    "# Change swap (only attributable)\n",
    "sudo auditctl -a always,exit -F arch=b64 -S swapon -S swapoff -F auid!=-1 -k swap\n",
    "sudo auditctl -a always,exit -F arch=b32 -S swapon -S swapoff -F auid!=-1 -k swap\n",
    "\n",
    "## Time\n",
    "sudo auditctl -a exit,always -F arch=b32 -S adjtimex -S settimeofday -S clock_settime -k time\n",
    "sudo auditctl -a exit,always -F arch=b64 -S adjtimex -S settimeofday -S clock_settime -k time\n",
    "### Local time zone\n",
    "sudo auditctl -w /etc/localtime -p wa -k localtime\n",
    "\n",
    "## Stunnel\n",
    "sudo auditctl -w /usr/sbin/stunnel -p x -k stunnel\n",
    "\n",
    "## Cron configuration & scheduled jobs\n",
    "sudo auditctl -w /etc/cron.allow -p wa -k cron\n",
    "sudo auditctl -w /etc/cron.deny -p wa -k cron\n",
    "sudo auditctl -w /etc/cron.d/ -p wa -k cron\n",
    "sudo auditctl -w /etc/cron.daily/ -p wa -k cron\n",
    "sudo auditctl -w /etc/cron.hourly/ -p wa -k cron\n",
    "sudo auditctl -w /etc/cron.monthly/ -p wa -k cron\n",
    "sudo auditctl -w /etc/cron.weekly/ -p wa -k cron\n",
    "sudo auditctl -w /etc/crontab -p wa -k cron\n",
    "sudo auditctl -w /var/spool/cron/crontabs/ -k cron\n",
    "\n",
    "## User, group, password databases\n",
    "sudo auditctl -w /etc/group -p wa -k etcgroup\n",
    "sudo auditctl -w /etc/passwd -p wa -k etcpasswd\n",
    "sudo auditctl -w /etc/gshadow -k etcgroup\n",
    "sudo auditctl -w /etc/shadow -k etcpasswd\n",
    "sudo auditctl -w /etc/security/opasswd -k opasswd\n",
    "\n",
    "## Sudoers file changes\n",
    "sudo auditctl -w /etc/sudoers -p wa -k actions\n",
    "\n",
    "## Passwd\n",
    "sudo auditctl -w /usr/bin/passwd -p x -k passwd_modification\n",
    "\n",
    "## Tools to change group identifiers\n",
    "sudo auditctl -w /usr/sbin/groupadd -p x -k group_modification\n",
    "sudo auditctl -w /usr/sbin/groupmod -p x -k group_modification\n",
    "sudo auditctl -w /usr/sbin/addgroup -p x -k group_modification\n",
    "sudo auditctl -w /usr/sbin/useradd -p x -k user_modification\n",
    "sudo auditctl -w /usr/sbin/usermod -p x -k user_modification\n",
    "sudo auditctl -w /usr/sbin/adduser -p x -k user_modification\n",
    "\n",
    "## Login configuration and information\n",
    "sudo auditctl -w /etc/login.defs -p wa -k login\n",
    "sudo auditctl -w /etc/securetty -p wa -k login\n",
    "sudo auditctl -w /var/log/faillog -p wa -k login\n",
    "sudo auditctl -w /var/log/lastlog -p wa -k login\n",
    "sudo auditctl -w /var/log/tallylog -p wa -k login\n",
    "\n",
    "## Network Environment\n",
    "### Changes to hostname\n",
    "sudo auditctl -a always,exit -F arch=b32 -S sethostname -S setdomainname -k network_modifications\n",
    "sudo auditctl -a always,exit -F arch=b64 -S sethostname -S setdomainname -k network_modifications\n",
    "### Changes to other files\n",
    "sudo auditctl -w /etc/hosts -p wa -k network_modifications\n",
    "sudo auditctl -w /etc/sysconfig/network -p wa -k network_modifications\n",
    "sudo auditctl -w /etc/network/ -p wa -k network\n",
    "sudo auditctl -a always,exit -F dir=/etc/NetworkManager/ -F perm=wa -k network_modifications\n",
    "sudo auditctl -w /etc/sysconfig/network -p wa -k network_modifications\n",
    "### Changes to issue\n",
    "sudo auditctl -w /etc/issue -p wa -k etcissue\n",
    "sudo auditctl -w /etc/issue.net -p wa -k etcissue\n",
    "\n",
    "## System startup scripts\n",
    "sudo auditctl -w /etc/inittab -p wa -k init\n",
    "sudo auditctl -w /etc/init.d/ -p wa -k init\n",
    "sudo auditctl -w /etc/init/ -p wa -k init\n",
    "\n",
    "## Library search paths\n",
    "sudo auditctl -w /etc/ld.so.conf -p wa -k libpath\n",
    "\n",
    "## Pam configuration\n",
    "sudo auditctl -w /etc/pam.d/ -p wa -k pam\n",
    "sudo auditctl -w /etc/security/limits.conf -p wa  -k pam\n",
    "sudo auditctl -w /etc/security/pam_env.conf -p wa -k pam\n",
    "sudo auditctl -w /etc/security/namespace.conf -p wa -k pam\n",
    "sudo auditctl -w /etc/security/namespace.init -p wa -k pam\n",
    "\n",
    "## Postfix configuration\n",
    "sudo auditctl -w /etc/aliases -p wa -k mail\n",
    "sudo auditctl -w /etc/postfix/ -p wa -k mail\n",
    "\n",
    "## SSH configuration\n",
    "sudo auditctl -w /etc/ssh/sshd_config -k sshd\n",
    "\n",
    "# Systemd\n",
    "sudo auditctl -w /bin/systemctl -p x -k systemd \n",
    "sudo auditctl -w /etc/systemd/ -p wa -k systemd\n",
    "\n",
    "## SELinux events that modify the system's Mandatory Access Controls (MAC)\n",
    "sudo auditctl -w /etc/selinux/ -p wa -k mac_policy\n",
    "\n",
    "## Critical elements access failures \n",
    "sudo auditctl -a exit,always -F arch=b64 -S open -F dir=/etc -F success=0 -k unauthedfileaccess\n",
    "sudo auditctl -a exit,always -F arch=b64 -S open -F dir=/bin -F success=0 -k unauthedfileaccess\n",
    "sudo auditctl -a exit,always -F arch=b64 -S open -F dir=/sbin -F success=0 -k unauthedfileaccess\n",
    "sudo auditctl -a exit,always -F arch=b64 -S open -F dir=/usr/bin -F success=0 -k unauthedfileaccess\n",
    "sudo auditctl -a exit,always -F arch=b64 -S open -F dir=/usr/sbin -F success=0 -k unauthedfileaccess\n",
    "sudo auditctl -a exit,always -F arch=b64 -S open -F dir=/var -F success=0 -k unauthedfileaccess\n",
    "sudo auditctl -a exit,always -F arch=b64 -S open -F dir=/home -F success=0 -k unauthedfileaccess\n",
    "sudo auditctl -a exit,always -F arch=b64 -S open -F dir=/srv -F success=0 -k unauthedfileaccess\n",
    "\n",
    "## Process ID change (switching accounts) applications\n",
    "sudo auditctl -w /bin/su -p x -k priv_esc\n",
    "sudo auditctl -w /usr/bin/sudo -p x -k priv_esc\n",
    "sudo auditctl -w /etc/sudoers -p rw -k priv_esc\n",
    "\n",
    "## Power state\n",
    "sudo auditctl -w /sbin/shutdown -p x -k power\n",
    "sudo auditctl -w /sbin/poweroff -p x -k power\n",
    "sudo auditctl -w /sbin/reboot -p x -k power\n",
    "sudo auditctl -w /sbin/halt -p x -k power\n",
    "\n",
    "## Session initiation information\n",
    "sudo auditctl -w /var/run/utmp -p wa -k session\n",
    "sudo auditctl -w /var/log/btmp -p wa -k session\n",
    "sudo auditctl -w /var/log/wtmp -p wa -k session\n",
    "\n",
    "## Discretionary Access Control (DAC) modifications\n",
    "sudo auditctl -a always,exit -F arch=b32 -S chmod -F auid>=500 -F auid!=4294967295 -k perm_mod\n",
    "sudo auditctl -a always,exit -F arch=b32 -S chown -F auid>=500 -F auid!=4294967295 -k perm_mod\n",
    "sudo auditctl -a always,exit -F arch=b32 -S fchmod -F auid>=500 -F auid!=4294967295 -k perm_mod\n",
    "sudo auditctl -a always,exit -F arch=b32 -S fchmodat -F auid>=500 -F auid!=4294967295 -k perm_mod\n",
    "sudo auditctl -a always,exit -F arch=b32 -S fchown -F auid>=500 -F auid!=4294967295 -k perm_mod\n",
    "sudo auditctl -a always,exit -F arch=b32 -S fchownat -F auid>=500 -F auid!=4294967295 -k perm_mod\n",
    "sudo auditctl -a always,exit -F arch=b32 -S fremovexattr -F auid>=500 -F auid!=4294967295 -k perm_mod\n",
    "sudo auditctl -a always,exit -F arch=b32 -S fsetxattr -F auid>=500 -F auid!=4294967295 -k perm_mod\n",
    "sudo auditctl -a always,exit -F arch=b32 -S lchown -F auid>=500 -F auid!=4294967295 -k perm_mod\n",
    "sudo auditctl -a always,exit -F arch=b32 -S lremovexattr -F auid>=500 -F auid!=4294967295 -k perm_mod\n",
    "sudo auditctl -a always,exit -F arch=b32 -S lsetxattr -F auid>=500 -F auid!=4294967295 -k perm_mod\n",
    "sudo auditctl -a always,exit -F arch=b32 -S removexattr -F auid>=500 -F auid!=4294967295 -k perm_mod\n",
    "sudo auditctl -a always,exit -F arch=b32 -S setxattr -F auid>=500 -F auid!=4294967295 -k perm_mod\n",
    "sudo auditctl -a always,exit -F arch=b64 -S chmod  -F auid>=500 -F auid!=4294967295 -k perm_mod\n",
    "sudo auditctl -a always,exit -F arch=b64 -S chown -F auid>=500 -F auid!=4294967295 -k perm_mod\n",
    "sudo auditctl -a always,exit -F arch=b64 -S fchmod -F auid>=500 -F auid!=4294967295 -k perm_mod\n",
    "sudo auditctl -a always,exit -F arch=b64 -S fchmodat -F auid>=500 -F auid!=4294967295 -k perm_mod\n",
    "sudo auditctl -a always,exit -F arch=b64 -S fchown -F auid>=500 -F auid!=4294967295 -k perm_mod\n",
    "sudo auditctl -a always,exit -F arch=b64 -S fchownat -F auid>=500 -F auid!=4294967295 -k perm_mod\n",
    "sudo auditctl -a always,exit -F arch=b64 -S fremovexattr -F auid>=500 -F auid!=4294967295 -k perm_mod\n",
    "sudo auditctl -a always,exit -F arch=b64 -S fsetxattr -F auid>=500 -F auid!=4294967295 -k perm_mod\n",
    "sudo auditctl -a always,exit -F arch=b64 -S lchown -F auid>=500 -F auid!=4294967295 -k perm_mod\n",
    "sudo auditctl -a always,exit -F arch=b64 -S lremovexattr -F auid>=500 -F auid!=4294967295 -k perm_mod\n",
    "sudo auditctl -a always,exit -F arch=b64 -S lsetxattr -F auid>=500 -F auid!=4294967295 -k perm_mod\n",
    "sudo auditctl -a always,exit -F arch=b64 -S removexattr -F auid>=500 -F auid!=4294967295 -k perm_mod\n",
    "sudo auditctl -a always,exit -F arch=b64 -S setxattr -F auid>=500 -F auid!=4294967295 -k perm_mod\n",
    "\n",
    "# Special Rules ---------------------------------------------------------------\n",
    "\n",
    "## 32bit API Exploitation\n",
    "### If you are on a 64 bit platform, everything _should_ be running\n",
    "### in 64 bit mode. This rule will detect any use of the 32 bit syscalls\n",
    "### because this might be a sign of someone exploiting a hole in the 32\n",
    "### bit API.\n",
    "sudo auditctl -a always,exit -F arch=b32 -S all -k 32bit_api\n",
    "\n",
    "## Reconnaissance\n",
    "sudo auditctl -w /usr/bin/whoami -p x -k recon\n",
    "sudo auditctl -w /etc/issue -p r -k recon\n",
    "sudo auditctl -w /etc/hostname -p r -k recon\n",
    "\n",
    "## Suspicious activity\n",
    "sudo auditctl -w /usr/bin/wget -p x -k susp_activity\n",
    "sudo auditctl -w /usr/bin/curl -p x -k susp_activity\n",
    "sudo auditctl -w /usr/bin/base64 -p x -k susp_activity\n",
    "sudo auditctl -w /bin/nc -p x -k susp_activity\n",
    "sudo auditctl -w /bin/netcat -p x -k susp_activity\n",
    "sudo auditctl -w /usr/bin/ncat -p x -k susp_activity\n",
    "sudo auditctl -w /usr/bin/ssh -p x -k susp_activity\n",
    "sudo auditctl -w /usr/bin/socat -p x -k susp_activity\n",
    "sudo auditctl -w /usr/bin/wireshark -p x -k susp_activity\n",
    "sudo auditctl -w /usr/bin/rawshark -p x -k susp_activity\n",
    "sudo auditctl -w /usr/bin/rdesktop -p x -k sbin_susp\n",
    "\n",
    "## Sbin suspicious activity\n",
    "sudo auditctl -w /sbin/iptables -p x -k sbin_susp \n",
    "sudo auditctl -w /sbin/ifconfig -p x -k sbin_susp\n",
    "sudo auditctl -w /usr/sbin/tcpdump -p x -k sbin_susp\n",
    "sudo auditctl -w /usr/sbin/traceroute -p x -k sbin_susp\n",
    "\n",
    "## Injection \n",
    "### These rules watch for code injection by the ptrace facility.\n",
    "### This could indicate someone trying to do something bad or just debugging\n",
    "sudo auditctl -a always,exit -F arch=b32 -S ptrace -k tracing\n",
    "sudo auditctl -a always,exit -F arch=b64 -S ptrace -k tracing\n",
    "sudo auditctl -a always,exit -F arch=b32 -S ptrace -F a0=0x4 -k code_injection\n",
    "sudo auditctl -a always,exit -F arch=b64 -S ptrace -F a0=0x4 -k code_injection\n",
    "sudo auditctl -a always,exit -F arch=b32 -S ptrace -F a0=0x5 -k data_injection\n",
    "sudo auditctl -a always,exit -F arch=b64 -S ptrace -F a0=0x5 -k data_injection\n",
    "sudo auditctl -a always,exit -F arch=b32 -S ptrace -F a0=0x6 -k register_injection\n",
    "sudo auditctl -a always,exit -F arch=b64 -S ptrace -F a0=0x6 -k register_injection\n",
    "\n",
    "## Privilege Abuse\n",
    "### The purpose of this rule is to detect when an admin may be abusing power by looking in user's home dir.\n",
    "sudo auditctl -a always,exit -F dir=/home -F uid=0 -F auid>=1000 -F auid!=4294967295 -C auid!=obj_uid -k power_abuse\n",
    "\n",
    "# Software Management ---------------------------------------------------------\n",
    "\n",
    "# DPKG / APT-GET (Debian/Ubuntu)\n",
    "sudo auditctl -w /usr/bin/dpkg -p x -k software_mgmt\n",
    "sudo auditctl -w /usr/bin/apt-add-repository -p x -k software_mgmt\n",
    "sudo auditctl -w /usr/bin/apt-get -p x -k software_mgmt\n",
    "sudo auditctl -w /usr/bin/aptitude -p x -k software_mgmt\n",
    "\n",
    "# High volume events ----------------------------------------------------------\n",
    "\n",
    "## Remove them if the cause to much volumen in your einvironment\n",
    "\n",
    "## Root command executions \n",
    "sudo auditctl -a exit,always -F arch=b64 -F euid=0 -S execve -k rootcmd\n",
    "sudo auditctl -a exit,always -F arch=b32 -F euid=0 -S execve -k rootcmd\n",
    "\n",
    "## File Deletion Events by User\n",
    "sudo auditctl -a always,exit -F arch=b32 -S rmdir -S unlink -S unlinkat -S rename -S renameat -F auid>=500 -F auid!=4294967295 -k delete\n",
    "sudo auditctl -a always,exit -F arch=b64 -S rmdir -S unlink -S unlinkat -S rename -S renameat -F auid>=500 -F auid!=4294967295 -k delete\n",
    "\n",
    "## File Access\n",
    "### Unauthorized Access (unsuccessful)\n",
    "sudo auditctl -a always,exit -F arch=b32 -S creat -S open -S openat -S open_by_handle_at -S truncate -S ftruncate -F exit=-EACCES -F auid>=500 -F auid!=4294967295 -k file_access\n",
    "sudo auditctl -a always,exit -F arch=b32 -S creat -S open -S openat -S open_by_handle_at -S truncate -S ftruncate -F exit=-EPERM -F auid>=500 -F auid!=4294967295 -k file_access\n",
    "sudo auditctl -a always,exit -F arch=b64 -S creat -S open -S openat -S open_by_handle_at -S truncate -S ftruncate -F exit=-EACCES -F auid>=500 -F auid!=4294967295 -k file_access\n",
    "sudo auditctl -a always,exit -F arch=b64 -S creat -S open -S openat -S open_by_handle_at -S truncate -S ftruncate -F exit=-EPERM -F auid>=500 -F auid!=4294967295 -k file_access\n",
    "\n",
    "### Unsuccessful Creation\n",
    "sudo auditctl -a always,exit -F arch=b32 -S creat,link,mknod,mkdir,symlink,mknodat,linkat,symlinkat -F exit=-EACCES -k file_creation\n",
    "sudo auditctl -a always,exit -F arch=b64 -S mkdir,creat,link,symlink,mknod,mknodat,linkat,symlinkat -F exit=-EACCES -k file_creation\n",
    "sudo auditctl -a always,exit -F arch=b32 -S link,mkdir,symlink,mkdirat -F exit=-EPERM -k file_creation\n",
    "sudo auditctl -a always,exit -F arch=b64 -S mkdir,link,symlink,mkdirat -F exit=-EPERM -k file_creation\n",
    "\n",
    "### Unsuccessful Modification\n",
    "sudo auditctl -a always,exit -F arch=b32 -S rename -S renameat -S truncate -S chmod -S setxattr -S lsetxattr -S removexattr -S lremovexattr -F exit=-EACCES -k file_modification\n",
    "sudo auditctl -a always,exit -F arch=b64 -S rename -S renameat -S truncate -S chmod -S setxattr -S lsetxattr -S removexattr -S lremovexattr -F exit=-EACCES -k file_modification\n",
    "sudo auditctl -a always,exit -F arch=b32 -S rename -S renameat -S truncate -S chmod -S setxattr -S lsetxattr -S removexattr -S lremovexattr -F exit=-EPERM -k file_modification\n",
    "sudo auditctl -a always,exit -F arch=b64 -S rename -S renameat -S truncate -S chmod -S setxattr -S lsetxattr -S removexattr -S lremovexattr -F exit=-EPERM -k file_modification\n",
    "\n",
    "# Make the configuration immutable --------------------------------------------\n",
    "##-e 2"
   ]
  },
  {
   "cell_type": "markdown",
   "metadata": {},
   "source": [
    "### Disable jornald from listening to audit messages"
   ]
  },
  {
   "cell_type": "code",
   "execution_count": 39,
   "metadata": {},
   "outputs": [
    {
     "name": "stderr",
     "output_type": "stream",
     "text": [
      "shell-init: error retrieving current directory: getcwd: cannot access parent directories: No such file or directory\n",
      "Created symlink /etc/systemd/system/systemd-journald-audit.socket → /dev/null.\n"
     ]
    }
   ],
   "source": [
    "%%bash\n",
    "sudo systemctl mask systemd-journald-audit.socket"
   ]
  },
  {
   "cell_type": "markdown",
   "metadata": {},
   "source": [
    "### Test Configuration and Connectivity to Logstash"
   ]
  },
  {
   "cell_type": "code",
   "execution_count": 40,
   "metadata": {},
   "outputs": [
    {
     "name": "stdout",
     "output_type": "stream",
     "text": [
      "Config OK\n",
      "logstash: 10.1.1.21:5044...\n",
      "  connection...\n",
      "    parse host... OK\n",
      "    dns lookup... OK\n",
      "    addresses: 10.1.1.21\n",
      "    dial up... OK\n",
      "  TLS...\n",
      "    security: server's certificate chain verification is enabled\n",
      "    handshake... OK\n",
      "    TLS version: TLSv1.2\n",
      "    dial up... OK\n",
      "  talk to server... OK\n"
     ]
    },
    {
     "name": "stderr",
     "output_type": "stream",
     "text": [
      "shell-init: error retrieving current directory: getcwd: cannot access parent directories: No such file or directory\n"
     ]
    }
   ],
   "source": [
    "%%bash\n",
    "sudo /usr/share/auditbeat/bin/auditbeat test config -c /etc/auditbeat/auditbeat.yml\n",
    "sudo /usr/share/auditbeat/bin/auditbeat test output -c /etc/auditbeat/auditbeat.yml"
   ]
  },
  {
   "cell_type": "markdown",
   "metadata": {},
   "source": [
    "### Add Kibana Dashboards for Auditbeat"
   ]
  },
  {
   "cell_type": "code",
   "execution_count": 41,
   "metadata": {},
   "outputs": [
    {
     "name": "stdout",
     "output_type": "stream",
     "text": [
      "Index setup finished.\n",
      "Loading dashboards (Kibana must be running and reachable)\n",
      "Loaded dashboards\n"
     ]
    },
    {
     "name": "stderr",
     "output_type": "stream",
     "text": [
      "shell-init: error retrieving current directory: getcwd: cannot access parent directories: No such file or directory\n",
      "shell-init: error retrieving current directory: getcwd: cannot access parent directories: No such file or directory\n",
      "2019-08-09T02:04:41.363Z\tINFO\tinstance/beat.go:606\tHome path: [/usr/share/auditbeat] Config path: [/etc/auditbeat] Data path: [/var/lib/auditbeat] Logs path: [/var/log/auditbeat]\n",
      "2019-08-09T02:04:41.388Z\tINFO\tinstance/beat.go:614\tBeat ID: 67b75f47-b666-4b1c-beae-dde90079e8f1\n",
      "2019-08-09T02:04:41.390Z\tINFO\t[beat]\tinstance/beat.go:902\tBeat info\t{\"system_info\": {\"beat\": {\"path\": {\"config\": \"/etc/auditbeat\", \"data\": \"/var/lib/auditbeat\", \"home\": \"/usr/share/auditbeat\", \"logs\": \"/var/log/auditbeat\"}, \"type\": \"auditbeat\", \"uuid\": \"67b75f47-b666-4b1c-beae-dde90079e8f1\"}}}\n",
      "2019-08-09T02:04:41.390Z\tINFO\t[beat]\tinstance/beat.go:911\tBuild info\t{\"system_info\": {\"build\": {\"commit\": \"6f0ec01a0e57fe7d4fd703b017fb5a2f6448d097\", \"libbeat\": \"7.3.0\", \"time\": \"2019-07-24T17:38:32.000Z\", \"version\": \"7.3.0\"}}}\n",
      "2019-08-09T02:04:41.390Z\tINFO\t[beat]\tinstance/beat.go:914\tGo runtime info\t{\"system_info\": {\"go\": {\"os\":\"linux\",\"arch\":\"amd64\",\"max_procs\":2,\"version\":\"go1.12.4\"}}}\n",
      "2019-08-09T02:04:41.394Z\tINFO\t[beat]\tinstance/beat.go:918\tHost info\t{\"system_info\": {\"host\": {\"architecture\":\"x86_64\",\"boot_time\":\"2019-08-08T20:17:48Z\",\"containerized\":false,\"name\":\"bigdata-and-ml-workshop-1\",\"ip\":[\"127.0.0.1/8\",\"::1/128\",\"10.1.1.21/24\",\"fe80::f816:3eff:fe35:7527/64\"],\"kernel_version\":\"4.15.0-55-generic\",\"mac\":[\"fa:16:3e:35:75:27\"],\"os\":{\"family\":\"debian\",\"platform\":\"ubuntu\",\"name\":\"Ubuntu\",\"version\":\"18.04.3 LTS (Bionic Beaver)\",\"major\":18,\"minor\":4,\"patch\":3,\"codename\":\"bionic\"},\"timezone\":\"UTC\",\"timezone_offset_sec\":0,\"id\":\"cb23ffbfbc0345df9864aba19a002a09\"}}}\n",
      "2019-08-09T02:04:41.395Z\tINFO\t[beat]\tinstance/beat.go:947\tProcess info\t{\"system_info\": {\"process\": {\"capabilities\": {\"inheritable\":null,\"permitted\":[\"chown\",\"dac_override\",\"dac_read_search\",\"fowner\",\"fsetid\",\"kill\",\"setgid\",\"setuid\",\"setpcap\",\"linux_immutable\",\"net_bind_service\",\"net_broadcast\",\"net_admin\",\"net_raw\",\"ipc_lock\",\"ipc_owner\",\"sys_module\",\"sys_rawio\",\"sys_chroot\",\"sys_ptrace\",\"sys_pacct\",\"sys_admin\",\"sys_boot\",\"sys_nice\",\"sys_resource\",\"sys_time\",\"sys_tty_config\",\"mknod\",\"lease\",\"audit_write\",\"audit_control\",\"setfcap\",\"mac_override\",\"mac_admin\",\"syslog\",\"wake_alarm\",\"block_suspend\",\"audit_read\"],\"effective\":[\"chown\",\"dac_override\",\"dac_read_search\",\"fowner\",\"fsetid\",\"kill\",\"setgid\",\"setuid\",\"setpcap\",\"linux_immutable\",\"net_bind_service\",\"net_broadcast\",\"net_admin\",\"net_raw\",\"ipc_lock\",\"ipc_owner\",\"sys_module\",\"sys_rawio\",\"sys_chroot\",\"sys_ptrace\",\"sys_pacct\",\"sys_admin\",\"sys_boot\",\"sys_nice\",\"sys_resource\",\"sys_time\",\"sys_tty_config\",\"mknod\",\"lease\",\"audit_write\",\"audit_control\",\"setfcap\",\"mac_override\",\"mac_admin\",\"syslog\",\"wake_alarm\",\"block_suspend\",\"audit_read\"],\"bounding\":[\"chown\",\"dac_override\",\"dac_read_search\",\"fowner\",\"fsetid\",\"kill\",\"setgid\",\"setuid\",\"setpcap\",\"linux_immutable\",\"net_bind_service\",\"net_broadcast\",\"net_admin\",\"net_raw\",\"ipc_lock\",\"ipc_owner\",\"sys_module\",\"sys_rawio\",\"sys_chroot\",\"sys_ptrace\",\"sys_pacct\",\"sys_admin\",\"sys_boot\",\"sys_nice\",\"sys_resource\",\"sys_time\",\"sys_tty_config\",\"mknod\",\"lease\",\"audit_write\",\"audit_control\",\"setfcap\",\"mac_override\",\"mac_admin\",\"syslog\",\"wake_alarm\",\"block_suspend\",\"audit_read\"],\"ambient\":null}, \"cwd\": \"/home/ubuntu/ml_and_big_data_in_cloud_environmnets/workshop_aug_2019 (deleted)\", \"exe\": \"/usr/share/auditbeat/bin/auditbeat\", \"name\": \"auditbeat\", \"pid\": 29246, \"ppid\": 29245, \"seccomp\": {\"mode\":\"disabled\",\"no_new_privs\":false}, \"start_time\": \"2019-08-09T02:04:41.020Z\"}}}\n",
      "2019-08-09T02:04:41.395Z\tINFO\tinstance/beat.go:292\tSetup Beat: auditbeat; Version: 7.3.0\n",
      "2019-08-09T02:04:41.395Z\tINFO\t[index-management]\tidxmgmt/std.go:178\tSet output.elasticsearch.index to 'auditbeat-7.3.0' as ILM is enabled.\n",
      "2019-08-09T02:04:41.395Z\tINFO\telasticsearch/client.go:170\tElasticsearch url: http://10.1.1.18:9200\n",
      "2019-08-09T02:04:41.396Z\tINFO\t[publisher]\tpipeline/module.go:97\tBeat name: bigdata-and-ml-workshop-1\n",
      "2019-08-09T02:04:41.396Z\tINFO\telasticsearch/client.go:170\tElasticsearch url: http://10.1.1.18:9200\n",
      "2019-08-09T02:04:41.400Z\tINFO\telasticsearch/client.go:743\tAttempting to connect to Elasticsearch version 7.3.0\n",
      "2019-08-09T02:04:41.465Z\tINFO\t[index-management]\tidxmgmt/std.go:252\tAuto ILM enable success.\n",
      "2019-08-09T02:04:41.586Z\tINFO\t[index-management]\tidxmgmt/std.go:265\tILM policy successfully loaded.\n",
      "2019-08-09T02:04:41.586Z\tINFO\t[index-management]\tidxmgmt/std.go:394\tSet setup.template.name to '{auditbeat-7.3.0 {now/d}-000001}' as ILM is enabled.\n",
      "2019-08-09T02:04:41.586Z\tINFO\t[index-management]\tidxmgmt/std.go:399\tSet setup.template.pattern to 'auditbeat-7.3.0-*' as ILM is enabled.\n",
      "2019-08-09T02:04:41.586Z\tINFO\t[index-management]\tidxmgmt/std.go:433\tSet settings.index.lifecycle.rollover_alias in template to {auditbeat-7.3.0 {now/d}-000001} as ILM is enabled.\n",
      "2019-08-09T02:04:41.586Z\tINFO\t[index-management]\tidxmgmt/std.go:437\tSet settings.index.lifecycle.name in template to {auditbeat-7.3.0 {\"policy\":{\"phases\":{\"hot\":{\"actions\":{\"rollover\":{\"max_age\":\"30d\",\"max_size\":\"50gb\"}}}}}}} as ILM is enabled.\n",
      "2019-08-09T02:04:41.588Z\tINFO\ttemplate/load.go:169\tExisting template will be overwritten, as overwrite is enabled.\n",
      "2019-08-09T02:04:41.675Z\tINFO\ttemplate/load.go:108\tTry loading template auditbeat-7.3.0 to Elasticsearch\n",
      "2019-08-09T02:04:41.821Z\tINFO\ttemplate/load.go:100\ttemplate with name 'auditbeat-7.3.0' loaded.\n",
      "2019-08-09T02:04:41.821Z\tINFO\t[index-management]\tidxmgmt/std.go:289\tLoaded index template.\n",
      "2019-08-09T02:04:42.373Z\tINFO\t[index-management]\tidxmgmt/std.go:300\tWrite alias successfully generated.\n",
      "2019-08-09T02:04:42.373Z\tINFO\tkibana/client.go:117\tKibana url: http://10.1.1.21:5601\n",
      "2019-08-09T02:04:42.475Z\tINFO\tadd_cloud_metadata/add_cloud_metadata.go:351\tadd_cloud_metadata: hosting provider type detected as openstack, metadata={\"availability_zone\":\"zone-r6\",\"instance\":{\"id\":\"i-0002f19d\",\"name\":\"bigdata-and-ml-workshop-1.novalocal\"},\"machine\":{\"type\":\"m1.small\"},\"provider\":\"openstack\"}\n",
      "2019-08-09T02:04:42.537Z\tINFO\tkibana/client.go:117\tKibana url: http://10.1.1.21:5601\n",
      "2019-08-09T02:04:54.117Z\tINFO\tinstance/beat.go:776\tKibana dashboards successfully loaded.\n"
     ]
    }
   ],
   "source": [
    "%%bash\n",
    "sudo auditbeat setup -e \\\n",
    "  -E output.logstash.enabled=false \\\n",
    "  -E output.elasticsearch.hosts=['<ELASTICSEARCH-IP-ADDRESS>:9200'] \\\n",
    "  -E setup.kibana.host=<KIBANA-IP-ADDRESS>:5601 \\\n",
    "  -E output.elasticsearch.username=elastic \\\n",
    "  -E output.elasticsearch.password=elasticsiem"
   ]
  },
  {
   "cell_type": "markdown",
   "metadata": {},
   "source": [
    "### Add template from Auditbeat to elasticsearch"
   ]
  },
  {
   "cell_type": "code",
   "execution_count": 42,
   "metadata": {},
   "outputs": [
    {
     "name": "stdout",
     "output_type": "stream",
     "text": [
      "Index setup finished.\n"
     ]
    },
    {
     "name": "stderr",
     "output_type": "stream",
     "text": [
      "shell-init: error retrieving current directory: getcwd: cannot access parent directories: No such file or directory\n",
      "shell-init: error retrieving current directory: getcwd: cannot access parent directories: No such file or directory\n"
     ]
    }
   ],
   "source": [
    "%%bash\n",
    "\n",
    "sudo auditbeat setup --index-management \\\n",
    "  -E output.logstash.enabled=false \\\n",
    "  -E output.elasticsearch.hosts=[\"<ELASTICSEARCH-IP-ADDRESS>:9200\"] \\\n",
    "  -E output.elasticsearch.username=elastic \\\n",
    "  -E output.elasticsearch.password=elasticsiem\n"
   ]
  },
  {
   "cell_type": "markdown",
   "metadata": {},
   "source": [
    "### List Loaded Templates"
   ]
  },
  {
   "cell_type": "code",
   "execution_count": 43,
   "metadata": {},
   "outputs": [
    {
     "name": "stdout",
     "output_type": "stream",
     "text": [
      "[\n",
      "  \".data-frame-internal-1\",\n",
      "  \".data-frame-notifications-1\",\n",
      "  \".kibana_task_manager\",\n",
      "  \".logstash-management\",\n",
      "  \".management-beats\",\n",
      "  \".ml-anomalies-\",\n",
      "  \".ml-config\",\n",
      "  \".ml-meta\",\n",
      "  \".ml-notifications\",\n",
      "  \".ml-state\",\n",
      "  \".monitoring-alerts-7\",\n",
      "  \".monitoring-beats\",\n",
      "  \".monitoring-es\",\n",
      "  \".monitoring-kibana\",\n",
      "  \".monitoring-logstash\",\n",
      "  \".triggered_watches\",\n",
      "  \".watch-history-10\",\n",
      "  \".watches\",\n",
      "  \"auditbeat-7.3.0\",\n",
      "  \"filebeat-7.3.0\",\n",
      "  \"metricbeat-7.3.0\",\n",
      "  \"packetbeat-7.3.0\"\n",
      "]\n"
     ]
    },
    {
     "name": "stderr",
     "output_type": "stream",
     "text": [
      "shell-init: error retrieving current directory: getcwd: cannot access parent directories: No such file or directory\n",
      "  % Total    % Received % Xferd  Average Speed   Time    Time     Time  Current\n",
      "                                 Dload  Upload   Total   Spent    Left  Speed\n",
      "100  330k  100  330k    0     0  6357k      0 --:--:-- --:--:-- --:--:-- 6357k\n"
     ]
    }
   ],
   "source": [
    "%%bash\n",
    "curl -u elastic:elasticsiem -XGET '<ELASTICSEARCH-IP-ADDRESS>:9200/_template/' | jq 'keys'"
   ]
  },
  {
   "cell_type": "markdown",
   "metadata": {},
   "source": [
    "### Start Auditbeat"
   ]
  },
  {
   "cell_type": "code",
   "execution_count": 44,
   "metadata": {},
   "outputs": [
    {
     "name": "stderr",
     "output_type": "stream",
     "text": [
      "shell-init: error retrieving current directory: getcwd: cannot access parent directories: No such file or directory\n",
      "Synchronizing state of auditbeat.service with SysV service script with /lib/systemd/systemd-sysv-install.\n",
      "Executing: /lib/systemd/systemd-sysv-install enable auditbeat\n",
      "sh: 0: getcwd() failed: No such file or directory\n"
     ]
    }
   ],
   "source": [
    "%%bash\n",
    "sudo systemctl start auditbeat\n",
    "sudo systemctl enable auditbeat"
   ]
  },
  {
   "cell_type": "markdown",
   "metadata": {},
   "source": [
    "### Alternatively, you can run Metricbeat in debug mode by using the following command:\n",
    "\n",
    "~~~\n",
    "sudo /usr/share/auditbeat/bin/auditbeat -e -d \"publish\" -c /etc/auditbeat/auditbeat.yml\n",
    "~~~"
   ]
  },
  {
   "cell_type": "markdown",
   "metadata": {},
   "source": [
    "### Heartbeat Installation"
   ]
  },
  {
   "cell_type": "code",
   "execution_count": 45,
   "metadata": {},
   "outputs": [
    {
     "name": "stdout",
     "output_type": "stream",
     "text": [
      "Reading package lists...\n",
      "Building dependency tree...\n",
      "Reading state information...\n",
      "The following package was automatically installed and is no longer required:\n",
      "  grub-pc-bin\n",
      "Use 'sudo apt autoremove' to remove it.\n",
      "The following NEW packages will be installed:\n",
      "  heartbeat-elastic\n",
      "0 upgraded, 1 newly installed, 0 to remove and 0 not upgraded.\n",
      "Need to get 19.2 MB of archives.\n",
      "After this operation, 68.9 MB of additional disk space will be used.\n",
      "Get:1 https://artifacts.elastic.co/packages/7.x/apt stable/main amd64 heartbeat-elastic amd64 7.3.0 [19.2 MB]\n",
      "Fetched 19.2 MB in 2s (10.7 MB/s)\n",
      "Selecting previously unselected package heartbeat-elastic.\n",
      "(Reading database ... 225385 files and directories currently installed.)\n",
      "Preparing to unpack .../heartbeat-elastic_7.3.0_amd64.deb ...\n",
      "Unpacking heartbeat-elastic (7.3.0) ...\n",
      "Processing triggers for ureadahead (0.100.0-21) ...\n",
      "Setting up heartbeat-elastic (7.3.0) ...\n",
      "Processing triggers for systemd (237-3ubuntu10.25) ...\n",
      "Processing triggers for ureadahead (0.100.0-21) ...\n"
     ]
    },
    {
     "name": "stderr",
     "output_type": "stream",
     "text": [
      "shell-init: error retrieving current directory: getcwd: cannot access parent directories: No such file or directory\n",
      "\n",
      "WARNING: apt does not have a stable CLI interface. Use with caution in scripts.\n",
      "\n",
      "sh: 0: getcwd() failed: No such file or directory\n",
      "sh: 0: getcwd() failed: No such file or directory\n",
      "sh: 0: getcwd() failed: No such file or directory\n",
      "sh: 0: getcwd() failed: No such file or directory\n",
      "dpkg-preconfigure: unable to re-open stdin: No such file or directory\n",
      "sh: 0: getcwd() failed: No such file or directory\n"
     ]
    }
   ],
   "source": [
    "%%bash\n",
    "sudo apt install -y heartbeat-elastic"
   ]
  },
  {
   "cell_type": "markdown",
   "metadata": {},
   "source": [
    "### Disable default configuration\n",
    "\n",
    "##### The default heartbeat configuration enables connectivity directly to elasticseach. We will disable this configuration to later enable communication to logstash."
   ]
  },
  {
   "cell_type": "code",
   "execution_count": 46,
   "metadata": {},
   "outputs": [
    {
     "name": "stderr",
     "output_type": "stream",
     "text": [
      "shell-init: error retrieving current directory: getcwd: cannot access parent directories: No such file or directory\n"
     ]
    }
   ],
   "source": [
    "%%bash\n",
    "sudo sed -i 's/^output.elasticsearch\\:/#&/' /etc/heartbeat/heartbeat.yml\n",
    "sudo sed -i 's/^\\ \\ hosts\\: \\[\\\"localhost\\:9200\\\"\\]/#&/' /etc/heartbeat/heartbeat.yml"
   ]
  },
  {
   "cell_type": "markdown",
   "metadata": {},
   "source": [
    "### Enable communication with logstash"
   ]
  },
  {
   "cell_type": "code",
   "execution_count": 47,
   "metadata": {},
   "outputs": [
    {
     "name": "stderr",
     "output_type": "stream",
     "text": [
      "shell-init: error retrieving current directory: getcwd: cannot access parent directories: No such file or directory\n"
     ]
    }
   ],
   "source": [
    "%%bash\n",
    "export ls_ip=\"<LOGSTASH-IP-ADDRESS>\"\n",
    "\n",
    "#Enable Logstash output\n",
    "sudo sed -i '/output.logstash\\:/s/^#//g' /etc/heartbeat/heartbeat.yml\n",
    "\n",
    "#Uncomment and Change Logstash IP ADDRESS\n",
    "sudo sed -i \"s/#hosts\\: \\[\\\"localhost\\:5044\\\"\\]/hosts\\: \\[\\\"$ls_ip\\:5044\\\"\\]/g\" /etc/heartbeat/heartbeat.yml\n",
    "sudo sed -i 's/#ssl\\.certificate_authorities\\: \\[\"\\/etc\\/pki\\/root\\/ca\\.pem\"\\]/ssl\\.certificate\\_authorities\\: \\[\"\\/etc\\/pki\\/tls\\/certs\\/logstash\\-forwarder\\.crt\"\\]/g' /etc/heartbeat/heartbeat.yml\n"
   ]
  },
  {
   "cell_type": "markdown",
   "metadata": {},
   "source": [
    "### Enable Monitoring your Target Website"
   ]
  },
  {
   "cell_type": "code",
   "execution_count": 48,
   "metadata": {},
   "outputs": [
    {
     "name": "stderr",
     "output_type": "stream",
     "text": [
      "shell-init: error retrieving current directory: getcwd: cannot access parent directories: No such file or directory\n"
     ]
    }
   ],
   "source": [
    "%%bash\n",
    "export kb_ip=\"<TARGET-IP-ADDRESS>\"\n",
    "sudo sed -i \"s/urls\\: \\[\\\"http\\:\\/\\/localhost\\:9200\\\"\\]/urls\\: \\[\\\"http\\:\\/\\/$kb_ip\\\"]/g\" /etc/heartbeat/heartbeat.yml"
   ]
  },
  {
   "cell_type": "markdown",
   "metadata": {},
   "source": [
    "### Test Configuration and Connectivity to Logstash"
   ]
  },
  {
   "cell_type": "code",
   "execution_count": 49,
   "metadata": {},
   "outputs": [
    {
     "name": "stdout",
     "output_type": "stream",
     "text": [
      "Config OK\n",
      "logstash: 10.1.1.21:5044...\n",
      "  connection...\n",
      "    parse host... OK\n",
      "    dns lookup... OK\n",
      "    addresses: 10.1.1.21\n",
      "    dial up... OK\n",
      "  TLS...\n",
      "    security: server's certificate chain verification is enabled\n",
      "    handshake... OK\n",
      "    TLS version: TLSv1.2\n",
      "    dial up... OK\n",
      "  talk to server... OK\n"
     ]
    },
    {
     "name": "stderr",
     "output_type": "stream",
     "text": [
      "shell-init: error retrieving current directory: getcwd: cannot access parent directories: No such file or directory\n"
     ]
    }
   ],
   "source": [
    "%%bash\n",
    "sudo /usr/share/heartbeat/bin/heartbeat test config -c /etc/heartbeat/heartbeat.yml\n",
    "sudo /usr/share/heartbeat/bin/heartbeat test output -c /etc/heartbeat/heartbeat.yml"
   ]
  },
  {
   "cell_type": "markdown",
   "metadata": {},
   "source": [
    "### Add Kibana Dashboards for Heartbeat\n",
    "\n",
    "##### The original file was collected from the following page:\n",
    "\n",
    "~~~\n",
    "https://github.com/elastic/uptime-contrib\n",
    "~~~\n",
    "\n",
    "##### Open the file named \"http_dashboard.json\" in RAW in the following link:\n",
    "\n",
    "https://github.com/elastic/uptime-contrib/blob/master/dashboards/http_dashboard.json\n",
    "\n",
    "##### Copy all the contents and paste them into your favorite test editor and save it as \"http_dashboard.json\" \n",
    "\n",
    "##### Upload your saved file by going to Management --> Saved objects --> Import in Kibana"
   ]
  },
  {
   "cell_type": "markdown",
   "metadata": {},
   "source": [
    "### Add template from auditbeat to elasticsearch"
   ]
  },
  {
   "cell_type": "code",
   "execution_count": 50,
   "metadata": {},
   "outputs": [
    {
     "name": "stdout",
     "output_type": "stream",
     "text": [
      "Index setup finished.\n"
     ]
    },
    {
     "name": "stderr",
     "output_type": "stream",
     "text": [
      "shell-init: error retrieving current directory: getcwd: cannot access parent directories: No such file or directory\n",
      "shell-init: error retrieving current directory: getcwd: cannot access parent directories: No such file or directory\n"
     ]
    }
   ],
   "source": [
    "%%bash\n",
    "\n",
    "sudo heartbeat setup --index-management \\\n",
    "  -E output.logstash.enabled=false \\\n",
    "  -E output.elasticsearch.hosts=[\"<ELASTICSEARCH-IP-ADDRESS>:9200\"] \\\n",
    "  -E output.elasticsearch.username=elastic \\\n",
    "  -E output.elasticsearch.password=elasticsiem\n"
   ]
  },
  {
   "cell_type": "markdown",
   "metadata": {},
   "source": [
    "### List Loaded Templates"
   ]
  },
  {
   "cell_type": "code",
   "execution_count": 51,
   "metadata": {},
   "outputs": [
    {
     "name": "stdout",
     "output_type": "stream",
     "text": [
      "[\n",
      "  \".data-frame-internal-1\",\n",
      "  \".data-frame-notifications-1\",\n",
      "  \".kibana_task_manager\",\n",
      "  \".logstash-management\",\n",
      "  \".management-beats\",\n",
      "  \".ml-anomalies-\",\n",
      "  \".ml-config\",\n",
      "  \".ml-meta\",\n",
      "  \".ml-notifications\",\n",
      "  \".ml-state\",\n",
      "  \".monitoring-alerts-7\",\n",
      "  \".monitoring-beats\",\n",
      "  \".monitoring-es\",\n",
      "  \".monitoring-kibana\",\n",
      "  \".monitoring-logstash\",\n",
      "  \".triggered_watches\",\n",
      "  \".watch-history-10\",\n",
      "  \".watches\",\n",
      "  \"auditbeat-7.3.0\",\n",
      "  \"filebeat-7.3.0\",\n",
      "  \"heartbeat-7.3.0\",\n",
      "  \"metricbeat-7.3.0\",\n",
      "  \"packetbeat-7.3.0\"\n",
      "]\n"
     ]
    },
    {
     "name": "stderr",
     "output_type": "stream",
     "text": [
      "shell-init: error retrieving current directory: getcwd: cannot access parent directories: No such file or directory\n",
      "  % Total    % Received % Xferd  Average Speed   Time    Time     Time  Current\n",
      "                                 Dload  Upload   Total   Spent    Left  Speed\n",
      "100  352k  100  352k    0     0  6188k      0 --:--:-- --:--:-- --:--:-- 6188k\n"
     ]
    }
   ],
   "source": [
    "%%bash\n",
    "curl -u elastic:elasticsiem -XGET '<ELASTICSEARCH-IP-ADDRESS>:9200/_template/' | jq 'keys'"
   ]
  },
  {
   "cell_type": "markdown",
   "metadata": {},
   "source": [
    "### Start Heartbeat"
   ]
  },
  {
   "cell_type": "code",
   "execution_count": 52,
   "metadata": {},
   "outputs": [
    {
     "name": "stderr",
     "output_type": "stream",
     "text": [
      "shell-init: error retrieving current directory: getcwd: cannot access parent directories: No such file or directory\n",
      "Synchronizing state of heartbeat-elastic.service with SysV service script with /lib/systemd/systemd-sysv-install.\n",
      "Executing: /lib/systemd/systemd-sysv-install enable heartbeat-elastic\n",
      "sh: 0: getcwd() failed: No such file or directory\n"
     ]
    }
   ],
   "source": [
    "%%bash\n",
    "sudo systemctl start heartbeat-elastic\n",
    "sudo systemctl enable heartbeat-elastic"
   ]
  },
  {
   "cell_type": "markdown",
   "metadata": {},
   "source": [
    "### Alternatively, you can run Heartbeat in debug mode by using the following command:\n",
    "\n",
    "~~~\n",
    "sudo /usr/share/hearteat/bin/heartbeat -e -d \"publish\" -c /etc/heartbeat/heartbeat.yml\n",
    "~~~"
   ]
  }
 ],
 "metadata": {
  "kernelspec": {
   "display_name": "Python 3",
   "language": "python",
   "name": "python3"
  },
  "language_info": {
   "codemirror_mode": {
    "name": "ipython",
    "version": 3
   },
   "file_extension": ".py",
   "mimetype": "text/x-python",
   "name": "python",
   "nbconvert_exporter": "python",
   "pygments_lexer": "ipython3",
   "version": "3.6.8"
  }
 },
 "nbformat": 4,
 "nbformat_minor": 4
}

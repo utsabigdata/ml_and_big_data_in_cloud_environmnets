{
 "cells": [
  {
   "cell_type": "markdown",
   "metadata": {},
   "source": [
    "## Data Shippers\n",
    "\n",
    "#### Beats is the platform for single-purpose data shippers. They send data from hundreds or thousands of machines and systems to Logstash or Elasticsearch.\n",
    "\n",
    "#### In this module we will guide the user through the installation of the beats listed below which allos the  collection of various types of host data:\n",
    "\n",
    "* Filebeat\n",
    "* Packetbeat\n",
    "* Metricbeat\n",
    "* Auditbeat\n",
    "* Heartbeat"
   ]
  },
  {
   "cell_type": "markdown",
   "metadata": {},
   "source": [
    "### Filebeat installation"
   ]
  },
  {
   "cell_type": "code",
   "execution_count": null,
   "metadata": {},
   "outputs": [],
   "source": [
    "%%bash\n",
    "sudo apt install -y filebeat"
   ]
  },
  {
   "cell_type": "markdown",
   "metadata": {},
   "source": [
    "### Disable default configuration"
   ]
  },
  {
   "cell_type": "code",
   "execution_count": null,
   "metadata": {},
   "outputs": [],
   "source": [
    "%%bash\n",
    "sudo sed -i '28 s/^/#/' /etc/filebeat/filebeat.yml\n",
    "sudo sed -i '117 s/^/#/' /etc/filebeat/filebeat.yml\n",
    "sudo sed -i '148 s/^/#/' /etc/filebeat/filebeat.yml\n",
    "sudo sed -i '150 s/^/#/' /etc/filebeat/filebeat.yml\n",
    "sudo sed -i '176,178 s/^/#/' /etc/filebeat/filebeat.yml"
   ]
  },
  {
   "cell_type": "markdown",
   "metadata": {},
   "source": [
    "### Enable Configuration to Communicate Filebeat with Logstash\n",
    "\n",
    "##### As we want to establish a connection between filebeat and logstash, we must recall that we have secured all communication with logstash using ssl. Therefore, any beat that seeks to communicate with logstash must provide the certificate we have generated in the logstash node.\n",
    "\n",
    "##### In this node, the certificate is located in \"/etc/pki/tls/certs/logstash-forwarder.crt\". Before setting up the necessary configuration for filebeat to connect with logstash, we will first validate if we can stablish a connection to logstash using the following command:\n",
    "\n",
    "~~~\n",
    "telnet <LOGSTASH-IP-ADDRESS> 5044\n",
    "~~~\n",
    "\n",
    "##### You will get a message stating \"Connected to .....\"  To exit press CTRL+] and then quit or CTRL+D\n",
    "\n",
    "##### Now let us validate teh certificate by using the following command:\n",
    "\n",
    "~~~\n",
    "curl -v --cacert /etc/pki/tls/certs/logstash-forwarder.crt <LOGSTASH-IP-ADDRESS>:5044\n",
    "~~~\n",
    "\n",
    "##### Let us now proceed to set the log files we would like filebeat to track and ship to logstash, set the ip address and port in which logstash will receive our data, and define the location of our certificate that will be used to secure communication between filebeat and logstash."
   ]
  },
  {
   "cell_type": "code",
   "execution_count": null,
   "metadata": {},
   "outputs": [],
   "source": [
    "%%bash\n",
    "\n",
    "sudo sed -i \"28i \\ \\ \\ \\ - /var/log/auth.log\" /etc/filebeat/filebeat.yml\n",
    "sudo sed -i \"29i \\ \\ \\ \\ - /var/log/syslog\" /etc/filebeat/filebeat.yml\n",
    "\n",
    "sudo sed -i '160 s/^#//g' /etc/filebeat/filebeat.yml \n",
    "\n",
    "export ls_ip=\"<LOGSTASH-IP-ADDRESS>\"\n",
    "\n",
    "sudo sed -i \"162i \\ \\ hosts: [\\\"$ls_ip:5044\\\"]\" /etc/filebeat/filebeat.yml\n",
    "\n",
    "sudo sed -i '167i \\ \\ ssl.certificate_authorities: [\"/etc/pki/tls/certs/logstash-forwarder.crt\"]' /etc/filebeat/filebeat.yml"
   ]
  },
  {
   "cell_type": "markdown",
   "metadata": {},
   "source": [
    "### Enabling the Filebeat's system module.\n",
    "\n",
    "##### Filebeat supports different modules that allows us to collect and parse logs created by Ubuntu's system loggin service. To enable the system module, run the command below:"
   ]
  },
  {
   "cell_type": "code",
   "execution_count": null,
   "metadata": {},
   "outputs": [],
   "source": [
    "%%bash\n",
    "sudo filebeat modules enable system"
   ]
  },
  {
   "cell_type": "markdown",
   "metadata": {},
   "source": [
    "##### You can verify if the system module has been enables by using the following command:\n",
    "\n",
    "~~~\n",
    "sudo filebeat modules list\n",
    "~~~"
   ]
  },
  {
   "cell_type": "markdown",
   "metadata": {},
   "source": [
    "### Loading Index templates\n",
    "\n",
    "##### An index is a collection of documents that share similar characteristics. We will load an index template for documents stored in filebeat indexes that will be applied automatically when a new index is created. Let us list the current templates in elasticsearch by using the following command:\n",
    "\n",
    "~~~\n",
    "curl -u elastic:elasticsiem -XGET '<ELASTICSEARCH-IP-ADDRESS>:9200/_template?filter_path=*.version&pretty'\n",
    "~~~"
   ]
  },
  {
   "cell_type": "code",
   "execution_count": null,
   "metadata": {},
   "outputs": [],
   "source": [
    "%%bash\n",
    "curl -u elastic:elasticsiem -XGET '<ELASTICSEARCH-IP-ADDRESS>:9200/_template?filter_path=*.version&pretty'"
   ]
  },
  {
   "cell_type": "markdown",
   "metadata": {},
   "source": [
    "##### As we can observe, there are no templates defined for filebeat indexes. Let us load the filebeat template into elasticsearch by using the following command:"
   ]
  },
  {
   "cell_type": "code",
   "execution_count": null,
   "metadata": {},
   "outputs": [],
   "source": [
    "%%bash\n",
    "cd ~\n",
    "sudo /usr/share/filebeat/bin/filebeat export template > filebeat.template.json -c /etc/filebeat/filebeat.yml\n",
    "curl -u elastic:elasticsiem -H 'Content-Type: application/json' -XPUT '<ELASTICSEARCH-IP-ADDRESS>:9200/_template/filebeat-7.3.0' -d@/home/ubuntu/filebeat.template.json\n",
    "curl -u elastic:elasticsiem -XGET '<ELASTICSEARCH-IP-ADDRESS>:9200/_template/' | jq 'keys'\n",
    "    "
   ]
  },
  {
   "cell_type": "markdown",
   "metadata": {},
   "source": [
    "### Installing Kibana dashboards for Filebeat"
   ]
  },
  {
   "cell_type": "code",
   "execution_count": null,
   "metadata": {},
   "outputs": [],
   "source": [
    "%%bash\n",
    "sudo filebeat setup -e \\\n",
    "  -E output.logstash.enabled=false \\\n",
    "  -E output.elasticsearch.hosts=['<ELASTICSEARCH-IP-ADDRESS>:9200'] \\\n",
    "  -E setup.kibana.host=<KIBANA-IP-ADDRESS>:5601 \\\n",
    "  -E output.elasticsearch.username=elastic \\\n",
    "  -E output.elasticsearch.password=elasticsiem"
   ]
  },
  {
   "cell_type": "markdown",
   "metadata": {},
   "source": [
    "### Start Filebeat"
   ]
  },
  {
   "cell_type": "code",
   "execution_count": null,
   "metadata": {},
   "outputs": [],
   "source": [
    "%%bash\n",
    "sudo systemctl start filebeat\n",
    "sudo systemctl enable filebeat"
   ]
  },
  {
   "cell_type": "markdown",
   "metadata": {},
   "source": [
    "### Alternatively, you can run Filebeat in debug mode by using the following command:\n",
    "\n",
    "~~~\n",
    "sudo /usr/share/filebeat/bin/filebeat -e -d \"publish\" -c /etc/filebeat/filebeat.yml\n",
    "~~~"
   ]
  },
  {
   "cell_type": "markdown",
   "metadata": {},
   "source": [
    "### Backloging in filebeat\n",
    "\n",
    "\n",
    "##### In teh case that you change some of the filters that you set on logstash and would like to pre-process your data again, you will need to delete all indexes where your data was stored, stop filebeat, delete filebeat's registry file, and start filebeat again.\n",
    "\n",
    "##### To delete filebeat registry, you can use the following command:\n",
    "\n",
    "~~~\n",
    "sudo rm -R /var/lib/filebeat/registry\n",
    "~~~\n",
    "\n",
    "##### Note: Whenever you process again your data, your receiving logs will have a timestamp stating the time the log was received by elasticsearch and not the time at which the log was generated. The timestamp can be replaced by adding a rule on logstash that takes the timestamp stated at the beggining of each log and replace teh default timestamp (receiving time) set by elasticsearch.\n"
   ]
  },
  {
   "cell_type": "markdown",
   "metadata": {},
   "source": [
    "### Packetbeat Installation"
   ]
  },
  {
   "cell_type": "code",
   "execution_count": null,
   "metadata": {},
   "outputs": [],
   "source": [
    "%%bash\n",
    "sudo apt install -y packetbeat"
   ]
  },
  {
   "cell_type": "markdown",
   "metadata": {},
   "source": [
    "### Disable default configuration\n",
    "\n",
    "##### The default packetbeat configuration enables monitoring certain transaction porotocols such as icmp, ampq, cassandra, among others. We will disable unwanted protocols by commenting the protocol and list of ports and monitor only the following: icmp, dhcpv4, dns, http, and tls."
   ]
  },
  {
   "cell_type": "code",
   "execution_count": null,
   "metadata": {},
   "outputs": [],
   "source": [
    "%%bash\n",
    "sudo sed -i 's/^\\- type\\: amqp/#&/' /etc/packetbeat/packetbeat.yml\n",
    "sudo sed -i 's/^\\ \\ ports\\: \\[5672\\]/#&/' /etc/packetbeat/packetbeat.yml\n",
    "sudo sed -i 's/^\\- type\\: cassandra/#&/' /etc/packetbeat/packetbeat.yml\n",
    "sudo sed -i 's/^\\ \\ ports\\: \\[9042\\]/#&/' /etc/packetbeat/packetbeat.yml\n",
    "sudo sed -i 's/^\\- type\\: memcache/#&/' /etc/packetbeat/packetbeat.yml\n",
    "sudo sed -i 's/^\\ \\ ports\\: \\[11211\\]/#&/' /etc/packetbeat/packetbeat.yml\n",
    "sudo sed -i 's/^\\- type\\: mysql/#&/' /etc/packetbeat/packetbeat.yml\n",
    "sudo sed -i 's/^\\ \\ ports\\: \\[3306,3307\\]/#&/' /etc/packetbeat/packetbeat.yml\n",
    "sudo sed -i 's/^\\- type\\: pgsql/#&/' /etc/packetbeat/packetbeat.yml\n",
    "sudo sed -i 's/^\\ \\ ports\\: \\[5432\\]/#&/' /etc/packetbeat/packetbeat.yml\n",
    "sudo sed -i 's/^\\- type\\: redis/#&/' /etc/packetbeat/packetbeat.yml\n",
    "sudo sed -i 's/^\\ \\ ports\\: \\[6379\\]/#&/' /etc/packetbeat/packetbeat.yml\n",
    "sudo sed -i 's/^\\- type\\: thrift/#&/' /etc/packetbeat/packetbeat.yml\n",
    "sudo sed -i 's/^\\ \\ ports\\: \\[9090\\]/#&/' /etc/packetbeat/packetbeat.yml\n",
    "sudo sed -i 's/^\\- type\\: mongodb/#&/' /etc/packetbeat/packetbeat.yml\n",
    "sudo sed -i 's/^\\ \\ ports\\: \\[27017\\]/#&/' /etc/packetbeat/packetbeat.yml\n",
    "sudo sed -i 's/^\\- type\\: nfs/#&/' /etc/packetbeat/packetbeat.yml\n",
    "sudo sed -i 's/^\\ \\ ports\\: \\[2049\\]/#&/' /etc/packetbeat/packetbeat.yml\n",
    "sudo sed -i 's/^output.elasticsearch\\:/#&/' /etc/packetbeat/packetbeat.yml\n",
    "sudo sed -i 's/^\\ \\ hosts\\: \\[\\\"localhost\\:9200\\\"\\]/#&/' /etc/packetbeat/packetbeat.yml"
   ]
  },
  {
   "cell_type": "markdown",
   "metadata": {},
   "source": [
    "### Enable communication with logstash"
   ]
  },
  {
   "cell_type": "code",
   "execution_count": null,
   "metadata": {},
   "outputs": [],
   "source": [
    "%%bash\n",
    "export ls_ip=\"<LOGSTASH-IP-ADDRESS>\"\n",
    "\n",
    "#Enable Logstash output\n",
    "sudo sed -i '/output.logstash\\:/s/^#//g' /etc/packetbeat/packetbeat.yml\n",
    "\n",
    "#Uncomment and Change Logstash IP ADDRESS\n",
    "sudo sed -i \"s/#hosts\\: \\[\\\"localhost\\:5044\\\"\\]/hosts\\: \\[\\\"$ls_ip\\:5044\\\"\\]/g\" /etc/packetbeat/packetbeat.yml\n",
    "sudo sed -i 's/#ssl\\.certificate_authorities\\: \\[\"\\/etc\\/pki\\/root\\/ca\\.pem\"\\]/ssl\\.certificate\\_authorities\\: \\[\"\\/etc\\/pki\\/tls\\/certs\\/logstash\\-forwarder\\.crt\"\\]/g' /etc/packetbeat/packetbeat.yml\n"
   ]
  },
  {
   "cell_type": "markdown",
   "metadata": {},
   "source": [
    "### Test Configuration and Connectivity to Logstash"
   ]
  },
  {
   "cell_type": "code",
   "execution_count": null,
   "metadata": {},
   "outputs": [],
   "source": [
    "%%bash\n",
    "sudo /usr/share/packetbeat/bin/packetbeat test config -c /etc/packetbeat/packetbeat.yml\n",
    "sudo /usr/share/packetbeat/bin/packetbeat test output -c /etc/packetbeat/packetbeat.yml"
   ]
  },
  {
   "cell_type": "markdown",
   "metadata": {},
   "source": [
    "### Add Kibana Dashboards for Packetbeat"
   ]
  },
  {
   "cell_type": "code",
   "execution_count": null,
   "metadata": {},
   "outputs": [],
   "source": [
    "%%bash\n",
    "sudo packetbeat setup -e \\\n",
    "  -E output.logstash.enabled=false \\\n",
    "  -E output.elasticsearch.hosts=['<ELASTICSEARCH-IP-ADDRESS>:9200'] \\\n",
    "  -E setup.kibana.host=<KIBANA-IP-ADDRESS>:5601 \\\n",
    "  -E output.elasticsearch.username=elastic \\\n",
    "  -E output.elasticsearch.password=elasticsiem"
   ]
  },
  {
   "cell_type": "markdown",
   "metadata": {},
   "source": [
    "### Add template from packetbeat to elasticsearch"
   ]
  },
  {
   "cell_type": "code",
   "execution_count": null,
   "metadata": {},
   "outputs": [],
   "source": [
    "%%bash\n",
    "\n",
    "sudo packetbeat setup --index-management \\\n",
    "  -E output.logstash.enabled=false \\\n",
    "  -E 'output.elasticsearch.hosts=[\"<ELASTICSEARCH-IP-ADDRESS>:9200\"]' \\\n",
    "  -E output.elasticsearch.username=elastic \\\n",
    "  -E output.elasticsearch.password=elasticsiem\n"
   ]
  },
  {
   "cell_type": "markdown",
   "metadata": {},
   "source": [
    "### List Loaded Templates"
   ]
  },
  {
   "cell_type": "code",
   "execution_count": null,
   "metadata": {},
   "outputs": [],
   "source": [
    "%%bash\n",
    "curl -u elastic:elasticsiem -XGET '<ELASTICSEARCH-IP-ADDRESS>:9200/_template/' | jq 'keys'"
   ]
  },
  {
   "cell_type": "markdown",
   "metadata": {},
   "source": [
    "### Start Packetbeat"
   ]
  },
  {
   "cell_type": "code",
   "execution_count": null,
   "metadata": {},
   "outputs": [],
   "source": [
    "%%bash\n",
    "sudo systemctl start packetbeat\n",
    "sudo systemctl enable packetbeat"
   ]
  },
  {
   "cell_type": "markdown",
   "metadata": {},
   "source": [
    "### Alternatively, you can run Filebeat in debug mode by using the following command:\n",
    "\n",
    "~~~\n",
    "sudo /usr/share/packetbeat/bin/packetbeat -e -d \"publish\" -c /etc/packetbeat/packetbeat.yml\n",
    "~~~"
   ]
  },
  {
   "cell_type": "markdown",
   "metadata": {},
   "source": [
    "### Metricbeat Installation"
   ]
  },
  {
   "cell_type": "code",
   "execution_count": null,
   "metadata": {},
   "outputs": [],
   "source": [
    "%%bash\n",
    "sudo apt install -y metricbeat"
   ]
  },
  {
   "cell_type": "markdown",
   "metadata": {},
   "source": [
    "### Disable default configuration\n",
    "\n",
    "##### The default metricbeat configuration enables connectivity directly to elasticseach. We will disable this configuration to later enable communication to logstash."
   ]
  },
  {
   "cell_type": "code",
   "execution_count": null,
   "metadata": {},
   "outputs": [],
   "source": [
    "%%bash\n",
    "sudo sed -i 's/^output.elasticsearch\\:/#&/' /etc/metricbeat/metricbeat.yml\n",
    "sudo sed -i 's/^\\ \\ hosts\\: \\[\\\"localhost\\:9200\\\"\\]/#&/' /etc/metricbeat/metricbeat.yml"
   ]
  },
  {
   "cell_type": "markdown",
   "metadata": {},
   "source": [
    "### Enable communication with logstash"
   ]
  },
  {
   "cell_type": "code",
   "execution_count": null,
   "metadata": {},
   "outputs": [],
   "source": [
    "%%bash\n",
    "export ls_ip=\"<LOGSTASH-IP-ADDRESS>\"\n",
    "\n",
    "#Enable Logstash output\n",
    "sudo sed -i '/output.logstash\\:/s/^#//g' /etc/metricbeat/metricbeat.yml\n",
    "\n",
    "#Uncomment and Change Logstash IP ADDRESS\n",
    "sudo sed -i \"s/#hosts\\: \\[\\\"localhost\\:5044\\\"\\]/hosts\\: \\[\\\"$ls_ip\\:5044\\\"\\]/g\" /etc/metricbeat/metricbeat.yml\n",
    "sudo sed -i 's/#ssl\\.certificate_authorities\\: \\[\"\\/etc\\/pki\\/root\\/ca\\.pem\"\\]/ssl\\.certificate\\_authorities\\: \\[\"\\/etc\\/pki\\/tls\\/certs\\/logstash\\-forwarder\\.crt\"\\]/g' /etc/metricbeat/metricbeat.yml\n"
   ]
  },
  {
   "cell_type": "markdown",
   "metadata": {},
   "source": [
    "### Enabling the Metricbeats's system module.\n",
    "\n",
    "##### Metric supports different modules that allows us to collect Metrics from different services. In our case, we would like to enable the System Metric module to monitor the metrics of our Virtual Machine.\n",
    "\n",
    "##### For more infomration about the available modules check the following link:\n",
    "https://www.elastic.co/guide/en/beats/metricbeat/current/metricbeat-modules.html\n",
    "\n",
    "##### To enable the system module, run the command below:"
   ]
  },
  {
   "cell_type": "code",
   "execution_count": null,
   "metadata": {},
   "outputs": [],
   "source": [
    "%%bash\n",
    "sudo metricbeat modules enable system"
   ]
  },
  {
   "cell_type": "markdown",
   "metadata": {},
   "source": [
    "##### You can verify if the system module has been enables by using the following command:\n",
    "\n",
    "~~~\n",
    "sudo metricbeat modules list\n",
    "~~~"
   ]
  },
  {
   "cell_type": "markdown",
   "metadata": {},
   "source": [
    "### Test Configuration and Connectivity to Logstash"
   ]
  },
  {
   "cell_type": "code",
   "execution_count": null,
   "metadata": {},
   "outputs": [],
   "source": [
    "%%bash\n",
    "sudo /usr/share/metricbeat/bin/metricbeat test config -c /etc/metricbeat/metricbeat.yml\n",
    "sudo /usr/share/metricbeat/bin/metricbeat test output -c /etc/metricbeat/metricbeat.yml"
   ]
  },
  {
   "cell_type": "markdown",
   "metadata": {},
   "source": [
    "### Add Kibana Dashboards for Metricbeat"
   ]
  },
  {
   "cell_type": "code",
   "execution_count": null,
   "metadata": {},
   "outputs": [],
   "source": [
    "%%bash\n",
    "sudo metricbeat setup -e \\\n",
    "  -E output.logstash.enabled=false \\\n",
    "  -E output.elasticsearch.hosts=['<ELASTICSEARCH-IP-ADDRESS>:9200'] \\\n",
    "  -E setup.kibana.host=<KIBANA-IP-ADDRESS>:5601 \\\n",
    "  -E output.elasticsearch.username=elastic \\\n",
    "  -E output.elasticsearch.password=elasticsiem"
   ]
  },
  {
   "cell_type": "markdown",
   "metadata": {},
   "source": [
    "### Add template from metricbeat to elasticsearch"
   ]
  },
  {
   "cell_type": "code",
   "execution_count": null,
   "metadata": {},
   "outputs": [],
   "source": [
    "%%bash\n",
    "\n",
    "sudo metricbeat setup --index-management \\\n",
    "  -E output.logstash.enabled=false \\\n",
    "  -E 'output.elasticsearch.hosts=[\"<ELASTICSEARCH-IP-ADDRESS>:9200\"]' \\\n",
    "  -E output.elasticsearch.username=elastic \\\n",
    "  -E output.elasticsearch.password=elasticsiem\n"
   ]
  },
  {
   "cell_type": "markdown",
   "metadata": {},
   "source": [
    "### List Loaded Templates"
   ]
  },
  {
   "cell_type": "code",
   "execution_count": null,
   "metadata": {},
   "outputs": [],
   "source": [
    "%%bash\n",
    "curl -u elastic:elasticsiem -XGET '<ELASTICSEARCH-IP-ADDRESS>:9200/_template/' | jq 'keys'"
   ]
  },
  {
   "cell_type": "markdown",
   "metadata": {},
   "source": [
    "### Start Metricbeat"
   ]
  },
  {
   "cell_type": "code",
   "execution_count": null,
   "metadata": {},
   "outputs": [],
   "source": [
    "%%bash\n",
    "sudo systemctl start metricbeat\n",
    "sudo systemctl enable metricbeat"
   ]
  },
  {
   "cell_type": "markdown",
   "metadata": {},
   "source": [
    "### Alternatively, you can run Metricbeat in debug mode by using the following command:\n",
    "\n",
    "~~~\n",
    "sudo /usr/share/metriceat/bin/metricbeat -e -d \"publish\" -c /etc/metricbeat/metricbeat.yml\n",
    "~~~"
   ]
  },
  {
   "cell_type": "markdown",
   "metadata": {},
   "source": [
    "### Auditbeat Installation"
   ]
  },
  {
   "cell_type": "code",
   "execution_count": null,
   "metadata": {},
   "outputs": [],
   "source": [
    "%%bash\n",
    "sudo apt install -y auditbeat"
   ]
  },
  {
   "cell_type": "markdown",
   "metadata": {},
   "source": [
    "### Disable default configuration\n",
    "\n",
    "##### The default metricbeat configuration enables connectivity directly to elasticseach. We will disable this configuration to later enable communication to logstash."
   ]
  },
  {
   "cell_type": "code",
   "execution_count": null,
   "metadata": {},
   "outputs": [],
   "source": [
    "%%bash\n",
    "sudo sed -i 's/^output.elasticsearch\\:/#&/' /etc/auditbeat/auditbeat.yml\n",
    "sudo sed -i 's/^\\ \\ hosts\\: \\[\\\"localhost\\:9200\\\"\\]/#&/' /etc/auditbeat/auditbeat.yml"
   ]
  },
  {
   "cell_type": "markdown",
   "metadata": {},
   "source": [
    "### Enable communication with logstash"
   ]
  },
  {
   "cell_type": "code",
   "execution_count": null,
   "metadata": {},
   "outputs": [],
   "source": [
    "%%bash\n",
    "export ls_ip=\"<LOGSTASH-IP-ADDRESS>\"\n",
    "\n",
    "#Enable Logstash output\n",
    "sudo sed -i '/output.logstash\\:/s/^#//g' /etc/auditbeat/auditbeat.yml\n",
    "\n",
    "#Uncomment and Change Logstash IP ADDRESS\n",
    "sudo sed -i \"s/#hosts\\: \\[\\\"localhost\\:5044\\\"\\]/hosts\\: \\[\\\"$ls_ip\\:5044\\\"\\]/g\" /etc/auditbeat/auditbeat.yml\n",
    "sudo sed -i 's/#ssl\\.certificate_authorities\\: \\[\"\\/etc\\/pki\\/root\\/ca\\.pem\"\\]/ssl\\.certificate\\_authorities\\: \\[\"\\/etc\\/pki\\/tls\\/certs\\/logstash\\-forwarder\\.crt\"\\]/g' /etc/auditbeat/auditbeat.yml\n"
   ]
  },
  {
   "cell_type": "markdown",
   "metadata": {},
   "source": [
    "### Change timefram to obtain and update on the system's state"
   ]
  },
  {
   "cell_type": "code",
   "execution_count": null,
   "metadata": {},
   "outputs": [],
   "source": [
    "%%bash\n",
    "sudo sed -i \"s/state\\.period\\: 12h/state\\.period\\: 1h/g\" /etc/auditbeat/auditbeat.yml"
   ]
  },
  {
   "cell_type": "markdown",
   "metadata": {},
   "source": [
    "### Enabling the Auditbeats's system module.\n",
    "\n",
    "##### In the configuration file, two modules are configured by default 1) Auditd 2) File_Integrity and 3) System with the details presented below.\n",
    "##### As you can see, there are no rules defined for auditd. In addition, auditd is not installed in our system.\n",
    "\n",
    "~~~\n",
    "- module: auditd\n",
    "  # Load audit rules from separate files. Same format as audit.rules(7).\n",
    "  audit_rule_files: [ '${path.config}/audit.rules.d/*.conf' ]\n",
    "  audit_rules: |\n",
    "  \n",
    "- module: file_integrity\n",
    "  paths:\n",
    "  - /bin\n",
    "  - /usr/bin\n",
    "  - /sbin\n",
    "  - /usr/sbin\n",
    "  - /etc\n",
    "  \n",
    "- module: system\n",
    "  datasets:\n",
    "    - host    # General host information, e.g. uptime, IPs\n",
    "    - process # Started and stopped processes\n",
    "    - socket  # Opened and closed sockets\n",
    "    - user    # User information\n",
    "~~~\n",
    "\n",
    "##### You can check available modules in teh link below if you seed to audit additional data:\n",
    "https://www.elastic.co/guide/en/beats/auditbeat/current/auditbeat-modules.html\n",
    "\n",
    "##### We proceed to install auditd on Ubuntu 18.04 and to enable module in auditbeat.\n",
    "\n",
    "### Install auditd in ubuntu 18.04:"
   ]
  },
  {
   "cell_type": "code",
   "execution_count": null,
   "metadata": {},
   "outputs": [],
   "source": [
    "%%bash\n",
    "sudo apt install -y auditd audispd-plugins"
   ]
  },
  {
   "cell_type": "markdown",
   "metadata": {},
   "source": [
    "### Create rules for Auditd\n",
    "\n",
    "##### For reference information for each rule please visit the following site:\n",
    "\n",
    "https://gist.githubusercontent.com/Neo23x0/9fe88c0c5979e017a389b90fd19ddfee/raw/f37173a62e2d54325b0e5d496ac51c37dfb4e37f/audit.rules"
   ]
  },
  {
   "cell_type": "code",
   "execution_count": null,
   "metadata": {},
   "outputs": [],
   "source": [
    "%%bash\n",
    "# Remove any existing rules\n",
    "sudo auditctl -D\n",
    "\n",
    "# Buffer Size\n",
    "## Feel free to increase this if the machine panic's\n",
    "sudo auditctl -b 8192\n",
    "\n",
    "# Failure Mode\n",
    "## Possible values: 0 (silent), 1 (printk, print a failure message), 2 (panic, halt the system)\n",
    "sudo auditctl -f 1\n",
    "\n",
    "# Ignore errors\n",
    "## e.g. caused by users or files not found in the local environment  \n",
    "sudo auditctl -i \n",
    "\n",
    "# Self Auditing ---------------------------------------------------------------\n",
    "\n",
    "## Audit the audit logs\n",
    "### Successful and unsuccessful attempts to read information from the audit records\n",
    "sudo auditctl -w /var/log/audit/ -k auditlog\n",
    "\n",
    "## Auditd configuration\n",
    "### Modifications to audit configuration that occur while the audit collection functions are operating\n",
    "sudo auditctl -w /etc/audit/ -p wa -k auditconfig\n",
    "sudo auditctl -w /etc/libaudit.conf -p wa -k auditconfig\n",
    "sudo auditctl -w /etc/audisp/ -p wa -k audispconfig\n",
    "\n",
    "## Monitor for use of audit management tools\n",
    "sudo auditctl -w /sbin/auditctl -p x -k audittools\n",
    "sudo auditctl -w /sbin/auditd -p x -k audittools\n",
    "\n",
    "# Filters ---------------------------------------------------------------------\n",
    "\n",
    "### We put these early because audit is a first match wins system.\n",
    "\n",
    "## Ignore SELinux AVC records\n",
    "sudo auditctl -a always,exclude -F msgtype=AVC\n",
    "\n",
    "## Ignore current working directory records\n",
    "sudo auditctl -a always,exclude -F msgtype=CWD\n",
    "\n",
    "## Ignore EOE records (End Of Event, not needed)\n",
    "sudo auditctl -a always,exclude -F msgtype=EOE\n",
    "\n",
    "## Cron jobs fill the logs with stuff we normally don't want (works with SELinux)\n",
    "sudo auditctl -a never,user -F subj_type=crond_t\n",
    "sudo auditctl -a exit,never -F subj_type=crond_t\n",
    "\n",
    "## This prevents chrony from overwhelming the logs\n",
    "sudo auditctl -a never,exit -F arch=b64 -S adjtimex -F auid=unset -F uid=chrony -F subj_type=chronyd_t\n",
    "\n",
    "## This is not very interesting and wastes a lot of space if the server is public facing\n",
    "sudo auditctl -a always,exclude -F msgtype=CRYPTO_KEY_USER\n",
    "\n",
    "## VMWare tools\n",
    "sudo auditctl -a exit,never -F arch=b32 -S fork -F success=0 -F path=/usr/lib/vmware-tools -F subj_type=initrc_t -F exit=-2\n",
    "sudo auditctl -a exit,never -F arch=b64 -S fork -F success=0 -F path=/usr/lib/vmware-tools -F subj_type=initrc_t -F exit=-2\n",
    "\n",
    "### High Volume Event Filter (especially on Linux Workstations)\n",
    "sudo auditctl -a exit,never -F arch=b32 -F dir=/dev/shm -k sharedmemaccess\n",
    "sudo auditctl -a exit,never -F arch=b64 -F dir=/dev/shm -k sharedmemaccess\n",
    "sudo auditctl -a exit,never -F arch=b32 -F dir=/var/lock/lvm -k locklvm\n",
    "sudo auditctl -a exit,never -F arch=b64 -F dir=/var/lock/lvm -k locklvm\n",
    "\n",
    "## More information on how to filter events\n",
    "### https://access.redhat.com/solutions/2482221\n",
    "\n",
    "# Rules -----------------------------------------------------------------------\n",
    "\n",
    "## Kernel parameters\n",
    "sudo auditctl -w /etc/sysctl.conf -p wa -k sysctl\n",
    "\n",
    "## Kernel module loading and unloading\n",
    "sudo auditctl -a always,exit -F perm=x -F auid!=-1 -F path=/sbin/insmod -k modules\n",
    "sudo auditctl -a always,exit -F perm=x -F auid!=-1 -F path=/sbin/modprobe -k modules\n",
    "sudo auditctl -a always,exit -F perm=x -F auid!=-1 -F path=/sbin/rmmod -k modules\n",
    "sudo auditctl -a always,exit -F arch=b64 -S finit_module -S init_module -S delete_module -F auid!=-1 -k modules\n",
    "sudo auditctl -a always,exit -F arch=b32 -S finit_module -S init_module -S delete_module -F auid!=-1 -k modules\n",
    "## Modprobe configuration\n",
    "sudo auditctl -w /etc/modprobe.conf -p wa -k modprobe\n",
    "\n",
    "## KExec usage (all actions)\n",
    "sudo auditctl -a always,exit -F arch=b64 -S kexec_load -k KEXEC\n",
    "sudo auditctl -a always,exit -F arch=b32 -S sys_kexec_load -k KEXEC\n",
    "\n",
    "## Special files\n",
    "sudo auditctl -a exit,always -F arch=b32 -S mknod -S mknodat -k specialfiles\n",
    "sudo auditctl -a exit,always -F arch=b64 -S mknod -S mknodat -k specialfiles\n",
    "\n",
    "## Mount operations (only attributable)\n",
    "sudo auditctl -a always,exit -F arch=b64 -S mount -S umount2 -F auid!=-1 -k mount\n",
    "sudo auditctl -a always,exit -F arch=b32 -S mount -S umount -S umount2 -F auid!=-1 -k mount\n",
    "\n",
    "# Change swap (only attributable)\n",
    "sudo auditctl -a always,exit -F arch=b64 -S swapon -S swapoff -F auid!=-1 -k swap\n",
    "sudo auditctl -a always,exit -F arch=b32 -S swapon -S swapoff -F auid!=-1 -k swap\n",
    "\n",
    "## Time\n",
    "sudo auditctl -a exit,always -F arch=b32 -S adjtimex -S settimeofday -S clock_settime -k time\n",
    "sudo auditctl -a exit,always -F arch=b64 -S adjtimex -S settimeofday -S clock_settime -k time\n",
    "### Local time zone\n",
    "sudo auditctl -w /etc/localtime -p wa -k localtime\n",
    "\n",
    "## Stunnel\n",
    "sudo auditctl -w /usr/sbin/stunnel -p x -k stunnel\n",
    "\n",
    "## Cron configuration & scheduled jobs\n",
    "sudo auditctl -w /etc/cron.allow -p wa -k cron\n",
    "sudo auditctl -w /etc/cron.deny -p wa -k cron\n",
    "sudo auditctl -w /etc/cron.d/ -p wa -k cron\n",
    "sudo auditctl -w /etc/cron.daily/ -p wa -k cron\n",
    "sudo auditctl -w /etc/cron.hourly/ -p wa -k cron\n",
    "sudo auditctl -w /etc/cron.monthly/ -p wa -k cron\n",
    "sudo auditctl -w /etc/cron.weekly/ -p wa -k cron\n",
    "sudo auditctl -w /etc/crontab -p wa -k cron\n",
    "sudo auditctl -w /var/spool/cron/crontabs/ -k cron\n",
    "\n",
    "## User, group, password databases\n",
    "sudo auditctl -w /etc/group -p wa -k etcgroup\n",
    "sudo auditctl -w /etc/passwd -p wa -k etcpasswd\n",
    "sudo auditctl -w /etc/gshadow -k etcgroup\n",
    "sudo auditctl -w /etc/shadow -k etcpasswd\n",
    "sudo auditctl -w /etc/security/opasswd -k opasswd\n",
    "\n",
    "## Sudoers file changes\n",
    "sudo auditctl -w /etc/sudoers -p wa -k actions\n",
    "\n",
    "## Passwd\n",
    "sudo auditctl -w /usr/bin/passwd -p x -k passwd_modification\n",
    "\n",
    "## Tools to change group identifiers\n",
    "sudo auditctl -w /usr/sbin/groupadd -p x -k group_modification\n",
    "sudo auditctl -w /usr/sbin/groupmod -p x -k group_modification\n",
    "sudo auditctl -w /usr/sbin/addgroup -p x -k group_modification\n",
    "sudo auditctl -w /usr/sbin/useradd -p x -k user_modification\n",
    "sudo auditctl -w /usr/sbin/usermod -p x -k user_modification\n",
    "sudo auditctl -w /usr/sbin/adduser -p x -k user_modification\n",
    "\n",
    "## Login configuration and information\n",
    "sudo auditctl -w /etc/login.defs -p wa -k login\n",
    "sudo auditctl -w /etc/securetty -p wa -k login\n",
    "sudo auditctl -w /var/log/faillog -p wa -k login\n",
    "sudo auditctl -w /var/log/lastlog -p wa -k login\n",
    "sudo auditctl -w /var/log/tallylog -p wa -k login\n",
    "\n",
    "## Network Environment\n",
    "### Changes to hostname\n",
    "sudo auditctl -a always,exit -F arch=b32 -S sethostname -S setdomainname -k network_modifications\n",
    "sudo auditctl -a always,exit -F arch=b64 -S sethostname -S setdomainname -k network_modifications\n",
    "### Changes to other files\n",
    "sudo auditctl -w /etc/hosts -p wa -k network_modifications\n",
    "sudo auditctl -w /etc/sysconfig/network -p wa -k network_modifications\n",
    "sudo auditctl -w /etc/network/ -p wa -k network\n",
    "sudo auditctl -a always,exit -F dir=/etc/NetworkManager/ -F perm=wa -k network_modifications\n",
    "sudo auditctl -w /etc/sysconfig/network -p wa -k network_modifications\n",
    "### Changes to issue\n",
    "sudo auditctl -w /etc/issue -p wa -k etcissue\n",
    "sudo auditctl -w /etc/issue.net -p wa -k etcissue\n",
    "\n",
    "## System startup scripts\n",
    "sudo auditctl -w /etc/inittab -p wa -k init\n",
    "sudo auditctl -w /etc/init.d/ -p wa -k init\n",
    "sudo auditctl -w /etc/init/ -p wa -k init\n",
    "\n",
    "## Library search paths\n",
    "sudo auditctl -w /etc/ld.so.conf -p wa -k libpath\n",
    "\n",
    "## Pam configuration\n",
    "sudo auditctl -w /etc/pam.d/ -p wa -k pam\n",
    "sudo auditctl -w /etc/security/limits.conf -p wa  -k pam\n",
    "sudo auditctl -w /etc/security/pam_env.conf -p wa -k pam\n",
    "sudo auditctl -w /etc/security/namespace.conf -p wa -k pam\n",
    "sudo auditctl -w /etc/security/namespace.init -p wa -k pam\n",
    "\n",
    "## Postfix configuration\n",
    "sudo auditctl -w /etc/aliases -p wa -k mail\n",
    "sudo auditctl -w /etc/postfix/ -p wa -k mail\n",
    "\n",
    "## SSH configuration\n",
    "sudo auditctl -w /etc/ssh/sshd_config -k sshd\n",
    "\n",
    "# Systemd\n",
    "sudo auditctl -w /bin/systemctl -p x -k systemd \n",
    "sudo auditctl -w /etc/systemd/ -p wa -k systemd\n",
    "\n",
    "## SELinux events that modify the system's Mandatory Access Controls (MAC)\n",
    "sudo auditctl -w /etc/selinux/ -p wa -k mac_policy\n",
    "\n",
    "## Critical elements access failures \n",
    "sudo auditctl -a exit,always -F arch=b64 -S open -F dir=/etc -F success=0 -k unauthedfileaccess\n",
    "sudo auditctl -a exit,always -F arch=b64 -S open -F dir=/bin -F success=0 -k unauthedfileaccess\n",
    "sudo auditctl -a exit,always -F arch=b64 -S open -F dir=/sbin -F success=0 -k unauthedfileaccess\n",
    "sudo auditctl -a exit,always -F arch=b64 -S open -F dir=/usr/bin -F success=0 -k unauthedfileaccess\n",
    "sudo auditctl -a exit,always -F arch=b64 -S open -F dir=/usr/sbin -F success=0 -k unauthedfileaccess\n",
    "sudo auditctl -a exit,always -F arch=b64 -S open -F dir=/var -F success=0 -k unauthedfileaccess\n",
    "sudo auditctl -a exit,always -F arch=b64 -S open -F dir=/home -F success=0 -k unauthedfileaccess\n",
    "sudo auditctl -a exit,always -F arch=b64 -S open -F dir=/srv -F success=0 -k unauthedfileaccess\n",
    "\n",
    "## Process ID change (switching accounts) applications\n",
    "sudo auditctl -w /bin/su -p x -k priv_esc\n",
    "sudo auditctl -w /usr/bin/sudo -p x -k priv_esc\n",
    "sudo auditctl -w /etc/sudoers -p rw -k priv_esc\n",
    "\n",
    "## Power state\n",
    "sudo auditctl -w /sbin/shutdown -p x -k power\n",
    "sudo auditctl -w /sbin/poweroff -p x -k power\n",
    "sudo auditctl -w /sbin/reboot -p x -k power\n",
    "sudo auditctl -w /sbin/halt -p x -k power\n",
    "\n",
    "## Session initiation information\n",
    "sudo auditctl -w /var/run/utmp -p wa -k session\n",
    "sudo auditctl -w /var/log/btmp -p wa -k session\n",
    "sudo auditctl -w /var/log/wtmp -p wa -k session\n",
    "\n",
    "## Discretionary Access Control (DAC) modifications\n",
    "sudo auditctl -a always,exit -F arch=b32 -S chmod -F auid>=500 -F auid!=4294967295 -k perm_mod\n",
    "sudo auditctl -a always,exit -F arch=b32 -S chown -F auid>=500 -F auid!=4294967295 -k perm_mod\n",
    "sudo auditctl -a always,exit -F arch=b32 -S fchmod -F auid>=500 -F auid!=4294967295 -k perm_mod\n",
    "sudo auditctl -a always,exit -F arch=b32 -S fchmodat -F auid>=500 -F auid!=4294967295 -k perm_mod\n",
    "sudo auditctl -a always,exit -F arch=b32 -S fchown -F auid>=500 -F auid!=4294967295 -k perm_mod\n",
    "sudo auditctl -a always,exit -F arch=b32 -S fchownat -F auid>=500 -F auid!=4294967295 -k perm_mod\n",
    "sudo auditctl -a always,exit -F arch=b32 -S fremovexattr -F auid>=500 -F auid!=4294967295 -k perm_mod\n",
    "sudo auditctl -a always,exit -F arch=b32 -S fsetxattr -F auid>=500 -F auid!=4294967295 -k perm_mod\n",
    "sudo auditctl -a always,exit -F arch=b32 -S lchown -F auid>=500 -F auid!=4294967295 -k perm_mod\n",
    "sudo auditctl -a always,exit -F arch=b32 -S lremovexattr -F auid>=500 -F auid!=4294967295 -k perm_mod\n",
    "sudo auditctl -a always,exit -F arch=b32 -S lsetxattr -F auid>=500 -F auid!=4294967295 -k perm_mod\n",
    "sudo auditctl -a always,exit -F arch=b32 -S removexattr -F auid>=500 -F auid!=4294967295 -k perm_mod\n",
    "sudo auditctl -a always,exit -F arch=b32 -S setxattr -F auid>=500 -F auid!=4294967295 -k perm_mod\n",
    "sudo auditctl -a always,exit -F arch=b64 -S chmod  -F auid>=500 -F auid!=4294967295 -k perm_mod\n",
    "sudo auditctl -a always,exit -F arch=b64 -S chown -F auid>=500 -F auid!=4294967295 -k perm_mod\n",
    "sudo auditctl -a always,exit -F arch=b64 -S fchmod -F auid>=500 -F auid!=4294967295 -k perm_mod\n",
    "sudo auditctl -a always,exit -F arch=b64 -S fchmodat -F auid>=500 -F auid!=4294967295 -k perm_mod\n",
    "sudo auditctl -a always,exit -F arch=b64 -S fchown -F auid>=500 -F auid!=4294967295 -k perm_mod\n",
    "sudo auditctl -a always,exit -F arch=b64 -S fchownat -F auid>=500 -F auid!=4294967295 -k perm_mod\n",
    "sudo auditctl -a always,exit -F arch=b64 -S fremovexattr -F auid>=500 -F auid!=4294967295 -k perm_mod\n",
    "sudo auditctl -a always,exit -F arch=b64 -S fsetxattr -F auid>=500 -F auid!=4294967295 -k perm_mod\n",
    "sudo auditctl -a always,exit -F arch=b64 -S lchown -F auid>=500 -F auid!=4294967295 -k perm_mod\n",
    "sudo auditctl -a always,exit -F arch=b64 -S lremovexattr -F auid>=500 -F auid!=4294967295 -k perm_mod\n",
    "sudo auditctl -a always,exit -F arch=b64 -S lsetxattr -F auid>=500 -F auid!=4294967295 -k perm_mod\n",
    "sudo auditctl -a always,exit -F arch=b64 -S removexattr -F auid>=500 -F auid!=4294967295 -k perm_mod\n",
    "sudo auditctl -a always,exit -F arch=b64 -S setxattr -F auid>=500 -F auid!=4294967295 -k perm_mod\n",
    "\n",
    "# Special Rules ---------------------------------------------------------------\n",
    "\n",
    "## 32bit API Exploitation\n",
    "### If you are on a 64 bit platform, everything _should_ be running\n",
    "### in 64 bit mode. This rule will detect any use of the 32 bit syscalls\n",
    "### because this might be a sign of someone exploiting a hole in the 32\n",
    "### bit API.\n",
    "sudo auditctl -a always,exit -F arch=b32 -S all -k 32bit_api\n",
    "\n",
    "## Reconnaissance\n",
    "sudo auditctl -w /usr/bin/whoami -p x -k recon\n",
    "sudo auditctl -w /etc/issue -p r -k recon\n",
    "sudo auditctl -w /etc/hostname -p r -k recon\n",
    "\n",
    "## Suspicious activity\n",
    "sudo auditctl -w /usr/bin/wget -p x -k susp_activity\n",
    "sudo auditctl -w /usr/bin/curl -p x -k susp_activity\n",
    "sudo auditctl -w /usr/bin/base64 -p x -k susp_activity\n",
    "sudo auditctl -w /bin/nc -p x -k susp_activity\n",
    "sudo auditctl -w /bin/netcat -p x -k susp_activity\n",
    "sudo auditctl -w /usr/bin/ncat -p x -k susp_activity\n",
    "sudo auditctl -w /usr/bin/ssh -p x -k susp_activity\n",
    "sudo auditctl -w /usr/bin/socat -p x -k susp_activity\n",
    "sudo auditctl -w /usr/bin/wireshark -p x -k susp_activity\n",
    "sudo auditctl -w /usr/bin/rawshark -p x -k susp_activity\n",
    "sudo auditctl -w /usr/bin/rdesktop -p x -k sbin_susp\n",
    "\n",
    "## Sbin suspicious activity\n",
    "sudo auditctl -w /sbin/iptables -p x -k sbin_susp \n",
    "sudo auditctl -w /sbin/ifconfig -p x -k sbin_susp\n",
    "sudo auditctl -w /usr/sbin/tcpdump -p x -k sbin_susp\n",
    "sudo auditctl -w /usr/sbin/traceroute -p x -k sbin_susp\n",
    "\n",
    "## Injection \n",
    "### These rules watch for code injection by the ptrace facility.\n",
    "### This could indicate someone trying to do something bad or just debugging\n",
    "sudo auditctl -a always,exit -F arch=b32 -S ptrace -k tracing\n",
    "sudo auditctl -a always,exit -F arch=b64 -S ptrace -k tracing\n",
    "sudo auditctl -a always,exit -F arch=b32 -S ptrace -F a0=0x4 -k code_injection\n",
    "sudo auditctl -a always,exit -F arch=b64 -S ptrace -F a0=0x4 -k code_injection\n",
    "sudo auditctl -a always,exit -F arch=b32 -S ptrace -F a0=0x5 -k data_injection\n",
    "sudo auditctl -a always,exit -F arch=b64 -S ptrace -F a0=0x5 -k data_injection\n",
    "sudo auditctl -a always,exit -F arch=b32 -S ptrace -F a0=0x6 -k register_injection\n",
    "sudo auditctl -a always,exit -F arch=b64 -S ptrace -F a0=0x6 -k register_injection\n",
    "\n",
    "## Privilege Abuse\n",
    "### The purpose of this rule is to detect when an admin may be abusing power by looking in user's home dir.\n",
    "sudo auditctl -a always,exit -F dir=/home -F uid=0 -F auid>=1000 -F auid!=4294967295 -C auid!=obj_uid -k power_abuse\n",
    "\n",
    "# Software Management ---------------------------------------------------------\n",
    "\n",
    "# DPKG / APT-GET (Debian/Ubuntu)\n",
    "sudo auditctl -w /usr/bin/dpkg -p x -k software_mgmt\n",
    "sudo auditctl -w /usr/bin/apt-add-repository -p x -k software_mgmt\n",
    "sudo auditctl -w /usr/bin/apt-get -p x -k software_mgmt\n",
    "sudo auditctl -w /usr/bin/aptitude -p x -k software_mgmt\n",
    "\n",
    "# High volume events ----------------------------------------------------------\n",
    "\n",
    "## Remove them if the cause to much volumen in your einvironment\n",
    "\n",
    "## Root command executions \n",
    "sudo auditctl -a exit,always -F arch=b64 -F euid=0 -S execve -k rootcmd\n",
    "sudo auditctl -a exit,always -F arch=b32 -F euid=0 -S execve -k rootcmd\n",
    "\n",
    "## File Deletion Events by User\n",
    "sudo auditctl -a always,exit -F arch=b32 -S rmdir -S unlink -S unlinkat -S rename -S renameat -F auid>=500 -F auid!=4294967295 -k delete\n",
    "sudo auditctl -a always,exit -F arch=b64 -S rmdir -S unlink -S unlinkat -S rename -S renameat -F auid>=500 -F auid!=4294967295 -k delete\n",
    "\n",
    "## File Access\n",
    "### Unauthorized Access (unsuccessful)\n",
    "sudo auditctl -a always,exit -F arch=b32 -S creat -S open -S openat -S open_by_handle_at -S truncate -S ftruncate -F exit=-EACCES -F auid>=500 -F auid!=4294967295 -k file_access\n",
    "sudo auditctl -a always,exit -F arch=b32 -S creat -S open -S openat -S open_by_handle_at -S truncate -S ftruncate -F exit=-EPERM -F auid>=500 -F auid!=4294967295 -k file_access\n",
    "sudo auditctl -a always,exit -F arch=b64 -S creat -S open -S openat -S open_by_handle_at -S truncate -S ftruncate -F exit=-EACCES -F auid>=500 -F auid!=4294967295 -k file_access\n",
    "sudo auditctl -a always,exit -F arch=b64 -S creat -S open -S openat -S open_by_handle_at -S truncate -S ftruncate -F exit=-EPERM -F auid>=500 -F auid!=4294967295 -k file_access\n",
    "\n",
    "### Unsuccessful Creation\n",
    "sudo auditctl -a always,exit -F arch=b32 -S creat,link,mknod,mkdir,symlink,mknodat,linkat,symlinkat -F exit=-EACCES -k file_creation\n",
    "sudo auditctl -a always,exit -F arch=b64 -S mkdir,creat,link,symlink,mknod,mknodat,linkat,symlinkat -F exit=-EACCES -k file_creation\n",
    "sudo auditctl -a always,exit -F arch=b32 -S link,mkdir,symlink,mkdirat -F exit=-EPERM -k file_creation\n",
    "sudo auditctl -a always,exit -F arch=b64 -S mkdir,link,symlink,mkdirat -F exit=-EPERM -k file_creation\n",
    "\n",
    "### Unsuccessful Modification\n",
    "sudo auditctl -a always,exit -F arch=b32 -S rename -S renameat -S truncate -S chmod -S setxattr -S lsetxattr -S removexattr -S lremovexattr -F exit=-EACCES -k file_modification\n",
    "sudo auditctl -a always,exit -F arch=b64 -S rename -S renameat -S truncate -S chmod -S setxattr -S lsetxattr -S removexattr -S lremovexattr -F exit=-EACCES -k file_modification\n",
    "sudo auditctl -a always,exit -F arch=b32 -S rename -S renameat -S truncate -S chmod -S setxattr -S lsetxattr -S removexattr -S lremovexattr -F exit=-EPERM -k file_modification\n",
    "sudo auditctl -a always,exit -F arch=b64 -S rename -S renameat -S truncate -S chmod -S setxattr -S lsetxattr -S removexattr -S lremovexattr -F exit=-EPERM -k file_modification\n",
    "\n",
    "# Make the configuration immutable --------------------------------------------\n",
    "##-e 2"
   ]
  },
  {
   "cell_type": "markdown",
   "metadata": {},
   "source": [
    "### Disable jornald from listening to audit messages"
   ]
  },
  {
   "cell_type": "code",
   "execution_count": null,
   "metadata": {},
   "outputs": [],
   "source": [
    "%%bash\n",
    "systemctl mask systemd-journald-audit.socket"
   ]
  },
  {
   "cell_type": "markdown",
   "metadata": {},
   "source": [
    "### Test Configuration and Connectivity to Logstash"
   ]
  },
  {
   "cell_type": "code",
   "execution_count": null,
   "metadata": {},
   "outputs": [],
   "source": [
    "%%bash\n",
    "sudo /usr/share/auditbeat/bin/auditbeat test config -c /etc/auditbeat/auditbeat.yml\n",
    "sudo /usr/share/auditbeat/bin/auditbeat test output -c /etc/auditbeat/auditbeat.yml"
   ]
  },
  {
   "cell_type": "markdown",
   "metadata": {},
   "source": [
    "### Add Kibana Dashboards for Auditbeat"
   ]
  },
  {
   "cell_type": "code",
   "execution_count": null,
   "metadata": {},
   "outputs": [],
   "source": [
    "%%bash\n",
    "sudo auditbeat setup -e \\\n",
    "  -E output.logstash.enabled=false \\\n",
    "  -E output.elasticsearch.hosts=['<ELASTICSEARCH-IP-ADDRESS>:9200'] \\\n",
    "  -E setup.kibana.host=<KIBANA-IP-ADDRESS>:5601 \\\n",
    "  -E output.elasticsearch.username=elastic \\\n",
    "  -E output.elasticsearch.password=elasticsiem"
   ]
  },
  {
   "cell_type": "markdown",
   "metadata": {},
   "source": [
    "### Add template from Auditbeat to elasticsearch"
   ]
  },
  {
   "cell_type": "code",
   "execution_count": null,
   "metadata": {},
   "outputs": [],
   "source": [
    "%%bash\n",
    "\n",
    "sudo auditbeat setup --index-management \\\n",
    "  -E output.logstash.enabled=false \\\n",
    "  -E 'output.elasticsearch.hosts=[\"<ELASTICSEARCH-IP-ADDRESS>:9200\"]' \\\n",
    "  -E output.elasticsearch.username=elastic \\\n",
    "  -E output.elasticsearch.password=elasticsiem\n"
   ]
  },
  {
   "cell_type": "markdown",
   "metadata": {},
   "source": [
    "### List Loaded Templates"
   ]
  },
  {
   "cell_type": "code",
   "execution_count": null,
   "metadata": {},
   "outputs": [],
   "source": [
    "%%bash\n",
    "curl -u elastic:elasticsiem -XGET '<ELASTICSEARCH-IP-ADDRESS>:9200/_template/' | jq 'keys'"
   ]
  },
  {
   "cell_type": "markdown",
   "metadata": {},
   "source": [
    "### Start Auditbeat"
   ]
  },
  {
   "cell_type": "code",
   "execution_count": null,
   "metadata": {},
   "outputs": [],
   "source": [
    "%%bash\n",
    "sudo systemctl start auditbeat\n",
    "sudo systemctl enable auditbeat"
   ]
  },
  {
   "cell_type": "markdown",
   "metadata": {},
   "source": [
    "### Alternatively, you can run Metricbeat in debug mode by using the following command:\n",
    "\n",
    "~~~\n",
    "sudo /usr/share/auditbeat/bin/metricbeat -e -d \"publish\" -c /etc/auditbeat/metricbeat.yml\n",
    "~~~"
   ]
  },
  {
   "cell_type": "code",
   "execution_count": null,
   "metadata": {},
   "outputs": [],
   "source": []
  }
 ],
 "metadata": {
  "kernelspec": {
   "display_name": "Python 3",
   "language": "python",
   "name": "python3"
  },
  "language_info": {
   "codemirror_mode": {
    "name": "ipython",
    "version": 3
   },
   "file_extension": ".py",
   "mimetype": "text/x-python",
   "name": "python",
   "nbconvert_exporter": "python",
   "pygments_lexer": "ipython3",
   "version": "3.6.8"
  }
 },
 "nbformat": 4,
 "nbformat_minor": 4
}

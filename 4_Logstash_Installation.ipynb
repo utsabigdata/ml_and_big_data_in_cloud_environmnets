{
 "cells": [
  {
   "cell_type": "markdown",
   "metadata": {},
   "source": [
    "## Logstash Installation"
   ]
  },
  {
   "cell_type": "markdown",
   "metadata": {},
   "source": [
    "### Installing Logstash\n",
    "\n",
    "##### By now we have a system with Elasticsearch, Kibana, and Nginx installed on it, allowing us to store data, visualize it and secure it throiugh a firewall. Nevertheless, as we collect data, you might want to pre-process it as it arrives to your node.\n",
    "\n",
    "##### Logstash is an open source, server-side data processing pipeline that ingests data from a multitude of sources simultaneously, transforms it, and then sends it to your favorite \"stash.\"\n",
    "\n",
    "##### Logstash needs to be provided with a data input, filters, and a data output. Filters are used for processing data and creating new fields using many of the available filter plugins with logstash. As an example, GROK allows us to derive structure from unstructured data.\n",
    "\n"
   ]
  },
  {
   "cell_type": "code",
   "execution_count": null,
   "metadata": {},
   "outputs": [],
   "source": [
    "%%bash\n",
    "sudo apt install -y openjdk-8-jdk\n",
    "sudo apt install -y logstash"
   ]
  },
  {
   "cell_type": "markdown",
   "metadata": {},
   "source": [
    "### Validate Installation\n",
    "\n",
    "##### We will now check the version of Java that was just installed as well as the status of the logstash service."
   ]
  },
  {
   "cell_type": "code",
   "execution_count": 5,
   "metadata": {},
   "outputs": [
    {
     "name": "stdout",
     "output_type": "stream",
     "text": [
      "● logstash.service - logstash\n",
      "   Loaded: loaded (/etc/systemd/system/logstash.service; disabled; vendor preset: enabled)\n",
      "   Active: inactive (dead)\n",
      "ubuntu   18982  0.0  0.0  14856  1080 ?        S    02:54   0:00 grep logstash\n"
     ]
    },
    {
     "name": "stderr",
     "output_type": "stream",
     "text": [
      "openjdk version \"1.8.0_212\"\n",
      "OpenJDK Runtime Environment (build 1.8.0_212-8u212-b03-0ubuntu1.18.04.1-b03)\n",
      "OpenJDK 64-Bit Server VM (build 25.212-b03, mixed mode)\n"
     ]
    }
   ],
   "source": [
    "%%bash\n",
    "java -version\n",
    "sudo systemctl status logstash\n",
    "ps -aux | grep logstash"
   ]
  },
  {
   "cell_type": "markdown",
   "metadata": {},
   "source": [
    "## Configuring Logstash\n",
    "\n",
    "##### Next we will copy the configuration files for logstash that we downloaded from the repository into logstash's configuration directory \"/etc/logstash/conf.d\". There are 3 configuration files -- namely, input, filters, output.\n",
    "\n",
    "* input: This configuration file defines the port which logstash will be listening to receive data.\n",
    "* filters: In this file we set the filters we want to use to pre-process incomming data using the installed plugin filters. In our case, we will be using GROK to parse teh data and derive structure from usteructured data and geoip to ontain geographical information from an IP address.\n",
    "* output: In this configuration file we define the output to which logstash will send the processed data. In our case we will be sending it to elasticsearch.\n",
    "\n",
    "We will go through each one of these configuration files together."
   ]
  },
  {
   "cell_type": "code",
   "execution_count": null,
   "metadata": {},
   "outputs": [],
   "source": [
    "%%bash\n",
    "sudo cp /etc/logstash/conf.d"
   ]
  },
  {
   "cell_type": "markdown",
   "metadata": {},
   "source": [
    "https://www.elastic.co/guide/en/logstash/current/filter-plugins.html\n",
    "\n",
    "https://www.elastic.co/blog/introducing-the-elastic-common-schema"
   ]
  }
 ],
 "metadata": {
  "kernelspec": {
   "display_name": "Python 3",
   "language": "python",
   "name": "python3"
  },
  "language_info": {
   "codemirror_mode": {
    "name": "ipython",
    "version": 3
   },
   "file_extension": ".py",
   "mimetype": "text/x-python",
   "name": "python",
   "nbconvert_exporter": "python",
   "pygments_lexer": "ipython3",
   "version": "3.6.8"
  }
 },
 "nbformat": 4,
 "nbformat_minor": 4
}
